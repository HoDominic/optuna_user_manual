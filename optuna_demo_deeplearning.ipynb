{
 "cells": [
  {
   "cell_type": "code",
   "execution_count": 3,
   "metadata": {},
   "outputs": [
    {
     "name": "stderr",
     "output_type": "stream",
     "text": [
      "c:\\Users\\domin\\AppData\\Local\\Programs\\Python\\Python310\\lib\\site-packages\\tqdm\\auto.py:22: TqdmWarning: IProgress not found. Please update jupyter and ipywidgets. See https://ipywidgets.readthedocs.io/en/stable/user_install.html\n",
      "  from .autonotebook import tqdm as notebook_tqdm\n"
     ]
    }
   ],
   "source": [
    "%matplotlib inline\n",
    "import os\n",
    "os.environ[\"KERAS_BACKEND\"] = \"tensorflow\"\n",
    "import numpy as np\n",
    "import pandas as pd\n",
    "import matplotlib.pyplot as plt\n",
    "\n",
    "\n",
    "from sklearn.model_selection import train_test_split\n",
    "from sklearn.metrics import classification_report\n",
    "from sklearn.metrics import confusion_matrix, accuracy_score\n",
    "from sklearn.preprocessing import OneHotEncoder\n",
    "from sklearn import preprocessing\n",
    "\n",
    "import matplotlib.image as mpimg\n",
    "from skimage.io import imread, imshow\n",
    "from skimage import data, color, io, filters, morphology,transform, exposure, feature, util\n",
    "from scipy import ndimage\n",
    "#import Tensorflow namespaces\n",
    "import seaborn as sns\n",
    "import optuna\n",
    "\n",
    "\n",
    "import tensorflow as tf\n",
    "from tensorflow.keras.models import Sequential\n",
    "from tensorflow.keras.layers import Activation\n",
    "from tensorflow.keras.optimizers import SGD, Adam\n",
    "from tensorflow.keras.layers import Dense, Dropout, Flatten, BatchNormalization\n",
    "from tensorflow.keras.layers import Conv2D, MaxPooling2D\n",
    "from tensorflow.keras import backend as K\n",
    "from tensorflow.keras.utils import to_categorical\n",
    "from tensorflow.keras.preprocessing import image\n",
    "from tensorflow.keras.callbacks import EarlyStopping, ModelCheckpoint\n",
    "import sklearn.metrics as metrics\n",
    "\n",
    "\n",
    "from tensorflow.keras.applications.vgg19 import VGG19\n",
    "from tensorflow.keras.applications.vgg19 import preprocess_input, decode_predictions\n",
    "import optuna_dashboard\n",
    "\n",
    "import matplotlib.pyplot as plt\n",
    "\n",
    "import pickle\n",
    "import optuna \n",
    "\n",
    "\n",
    "\n",
    "from optuna.integration import TFKerasPruningCallback\n",
    "from optuna.trial import TrialState\n",
    "from optuna.visualization import plot_contour\n",
    "from optuna.visualization import plot_edf\n",
    "from optuna.visualization import plot_intermediate_values\n",
    "from optuna.visualization import plot_optimization_history\n",
    "from optuna.visualization import plot_parallel_coordinate\n",
    "from optuna.visualization import plot_param_importances\n",
    "from optuna.visualization import plot_slice\n",
    "# GPU\n",
    "physical_devices = tf.config.experimental.list_physical_devices('GPU')\n",
    "# tf.config.experimental.set_memory_growth(physical_devices[0], True)"
   ]
  },
  {
   "cell_type": "code",
   "execution_count": 4,
   "metadata": {},
   "outputs": [
    {
     "name": "stdout",
     "output_type": "stream",
     "text": [
      "(50000, 32, 32, 3)\n",
      "(50000, 1)\n"
     ]
    }
   ],
   "source": [
    "#load the  dataset\n",
    "(X_train, y_train), (X_test, y_test) = tf.keras.datasets.cifar10.load_data()\n",
    "\n",
    "\n",
    "\n",
    "\n",
    "print(X_train.shape)\n",
    "print(y_train.shape)\n",
    "\n",
    "\n",
    "\n",
    "\n",
    "\n",
    "\n"
   ]
  },
  {
   "cell_type": "code",
   "execution_count": 5,
   "metadata": {},
   "outputs": [
    {
     "name": "stdout",
     "output_type": "stream",
     "text": [
      "50000 train samples\n",
      "10000 test samples\n"
     ]
    }
   ],
   "source": [
    "\n",
    "#check the number of images in each set\n",
    "print(X_train.shape[0], 'train samples')\n",
    "print(X_test.shape[0], 'test samples')\n",
    "\n",
    "\n",
    "\n"
   ]
  },
  {
   "cell_type": "code",
   "execution_count": 6,
   "metadata": {},
   "outputs": [
    {
     "name": "stdout",
     "output_type": "stream",
     "text": [
      "(40000, 32, 32, 3)\n",
      "(40000, 10)\n",
      "(10000, 32, 32, 3)\n",
      "(10000, 10)\n"
     ]
    }
   ],
   "source": [
    "#preprocess \n",
    "\n",
    "X_train = X_train.astype('float32')\n",
    "X_test = X_test.astype('float32')\n",
    "X_train /= 255\n",
    "X_test /= 255\n",
    "\n",
    "#one hot encoding\n",
    "y_train = to_categorical(y_train)\n",
    "y_test = to_categorical(y_test)\n",
    "\n",
    "#split the data into train and validation\n",
    "X_train, X_test, y_train, y_test = train_test_split(X_train, y_train, test_size=0.2, random_state=42)\n",
    "\n",
    "\n",
    "#check the shape of the data\n",
    "print(X_train.shape)\n",
    "print(y_train.shape)\n",
    "print(X_test.shape)\n",
    "print(y_test.shape)\n",
    "\n",
    "\n",
    "\n",
    "\n",
    "\n",
    "\n",
    "\n",
    "\n"
   ]
  },
  {
   "cell_type": "code",
   "execution_count": 7,
   "metadata": {},
   "outputs": [],
   "source": [
    "#helper functions to plot training of baseline model\n",
    "\n",
    "# Plot history\n",
    "def histplot(history, name):\n",
    "    fig, axs = plt.subplots(1,2, figsize=(12,6))\n",
    "    print(fig)\n",
    "\n",
    "    axs[0].plot(history.history['loss'],'red',linewidth=3.0, label=\"loss\")\n",
    "    axs[0].plot(history.history['val_loss'],'blue',linewidth=3.0, label=\"val_loss\")\n",
    "    axs[0].legend()\n",
    "    axs[0].set_xlabel('epochs')\n",
    "    axs[0].set_ylabel('Training error')\n",
    "    axs[0].set_ylim((0,1.5))\n",
    "    axs[0].grid()\n",
    "    axs[0].set_title(name)\n",
    "\n",
    "    axs[1].plot(history.history['accuracy'],'red',linewidth=3.0, label=\"accuracy\")\n",
    "    axs[1].plot(history.history['val_accuracy'],'blue',linewidth=3.0, label=\"val_accuracy\")\n",
    "    axs[1].legend()\n",
    "    axs[1].set_xlabel('epochs')\n",
    "    axs[1].set_ylabel('Accuracy')\n",
    "    axs[1].grid()\n",
    "    fig.savefig(name+'.png')\n",
    "\n",
    "\n",
    "def PlotRoc_pos(probs, y_test):\n",
    "    preds = probs[:,1]\n",
    "    fpr, tpr, threshold = metrics.roc_curve(y_test, preds)\n",
    "    roc_auc = metrics.auc(fpr, tpr)\n",
    "\n",
    "    fig, ax = plt.subplots(1,2,figsize=(8,4))\n",
    "    fig.suptitle('Receiver Operating Characteristic Positive class')\n",
    "    \n",
    "    ax[0].plot(fpr, tpr, 'b', label = 'AUC = %0.2f' % roc_auc)\n",
    "    ax[0].legend(loc = 'lower right')\n",
    "    ax[0].plot([0, 1], [0, 1],'r--')\n",
    "    ax[0].set_xlim([0, 1])\n",
    "    ax[0].set_ylim([0, 1])\n",
    "    ax[0].set_ylabel('True Positive Rate')\n",
    "    ax[0].set_xlabel('False Positive Rate')\n",
    "    ax[0].grid()\n",
    "    \n",
    "    ax[1].plot(threshold, fpr, label='fpr')\n",
    "    ax[1].plot(threshold, tpr, label='tpr')\n",
    "    ax[1].legend()\n",
    "    ax[1].grid()\n",
    "    ax[1].set_xlim([0, 1])\n",
    "    ax[1].set_ylim([0, 1])\n",
    "    ax[1].set_ylabel('Rate')\n",
    "    ax[1].set_xlabel('Threshold')\n",
    "    plt.show()\n",
    "    return fpr, tpr, threshold \n",
    "    \n",
    "def PlotRoc_neg(probs, y_test):\n",
    "\n",
    "    preds = probs[:,1]\n",
    "    fnr, tnr, threshold = metrics.roc_curve(y_test, preds, pos_label=0)\n",
    "    roc_auc = metrics.auc(fnr, tnr)\n",
    "\n",
    "    fig, ax = plt.subplots(1,2,figsize=(8,4))\n",
    "    fig.suptitle('Receiver Operating Characteristic Negative class')\n",
    "    \n",
    "    ax[0].plot(fnr, tnr, 'b', label = 'AUC = %0.2f' % roc_auc)\n",
    "    ax[0].legend(loc = 'lower right')\n",
    "    ax[0].plot([0, 1], [0, 1],'r--')\n",
    "    ax[0].set_xlim([0, 1])\n",
    "    ax[0].set_ylim([0, 1])\n",
    "    ax[0].set_ylabel('True Negative Rate')\n",
    "    ax[0].set_xlabel('False Negative Rate')\n",
    "    ax[0].grid()\n",
    "    \n",
    "    ax[1].plot(threshold, fnr, label='fnr')\n",
    "    ax[1].plot(threshold, tnr, label='tnr')\n",
    "    ax[1].legend()\n",
    "    ax[1].grid()\n",
    "    ax[1].set_xlim([0, 1])\n",
    "    ax[1].set_ylim([0, 1])\n",
    "    ax[1].set_ylabel('Rate')\n",
    "    ax[1].set_xlabel('Threshold')\n",
    "    plt.show()\n",
    "    return fnr, tnr, threshold"
   ]
  },
  {
   "cell_type": "code",
   "execution_count": 8,
   "metadata": {},
   "outputs": [
    {
     "data": {
      "text/plain": [
       "(32, 32, 3)"
      ]
     },
     "execution_count": 8,
     "metadata": {},
     "output_type": "execute_result"
    }
   ],
   "source": [
    "X_train.shape[1:]"
   ]
  },
  {
   "attachments": {},
   "cell_type": "markdown",
   "metadata": {},
   "source": [
    "### Base CNN model\n",
    "We will start with a base Convolutional Neural network model.\n",
    "\n",
    "By using early stopping callback, we can avoid overfitting and save time if the model is not improving.\n",
    "We save the best model  with model checkpoint callback to use it later for testing."
   ]
  },
  {
   "cell_type": "code",
   "execution_count": 56,
   "metadata": {},
   "outputs": [
    {
     "name": "stdout",
     "output_type": "stream",
     "text": [
      "Model: \"sequential_64\"\n",
      "_________________________________________________________________\n",
      " Layer (type)                Output Shape              Param #   \n",
      "=================================================================\n",
      " conv2d_192 (Conv2D)         (None, 30, 30, 64)        1792      \n",
      "                                                                 \n",
      " max_pooling2d_128 (MaxPooli  (None, 15, 15, 64)       0         \n",
      " ng2D)                                                           \n",
      "                                                                 \n",
      " batch_normalization_128 (Ba  (None, 15, 15, 64)       256       \n",
      " tchNormalization)                                               \n",
      "                                                                 \n",
      " dropout_448 (Dropout)       (None, 15, 15, 64)        0         \n",
      "                                                                 \n",
      " conv2d_193 (Conv2D)         (None, 13, 13, 64)        36928     \n",
      "                                                                 \n",
      " max_pooling2d_129 (MaxPooli  (None, 6, 6, 64)         0         \n",
      " ng2D)                                                           \n",
      "                                                                 \n",
      " batch_normalization_129 (Ba  (None, 6, 6, 64)         256       \n",
      " tchNormalization)                                               \n",
      "                                                                 \n",
      " dropout_449 (Dropout)       (None, 6, 6, 64)          0         \n",
      "                                                                 \n",
      " conv2d_194 (Conv2D)         (None, 4, 4, 64)          36928     \n",
      "                                                                 \n",
      " flatten_64 (Flatten)        (None, 1024)              0         \n",
      "                                                                 \n",
      " dropout_450 (Dropout)       (None, 1024)              0         \n",
      "                                                                 \n",
      " dense_320 (Dense)           (None, 128)               131200    \n",
      "                                                                 \n",
      " dropout_451 (Dropout)       (None, 128)               0         \n",
      "                                                                 \n",
      " dense_321 (Dense)           (None, 128)               16512     \n",
      "                                                                 \n",
      " dropout_452 (Dropout)       (None, 128)               0         \n",
      "                                                                 \n",
      " dense_322 (Dense)           (None, 128)               16512     \n",
      "                                                                 \n",
      " dropout_453 (Dropout)       (None, 128)               0         \n",
      "                                                                 \n",
      " dense_323 (Dense)           (None, 128)               16512     \n",
      "                                                                 \n",
      " dropout_454 (Dropout)       (None, 128)               0         \n",
      "                                                                 \n",
      " dense_324 (Dense)           (None, 10)                1290      \n",
      "                                                                 \n",
      "=================================================================\n",
      "Total params: 258,186\n",
      "Trainable params: 257,930\n",
      "Non-trainable params: 256\n",
      "_________________________________________________________________\n"
     ]
    },
    {
     "name": "stderr",
     "output_type": "stream",
     "text": [
      "WARNING:absl:Found untraced functions such as _jit_compiled_convolution_op, _jit_compiled_convolution_op, _jit_compiled_convolution_op while saving (showing 3 of 3). These functions will not be directly callable after loading.\n"
     ]
    },
    {
     "name": "stdout",
     "output_type": "stream",
     "text": [
      "INFO:tensorflow:Assets written to: best_model_base1_saved\\assets\n"
     ]
    },
    {
     "name": "stderr",
     "output_type": "stream",
     "text": [
      "INFO:tensorflow:Assets written to: best_model_base1_saved\\assets\n"
     ]
    },
    {
     "name": "stdout",
     "output_type": "stream",
     "text": [
      "Epoch 1/20\n",
      "1250/1250 [==============================] - ETA: 0s - loss: 1.8944 - accuracy: 0.2725\n",
      "Epoch 1: val_accuracy improved from -inf to 0.42910, saving model to best_model_base1.h5\n",
      "1250/1250 [==============================] - 46s 36ms/step - loss: 1.8944 - accuracy: 0.2725 - val_loss: 1.5597 - val_accuracy: 0.4291\n",
      "Epoch 2/20\n",
      "1250/1250 [==============================] - ETA: 0s - loss: 1.6012 - accuracy: 0.4090\n",
      "Epoch 2: val_accuracy improved from 0.42910 to 0.46180, saving model to best_model_base1.h5\n",
      "1250/1250 [==============================] - 43s 35ms/step - loss: 1.6012 - accuracy: 0.4090 - val_loss: 1.4709 - val_accuracy: 0.4618\n",
      "Epoch 3/20\n",
      "1249/1250 [============================>.] - ETA: 0s - loss: 1.4687 - accuracy: 0.4728\n",
      "Epoch 3: val_accuracy improved from 0.46180 to 0.47340, saving model to best_model_base1.h5\n",
      "1250/1250 [==============================] - 45s 36ms/step - loss: 1.4688 - accuracy: 0.4727 - val_loss: 1.5304 - val_accuracy: 0.4734\n",
      "Epoch 4/20\n",
      "1250/1250 [==============================] - ETA: 0s - loss: 1.3703 - accuracy: 0.5189\n",
      "Epoch 4: val_accuracy did not improve from 0.47340\n",
      "1250/1250 [==============================] - 43s 35ms/step - loss: 1.3703 - accuracy: 0.5189 - val_loss: 1.4982 - val_accuracy: 0.4633\n",
      "Epoch 5/20\n",
      "1249/1250 [============================>.] - ETA: 0s - loss: 1.3059 - accuracy: 0.5460\n",
      "Epoch 5: val_accuracy improved from 0.47340 to 0.54670, saving model to best_model_base1.h5\n",
      "1250/1250 [==============================] - 44s 35ms/step - loss: 1.3059 - accuracy: 0.5460 - val_loss: 1.3385 - val_accuracy: 0.5467\n",
      "Epoch 6/20\n",
      "1249/1250 [============================>.] - ETA: 0s - loss: 1.2482 - accuracy: 0.5736\n",
      "Epoch 6: val_accuracy improved from 0.54670 to 0.61490, saving model to best_model_base1.h5\n",
      "1250/1250 [==============================] - 44s 35ms/step - loss: 1.2483 - accuracy: 0.5735 - val_loss: 1.1064 - val_accuracy: 0.6149\n",
      "Epoch 7/20\n",
      "1250/1250 [==============================] - ETA: 0s - loss: 1.1999 - accuracy: 0.5910\n",
      "Epoch 7: val_accuracy did not improve from 0.61490\n",
      "1250/1250 [==============================] - 44s 35ms/step - loss: 1.1999 - accuracy: 0.5910 - val_loss: 1.4756 - val_accuracy: 0.4901\n",
      "Epoch 8/20\n",
      "1249/1250 [============================>.] - ETA: 0s - loss: 1.1810 - accuracy: 0.6005\n",
      "Epoch 8: val_accuracy did not improve from 0.61490\n",
      "1250/1250 [==============================] - 44s 35ms/step - loss: 1.1813 - accuracy: 0.6004 - val_loss: 1.2761 - val_accuracy: 0.5759\n",
      "Epoch 9/20\n",
      "1250/1250 [==============================] - ETA: 0s - loss: 1.1501 - accuracy: 0.6107\n",
      "Epoch 9: val_accuracy did not improve from 0.61490\n",
      "1250/1250 [==============================] - 47s 37ms/step - loss: 1.1501 - accuracy: 0.6107 - val_loss: 1.2156 - val_accuracy: 0.5746\n",
      "Epoch 10/20\n",
      "1249/1250 [============================>.] - ETA: 0s - loss: 1.1197 - accuracy: 0.6259\n",
      "Epoch 10: val_accuracy improved from 0.61490 to 0.64360, saving model to best_model_base1.h5\n",
      "1250/1250 [==============================] - 45s 36ms/step - loss: 1.1195 - accuracy: 0.6259 - val_loss: 1.0325 - val_accuracy: 0.6436\n",
      "Epoch 11/20\n",
      "1249/1250 [============================>.] - ETA: 0s - loss: 1.1065 - accuracy: 0.6289\n",
      "Epoch 11: val_accuracy did not improve from 0.64360\n",
      "1250/1250 [==============================] - 44s 35ms/step - loss: 1.1068 - accuracy: 0.6289 - val_loss: 1.0472 - val_accuracy: 0.6376\n",
      "Epoch 12/20\n",
      "1250/1250 [==============================] - ETA: 0s - loss: 1.0791 - accuracy: 0.6363\n",
      "Epoch 12: val_accuracy did not improve from 0.64360\n",
      "1250/1250 [==============================] - 44s 35ms/step - loss: 1.0791 - accuracy: 0.6363 - val_loss: 1.1839 - val_accuracy: 0.5846\n",
      "Epoch 13/20\n",
      "1249/1250 [============================>.] - ETA: 0s - loss: 1.0718 - accuracy: 0.6368\n",
      "Epoch 13: val_accuracy did not improve from 0.64360\n",
      "1250/1250 [==============================] - 44s 35ms/step - loss: 1.0717 - accuracy: 0.6369 - val_loss: 1.0648 - val_accuracy: 0.6413\n",
      "Epoch 14/20\n",
      "1249/1250 [============================>.] - ETA: 0s - loss: 1.0556 - accuracy: 0.6453\n",
      "Epoch 14: val_accuracy did not improve from 0.64360\n",
      "1250/1250 [==============================] - 44s 36ms/step - loss: 1.0556 - accuracy: 0.6453 - val_loss: 1.0360 - val_accuracy: 0.6339\n",
      "Epoch 15/20\n",
      "1249/1250 [============================>.] - ETA: 0s - loss: 1.0486 - accuracy: 0.6537\n",
      "Epoch 15: val_accuracy did not improve from 0.64360\n",
      "1250/1250 [==============================] - 44s 35ms/step - loss: 1.0490 - accuracy: 0.6536 - val_loss: 1.2347 - val_accuracy: 0.5768\n",
      "Epoch 15: early stopping\n"
     ]
    }
   ],
   "source": [
    "# CNN model\n",
    "# Convolutional Neural Network\n",
    "\n",
    "\n",
    "# Convolutional Neural Network\n",
    "batch_size = 32\n",
    "num_classes = 10\n",
    "epochs = 20\n",
    "\n",
    "# create the model\n",
    "model = Sequential()\n",
    "model.add(Conv2D(64, kernel_size=(3, 3), activation='relu', input_shape=X_train.shape[1:]))\n",
    "model.add(MaxPooling2D(pool_size=(2, 2)))\n",
    "model.add(BatchNormalization())\n",
    "model.add(Dropout(0.3))\n",
    "\n",
    "model.add(Conv2D(64, (3, 3), activation='relu'))\n",
    "model.add(MaxPooling2D(pool_size=(2, 2)))\n",
    "model.add(BatchNormalization())\n",
    "model.add(Dropout(0.3))\n",
    "\n",
    "model.add(Conv2D(64, (3, 3), activation='relu'))\n",
    "model.add(Flatten())\n",
    "model.add(Dropout(0.3))\n",
    "\n",
    "model.add(Dense(128, activation='relu'))\n",
    "model.add(Dropout(0.3))\n",
    "\n",
    "model.add(Dense(128, activation='relu'))\n",
    "model.add(Dropout(0.3))\n",
    "\n",
    "model.add(Dense(128, activation='relu'))\n",
    "model.add(Dropout(0.3))\n",
    "\n",
    "\n",
    "\n",
    "model.add(Dense(128, activation='relu'))\n",
    "model.add(Dropout(0.3))\n",
    "model.add(Dense(num_classes, activation='softmax'))\n",
    "\n",
    "\n",
    "\n",
    "model.compile(loss='categorical_crossentropy', optimizer=Adam(), metrics=['accuracy'])\n",
    "model.summary()\n",
    "\n",
    "\n",
    "\n",
    "# Train the model\n",
    "\n",
    "\n",
    "#checkpoint (save best model)\n",
    "mc = ModelCheckpoint('best_model_base1.h5', monitor='val_accuracy', mode='max', verbose=1, save_best_only=True)\n",
    "#early stopping\n",
    "es = EarlyStopping(monitor='val_accuracy', mode='max', verbose=1, patience = 5)\n",
    "\n",
    "model.save('best_model_base1_saved')\n",
    "\n",
    "\n",
    "\n",
    "\n",
    "history = model.fit(X_train, y_train, batch_size=batch_size, epochs=epochs, validation_data=(X_test, y_test) , shuffle=True, callbacks=[mc, es])\n",
    "\n",
    "\n",
    "\n",
    "\n",
    "\n",
    "\n",
    "\n",
    "\n",
    "\n",
    "\n",
    "\n",
    "\n"
   ]
  },
  {
   "cell_type": "code",
   "execution_count": 57,
   "metadata": {},
   "outputs": [
    {
     "name": "stdout",
     "output_type": "stream",
     "text": [
      "Figure(864x432)\n"
     ]
    },
    {
     "data": {
      "image/png": "[encoded data removed]",
      "text/plain": [
       "<Figure size 864x432 with 2 Axes>"
      ]
     },
     "metadata": {
      "needs_background": "light"
     },
     "output_type": "display_data"
    }
   ],
   "source": [
    "histplot(history, \"First test base model (32x32)\")    "
   ]
  },
  {
   "cell_type": "code",
   "execution_count": 58,
   "metadata": {},
   "outputs": [],
   "source": [
    "# load best model\n",
    "model.load_weights('best_model_base1.h5')"
   ]
  },
  {
   "cell_type": "code",
   "execution_count": 59,
   "metadata": {},
   "outputs": [
    {
     "name": "stdout",
     "output_type": "stream",
     "text": [
      "Train: 0.670, Test: 0.644\n",
      "313/313 [==============================] - 3s 8ms/step\n",
      "Test accuracy: on test data 0.6436\n"
     ]
    }
   ],
   "source": [
    "# evaluate the model\n",
    "_, train_acc = model.evaluate(X_train, y_train, verbose=0)\n",
    "_, test_acc = model.evaluate(X_test, y_test, verbose=0)\n",
    "print('Train: %.3f, Test: %.3f' % (train_acc, test_acc))\n",
    "\n",
    "\n",
    "\n",
    "# make prediction.\n",
    "pred = model.predict(X_test)\n",
    "print('Test accuracy: on test data', accuracy_score(y_test.argmax(axis=1), pred.argmax(axis=1)))\n",
    "\n",
    "\n",
    "\n"
   ]
  },
  {
   "attachments": {},
   "cell_type": "markdown",
   "metadata": {},
   "source": [
    "### Results of base model\n",
    "The base model has an accuracy of around 64.36% "
   ]
  },
  {
   "attachments": {},
   "cell_type": "markdown",
   "metadata": {},
   "source": [
    "## Gridsearch on model with Optuna\n",
    "We now use optuna to search for the best hyperparameters for the model using grid search.\n",
    "\n",
    "\n",
    " 1) we define the cnn model (model_gridsearch)<br>\n",
    " 2) In the objective function we define the hyperparameters/search space we want to optimize and the model we want to optimize<br>\n",
    " 2.1 We save the best model_weights and use pruning/ pruning_callback to stop the training if the accuracy is not improving to save time and resources<br>\n",
    " 3) We then run the optuna study and print the best parameters and the best accuracy, as sampler we use GridSampler to indicate we want to use grid search\n",
    " 4) We then load the best model weights and evaluate the model \n"
   ]
  },
  {
   "cell_type": "code",
   "execution_count": 80,
   "metadata": {},
   "outputs": [],
   "source": [
    "\n",
    "# CNN model\n",
    "# Convolutional Neural Network optuna\n",
    "\n",
    "def model_gridsearch():\n",
    "\n",
    "    batch_size = 32\n",
    "    num_classes = 10\n",
    "    epochs = 10\n",
    "\n",
    "    model = Sequential()\n",
    "    model.add(Conv2D(64, kernel_size=(3, 3), activation='relu', input_shape=X_train.shape[1:]))\n",
    "    model.add(MaxPooling2D(pool_size=(2, 2)))\n",
    "    model.add(BatchNormalization())\n",
    "    model.add(Dropout(0.3))\n",
    "\n",
    "    model.add(Conv2D(64, (3, 3), activation='relu'))\n",
    "    model.add(MaxPooling2D(pool_size=(2, 2)))\n",
    "    model.add(BatchNormalization())\n",
    "    model.add(Dropout(0.3))\n",
    "\n",
    "    model.add(Conv2D(64, (3, 3), activation='relu'))\n",
    "    model.add(Flatten())\n",
    "    model.add(Dropout(0.3))\n",
    "\n",
    "    model.add(Dense(128, activation='relu'))\n",
    "    model.add(Dropout(0.3))\n",
    "\n",
    "    model.add(Dense(128, activation='relu'))\n",
    "    model.add(Dropout(0.3))\n",
    "\n",
    "    model.add(Dense(128, activation='relu'))\n",
    "    model.add(Dropout(0.3))\n",
    "\n",
    "\n",
    "\n",
    "    model.add(Dense(128, activation='relu'))\n",
    "    model.add(Dropout(0.3))\n",
    "    model.add(Dense(num_classes, activation='softmax'))\n",
    "    return model\n",
    "\n",
    "\n",
    "\n",
    "\n",
    "\n",
    "\n",
    "\n"
   ]
  },
  {
   "cell_type": "code",
   "execution_count": 81,
   "metadata": {},
   "outputs": [],
   "source": [
    "# grid search met optuna\n",
    "def objective(trial):\n",
    "    model = model_gridsearch()\n",
    "    model.compile(loss='categorical_crossentropy', optimizer=Adam(), metrics=['accuracy'])\n",
    "    \n",
    "   \n",
    "    #grid search  space\n",
    "\n",
    "\n",
    "\n",
    "    batch_size = trial.suggest_categorical('batch_size', [32, 64, 128])\n",
    "    epochs = trial.suggest_categorical('epochs', [10, 20, 30])\n",
    "    dense_layer = trial.suggest_int('dense_layer', 1, 6)\n",
    "    conv_layer = trial.suggest_int('conv_layer', 1, 5)\n",
    "    dense_nodes = trial.suggest_categorical('dense_nodes', [32,64,128,256])\n",
    "    conv_nodes = trial.suggest_categorical('conv_nodes',[ 8,16,32,64])\n",
    "    dropout = trial.suggest_float('dropout', 0.1, 0.5)\n",
    "\n",
    "    \n",
    "    \n",
    "\n",
    "    #checkpoint\n",
    "    mc = ModelCheckpoint('best_model_optuna_gridsearch.h5', monitor='val_accuracy', mode='max', verbose=1, save_best_only=True)\n",
    "   \n",
    "    #pruning\n",
    "    pruning_callback = optuna.integration.KerasPruningCallback(trial, 'val_accuracy')\n",
    "\n",
    "    #early stopping\n",
    "    # es = EarlyStopping(monitor='val_accuracy', mode='max', verbose=1, patience = 5)\n",
    "    history = model.fit(X_train, y_train, batch_size=batch_size, epochs=epochs,  validation_data=(X_test, y_test) , shuffle=True, callbacks=[mc, es, pruning_callback])\n",
    "\n",
    "\n",
    "    \n",
    "    #save model weights\n",
    "    model.save('best_model_optuna_gridsearch1_saved')\n",
    "\n",
    "    \n",
    "\n",
    "    #save best model weights\n",
    "    model.save_weights('best_model_optuna_gridsearch1_weights')\n",
    "\n",
    "    \n",
    "    return history.history['val_accuracy'][-1]\n",
    "\n",
    "\n",
    "\n",
    "    \n",
    "\n"
   ]
  },
  {
   "attachments": {},
   "cell_type": "markdown",
   "metadata": {},
   "source": [
    "We run 20 trials here, but you can run more if you want. Here we set GridSampler to use Grid search.\n",
    "For more information on Samplers, <br> have a look at the [Optuna sampler documentation](https://optuna.readthedocs.io/en/v2.0.0/reference/samplers.html)"
   ]
  },
  {
   "cell_type": "code",
   "execution_count": 83,
   "metadata": {},
   "outputs": [
    {
     "name": "stderr",
     "output_type": "stream",
     "text": [
      "\u001b[32m[I 2023-01-23 22:49:00,749]\u001b[0m A new study created in RDB with name: optuna_gridsearch1\u001b[0m\n",
      "C:\\Users\\domin\\AppData\\Local\\Temp\\ipykernel_17804\\1222758937.py:37: FutureWarning:\n",
      "\n",
      "KerasPruningCallback has been deprecated in v2.1.0. This feature will be removed in v4.0.0. See https://github.com/optuna/optuna/releases/tag/v2.1.0. Recent Keras release (2.4.0) simply redirects all APIs in the standalone keras package to point to tf.keras. There is now only one Keras: tf.keras. There may be some breaking changes for some workflows by upgrading to keras 2.4.0. Test before upgrading. REF: https://github.com/keras-team/keras/releases/tag/2.4.0. There is an alternative callback function that can be used instead: :class:`~optuna.integration.TFKerasPruningCallback`\n",
      "\n"
     ]
    },
    {
     "name": "stdout",
     "output_type": "stream",
     "text": [
      "Epoch 1/10\n",
      "1250/1250 [==============================] - ETA: 0s - loss: 1.8905 - accuracy: 0.2859\n",
      "Epoch 1: val_accuracy improved from -inf to 0.39000, saving model to best_model_optuna_gridsearch.h5\n",
      "1250/1250 [==============================] - 42s 33ms/step - loss: 1.8905 - accuracy: 0.2859 - val_loss: 1.6209 - val_accuracy: 0.3900\n",
      "Epoch 2/10\n",
      "1249/1250 [============================>.] - ETA: 0s - loss: 1.5684 - accuracy: 0.4297\n",
      "Epoch 2: val_accuracy did not improve from 0.39000\n",
      "1250/1250 [==============================] - 46s 37ms/step - loss: 1.5683 - accuracy: 0.4298 - val_loss: 1.8105 - val_accuracy: 0.3784\n",
      "Epoch 3/10\n",
      "1249/1250 [============================>.] - ETA: 0s - loss: 1.4504 - accuracy: 0.4836\n",
      "Epoch 3: val_accuracy improved from 0.39000 to 0.50120, saving model to best_model_optuna_gridsearch.h5\n",
      "1250/1250 [==============================] - 45s 36ms/step - loss: 1.4506 - accuracy: 0.4836 - val_loss: 1.3558 - val_accuracy: 0.5012\n",
      "Epoch 4/10\n",
      "1249/1250 [============================>.] - ETA: 0s - loss: 1.3546 - accuracy: 0.5292\n",
      "Epoch 4: val_accuracy improved from 0.50120 to 0.50210, saving model to best_model_optuna_gridsearch.h5\n",
      "1250/1250 [==============================] - 45s 36ms/step - loss: 1.3543 - accuracy: 0.5293 - val_loss: 1.4560 - val_accuracy: 0.5021\n",
      "Epoch 5/10\n",
      "1250/1250 [==============================] - ETA: 0s - loss: 1.2861 - accuracy: 0.5577\n",
      "Epoch 5: val_accuracy improved from 0.50210 to 0.58880, saving model to best_model_optuna_gridsearch.h5\n",
      "1250/1250 [==============================] - 43s 34ms/step - loss: 1.2861 - accuracy: 0.5577 - val_loss: 1.2062 - val_accuracy: 0.5888\n",
      "Epoch 6/10\n",
      "1250/1250 [==============================] - ETA: 0s - loss: 1.2422 - accuracy: 0.5769\n",
      "Epoch 6: val_accuracy improved from 0.58880 to 0.60940, saving model to best_model_optuna_gridsearch.h5\n",
      "1250/1250 [==============================] - 43s 34ms/step - loss: 1.2422 - accuracy: 0.5769 - val_loss: 1.1102 - val_accuracy: 0.6094\n",
      "Epoch 7/10\n",
      "1250/1250 [==============================] - ETA: 0s - loss: 1.1929 - accuracy: 0.5960\n",
      "Epoch 7: val_accuracy did not improve from 0.60940\n",
      "1250/1250 [==============================] - 45s 36ms/step - loss: 1.1929 - accuracy: 0.5960 - val_loss: 1.3584 - val_accuracy: 0.5187\n",
      "Epoch 8/10\n",
      "1250/1250 [==============================] - ETA: 0s - loss: 1.1621 - accuracy: 0.6055\n",
      "Epoch 8: val_accuracy did not improve from 0.60940\n",
      "1250/1250 [==============================] - 43s 34ms/step - loss: 1.1621 - accuracy: 0.6055 - val_loss: 1.2764 - val_accuracy: 0.5822\n",
      "Epoch 9/10\n",
      "1250/1250 [==============================] - ETA: 0s - loss: 1.1320 - accuracy: 0.6170\n",
      "Epoch 9: val_accuracy did not improve from 0.60940\n",
      "1250/1250 [==============================] - 45s 36ms/step - loss: 1.1320 - accuracy: 0.6170 - val_loss: 1.1795 - val_accuracy: 0.5785\n",
      "Epoch 10/10\n",
      "1249/1250 [============================>.] - ETA: 0s - loss: 1.1161 - accuracy: 0.6269\n",
      "Epoch 10: val_accuracy improved from 0.60940 to 0.65210, saving model to best_model_optuna_gridsearch.h5\n",
      "1250/1250 [==============================] - 43s 34ms/step - loss: 1.1160 - accuracy: 0.6270 - val_loss: 1.0027 - val_accuracy: 0.6521\n",
      "Time taken to train:  439.3527264595032\n"
     ]
    },
    {
     "name": "stderr",
     "output_type": "stream",
     "text": [
      "WARNING:absl:Found untraced functions such as _jit_compiled_convolution_op, _jit_compiled_convolution_op, _jit_compiled_convolution_op while saving (showing 3 of 3). These functions will not be directly callable after loading.\n"
     ]
    },
    {
     "name": "stdout",
     "output_type": "stream",
     "text": [
      "INFO:tensorflow:Assets written to: best_model_optuna_gridsearch1_saved\\assets\n"
     ]
    },
    {
     "name": "stderr",
     "output_type": "stream",
     "text": [
      "INFO:tensorflow:Assets written to: best_model_optuna_gridsearch1_saved\\assets\n",
      "\u001b[32m[I 2023-01-23 22:56:22,524]\u001b[0m Trial 0 finished with value: 0.6521000266075134 and parameters: {'batch_size': 32, 'epochs': 10, 'dense_layer': 1, 'conv_layer': 5, 'dense_nodes': 256, 'conv_nodes': 8, 'dropout': 0.2}. Best is trial 0 with value: 0.6521000266075134.\u001b[0m\n",
      "C:\\Users\\domin\\AppData\\Local\\Temp\\ipykernel_17804\\1222758937.py:37: FutureWarning:\n",
      "\n",
      "KerasPruningCallback has been deprecated in v2.1.0. This feature will be removed in v4.0.0. See https://github.com/optuna/optuna/releases/tag/v2.1.0. Recent Keras release (2.4.0) simply redirects all APIs in the standalone keras package to point to tf.keras. There is now only one Keras: tf.keras. There may be some breaking changes for some workflows by upgrading to keras 2.4.0. Test before upgrading. REF: https://github.com/keras-team/keras/releases/tag/2.4.0. There is an alternative callback function that can be used instead: :class:`~optuna.integration.TFKerasPruningCallback`\n",
      "\n"
     ]
    },
    {
     "name": "stdout",
     "output_type": "stream",
     "text": [
      "Epoch 1/10\n",
      "1250/1250 [==============================] - ETA: 0s - loss: 1.8892 - accuracy: 0.2830\n",
      "Epoch 1: val_accuracy improved from -inf to 0.42590, saving model to best_model_optuna_gridsearch.h5\n",
      "1250/1250 [==============================] - 46s 36ms/step - loss: 1.8892 - accuracy: 0.2830 - val_loss: 1.5626 - val_accuracy: 0.4259\n",
      "Epoch 2/10\n",
      "1250/1250 [==============================] - ETA: 0s - loss: 1.5818 - accuracy: 0.4173\n",
      "Epoch 2: val_accuracy improved from 0.42590 to 0.47480, saving model to best_model_optuna_gridsearch.h5\n",
      "1250/1250 [==============================] - 46s 37ms/step - loss: 1.5818 - accuracy: 0.4173 - val_loss: 1.4220 - val_accuracy: 0.4748\n",
      "Epoch 3/10\n",
      "1249/1250 [============================>.] - ETA: 0s - loss: 1.4479 - accuracy: 0.4838\n",
      "Epoch 3: val_accuracy improved from 0.47480 to 0.55870, saving model to best_model_optuna_gridsearch.h5\n",
      "1250/1250 [==============================] - 46s 37ms/step - loss: 1.4478 - accuracy: 0.4839 - val_loss: 1.2693 - val_accuracy: 0.5587\n",
      "Epoch 4/10\n",
      "1250/1250 [==============================] - ETA: 0s - loss: 1.3599 - accuracy: 0.5222\n",
      "Epoch 4: val_accuracy improved from 0.55870 to 0.56300, saving model to best_model_optuna_gridsearch.h5\n",
      "1250/1250 [==============================] - 45s 36ms/step - loss: 1.3599 - accuracy: 0.5222 - val_loss: 1.2282 - val_accuracy: 0.5630\n",
      "Epoch 5/10\n",
      "1250/1250 [==============================] - ETA: 0s - loss: 1.2927 - accuracy: 0.5512\n",
      "Epoch 5: val_accuracy did not improve from 0.56300\n",
      "1250/1250 [==============================] - 45s 36ms/step - loss: 1.2927 - accuracy: 0.5512 - val_loss: 1.2893 - val_accuracy: 0.5441\n",
      "Epoch 6/10\n",
      "1250/1250 [==============================] - ETA: 0s - loss: 1.2508 - accuracy: 0.5739\n",
      "Epoch 6: val_accuracy improved from 0.56300 to 0.57820, saving model to best_model_optuna_gridsearch.h5\n",
      "1250/1250 [==============================] - 44s 35ms/step - loss: 1.2508 - accuracy: 0.5739 - val_loss: 1.2396 - val_accuracy: 0.5782\n",
      "Epoch 7/10\n",
      "1249/1250 [============================>.] - ETA: 0s - loss: 1.2140 - accuracy: 0.5881\n",
      "Epoch 7: val_accuracy improved from 0.57820 to 0.60670, saving model to best_model_optuna_gridsearch.h5\n",
      "1250/1250 [==============================] - 43s 34ms/step - loss: 1.2138 - accuracy: 0.5882 - val_loss: 1.1416 - val_accuracy: 0.6067\n",
      "Epoch 8/10\n",
      "1250/1250 [==============================] - ETA: 0s - loss: 1.1665 - accuracy: 0.6036\n",
      "Epoch 8: val_accuracy did not improve from 0.60670\n",
      "1250/1250 [==============================] - 43s 35ms/step - loss: 1.1665 - accuracy: 0.6036 - val_loss: 1.1560 - val_accuracy: 0.6003\n",
      "Epoch 9/10\n",
      "1249/1250 [============================>.] - ETA: 0s - loss: 1.1460 - accuracy: 0.6139\n",
      "Epoch 9: val_accuracy did not improve from 0.60670\n",
      "1250/1250 [==============================] - 41s 33ms/step - loss: 1.1460 - accuracy: 0.6139 - val_loss: 1.1279 - val_accuracy: 0.6053\n",
      "Epoch 10/10\n",
      "1250/1250 [==============================] - ETA: 0s - loss: 1.1218 - accuracy: 0.6201\n",
      "Epoch 10: val_accuracy improved from 0.60670 to 0.65790, saving model to best_model_optuna_gridsearch.h5\n",
      "1250/1250 [==============================] - 45s 36ms/step - loss: 1.1218 - accuracy: 0.6201 - val_loss: 1.0106 - val_accuracy: 0.6579\n",
      "Time taken to train:  443.8809039592743\n"
     ]
    },
    {
     "name": "stderr",
     "output_type": "stream",
     "text": [
      "WARNING:absl:Found untraced functions such as _jit_compiled_convolution_op, _jit_compiled_convolution_op, _jit_compiled_convolution_op while saving (showing 3 of 3). These functions will not be directly callable after loading.\n"
     ]
    },
    {
     "name": "stdout",
     "output_type": "stream",
     "text": [
      "INFO:tensorflow:Assets written to: best_model_optuna_gridsearch1_saved\\assets\n"
     ]
    },
    {
     "name": "stderr",
     "output_type": "stream",
     "text": [
      "INFO:tensorflow:Assets written to: best_model_optuna_gridsearch1_saved\\assets\n",
      "\u001b[32m[I 2023-01-23 23:03:48,931]\u001b[0m Trial 1 finished with value: 0.6578999757766724 and parameters: {'batch_size': 32, 'epochs': 30, 'dense_layer': 1, 'conv_layer': 4, 'dense_nodes': 64, 'conv_nodes': 8, 'dropout': 0.2}. Best is trial 1 with value: 0.6578999757766724.\u001b[0m\n",
      "C:\\Users\\domin\\AppData\\Local\\Temp\\ipykernel_17804\\1222758937.py:37: FutureWarning:\n",
      "\n",
      "KerasPruningCallback has been deprecated in v2.1.0. This feature will be removed in v4.0.0. See https://github.com/optuna/optuna/releases/tag/v2.1.0. Recent Keras release (2.4.0) simply redirects all APIs in the standalone keras package to point to tf.keras. There is now only one Keras: tf.keras. There may be some breaking changes for some workflows by upgrading to keras 2.4.0. Test before upgrading. REF: https://github.com/keras-team/keras/releases/tag/2.4.0. There is an alternative callback function that can be used instead: :class:`~optuna.integration.TFKerasPruningCallback`\n",
      "\n"
     ]
    },
    {
     "name": "stdout",
     "output_type": "stream",
     "text": [
      "Epoch 1/10\n",
      "1249/1250 [============================>.] - ETA: 0s - loss: 1.8763 - accuracy: 0.2869\n",
      "Epoch 1: val_accuracy improved from -inf to 0.33370, saving model to best_model_optuna_gridsearch.h5\n",
      "1250/1250 [==============================] - 46s 36ms/step - loss: 1.8762 - accuracy: 0.2870 - val_loss: 1.8027 - val_accuracy: 0.3337\n",
      "Epoch 2/10\n",
      "1250/1250 [==============================] - ETA: 0s - loss: 1.5621 - accuracy: 0.4314\n",
      "Epoch 2: val_accuracy improved from 0.33370 to 0.51350, saving model to best_model_optuna_gridsearch.h5\n",
      "1250/1250 [==============================] - 43s 34ms/step - loss: 1.5621 - accuracy: 0.4314 - val_loss: 1.3578 - val_accuracy: 0.5135\n",
      "Epoch 3/10\n",
      "1249/1250 [============================>.] - ETA: 0s - loss: 1.4309 - accuracy: 0.4980\n",
      "Epoch 3: val_accuracy did not improve from 0.51350\n",
      "1250/1250 [==============================] - 45s 36ms/step - loss: 1.4306 - accuracy: 0.4981 - val_loss: 1.9771 - val_accuracy: 0.4169\n",
      "Epoch 4/10\n",
      "1249/1250 [============================>.] - ETA: 0s - loss: 1.3315 - accuracy: 0.5408\n",
      "Epoch 4: val_accuracy improved from 0.51350 to 0.55960, saving model to best_model_optuna_gridsearch.h5\n",
      "1250/1250 [==============================] - 45s 36ms/step - loss: 1.3313 - accuracy: 0.5409 - val_loss: 1.3257 - val_accuracy: 0.5596\n",
      "Epoch 5/10\n",
      "1250/1250 [==============================] - ETA: 0s - loss: 1.2739 - accuracy: 0.5638\n",
      "Epoch 5: val_accuracy did not improve from 0.55960\n",
      "1250/1250 [==============================] - 47s 37ms/step - loss: 1.2739 - accuracy: 0.5638 - val_loss: 1.3310 - val_accuracy: 0.5259\n",
      "Epoch 6/10\n",
      "1249/1250 [============================>.] - ETA: 0s - loss: 1.2197 - accuracy: 0.5846\n",
      "Epoch 6: val_accuracy improved from 0.55960 to 0.57880, saving model to best_model_optuna_gridsearch.h5\n",
      "1250/1250 [==============================] - 45s 36ms/step - loss: 1.2200 - accuracy: 0.5847 - val_loss: 1.2099 - val_accuracy: 0.5788\n",
      "Epoch 7/10\n",
      "1249/1250 [============================>.] - ETA: 0s - loss: 1.1788 - accuracy: 0.6019\n",
      "Epoch 7: val_accuracy improved from 0.57880 to 0.64640, saving model to best_model_optuna_gridsearch.h5\n",
      "1250/1250 [==============================] - 45s 36ms/step - loss: 1.1791 - accuracy: 0.6018 - val_loss: 1.0364 - val_accuracy: 0.6464\n",
      "Epoch 8/10\n",
      "1250/1250 [==============================] - ETA: 0s - loss: 1.1516 - accuracy: 0.6131\n",
      "Epoch 8: val_accuracy did not improve from 0.64640\n",
      "1250/1250 [==============================] - 44s 35ms/step - loss: 1.1516 - accuracy: 0.6131 - val_loss: 1.1317 - val_accuracy: 0.6149\n",
      "Epoch 9/10\n",
      "1249/1250 [============================>.] - ETA: 0s - loss: 1.1307 - accuracy: 0.6214\n",
      "Epoch 9: val_accuracy did not improve from 0.64640\n",
      "1250/1250 [==============================] - 42s 34ms/step - loss: 1.1303 - accuracy: 0.6215 - val_loss: 1.0905 - val_accuracy: 0.6195\n",
      "Epoch 10/10\n",
      "1250/1250 [==============================] - ETA: 0s - loss: 1.1164 - accuracy: 0.6262\n",
      "Epoch 10: val_accuracy did not improve from 0.64640\n",
      "1250/1250 [==============================] - 44s 35ms/step - loss: 1.1164 - accuracy: 0.6262 - val_loss: 1.0603 - val_accuracy: 0.6356\n",
      "Time taken to train:  446.3288869857788\n"
     ]
    },
    {
     "name": "stderr",
     "output_type": "stream",
     "text": [
      "WARNING:absl:Found untraced functions such as _jit_compiled_convolution_op, _jit_compiled_convolution_op, _jit_compiled_convolution_op while saving (showing 3 of 3). These functions will not be directly callable after loading.\n"
     ]
    },
    {
     "name": "stdout",
     "output_type": "stream",
     "text": [
      "INFO:tensorflow:Assets written to: best_model_optuna_gridsearch1_saved\\assets\n"
     ]
    },
    {
     "name": "stderr",
     "output_type": "stream",
     "text": [
      "INFO:tensorflow:Assets written to: best_model_optuna_gridsearch1_saved\\assets\n",
      "\u001b[32m[I 2023-01-23 23:11:18,174]\u001b[0m Trial 2 finished with value: 0.6355999708175659 and parameters: {'batch_size': 64, 'epochs': 30, 'dense_layer': 3, 'conv_layer': 5, 'dense_nodes': 64, 'conv_nodes': 32, 'dropout': 0.5}. Best is trial 1 with value: 0.6578999757766724.\u001b[0m\n",
      "C:\\Users\\domin\\AppData\\Local\\Temp\\ipykernel_17804\\1222758937.py:37: FutureWarning:\n",
      "\n",
      "KerasPruningCallback has been deprecated in v2.1.0. This feature will be removed in v4.0.0. See https://github.com/optuna/optuna/releases/tag/v2.1.0. Recent Keras release (2.4.0) simply redirects all APIs in the standalone keras package to point to tf.keras. There is now only one Keras: tf.keras. There may be some breaking changes for some workflows by upgrading to keras 2.4.0. Test before upgrading. REF: https://github.com/keras-team/keras/releases/tag/2.4.0. There is an alternative callback function that can be used instead: :class:`~optuna.integration.TFKerasPruningCallback`\n",
      "\n"
     ]
    },
    {
     "name": "stdout",
     "output_type": "stream",
     "text": [
      "Epoch 1/10\n",
      "1250/1250 [==============================] - ETA: 0s - loss: 1.8755 - accuracy: 0.2923\n",
      "Epoch 1: val_accuracy improved from -inf to 0.43480, saving model to best_model_optuna_gridsearch.h5\n",
      "1250/1250 [==============================] - 46s 36ms/step - loss: 1.8755 - accuracy: 0.2923 - val_loss: 1.5669 - val_accuracy: 0.4348\n",
      "Epoch 2/10\n",
      "1249/1250 [============================>.] - ETA: 0s - loss: 1.5631 - accuracy: 0.4310\n",
      "Epoch 2: val_accuracy improved from 0.43480 to 0.51260, saving model to best_model_optuna_gridsearch.h5\n",
      "1250/1250 [==============================] - 49s 39ms/step - loss: 1.5631 - accuracy: 0.4311 - val_loss: 1.3807 - val_accuracy: 0.5126\n",
      "Epoch 3/10\n",
      "1250/1250 [==============================] - ETA: 0s - loss: 1.4278 - accuracy: 0.4932\n",
      "Epoch 3: val_accuracy did not improve from 0.51260\n",
      "1250/1250 [==============================] - 48s 38ms/step - loss: 1.4278 - accuracy: 0.4932 - val_loss: 1.4529 - val_accuracy: 0.4678\n",
      "Epoch 4/10\n",
      "1249/1250 [============================>.] - ETA: 0s - loss: 1.3498 - accuracy: 0.5299\n",
      "Epoch 4: val_accuracy improved from 0.51260 to 0.55120, saving model to best_model_optuna_gridsearch.h5\n",
      "1250/1250 [==============================] - 43s 34ms/step - loss: 1.3498 - accuracy: 0.5299 - val_loss: 1.2591 - val_accuracy: 0.5512\n",
      "Epoch 5/10\n",
      "1250/1250 [==============================] - ETA: 0s - loss: 1.2803 - accuracy: 0.5593\n",
      "Epoch 5: val_accuracy improved from 0.55120 to 0.59590, saving model to best_model_optuna_gridsearch.h5\n",
      "1250/1250 [==============================] - 45s 36ms/step - loss: 1.2803 - accuracy: 0.5593 - val_loss: 1.1498 - val_accuracy: 0.5959\n",
      "Epoch 6/10\n",
      "1249/1250 [============================>.] - ETA: 0s - loss: 1.2304 - accuracy: 0.5788\n",
      "Epoch 6: val_accuracy improved from 0.59590 to 0.61400, saving model to best_model_optuna_gridsearch.h5\n",
      "1250/1250 [==============================] - 48s 38ms/step - loss: 1.2306 - accuracy: 0.5788 - val_loss: 1.0962 - val_accuracy: 0.6140\n",
      "Epoch 7/10\n",
      "1250/1250 [==============================] - ETA: 0s - loss: 1.1858 - accuracy: 0.5955\n",
      "Epoch 7: val_accuracy did not improve from 0.61400\n",
      "1250/1250 [==============================] - 48s 38ms/step - loss: 1.1858 - accuracy: 0.5955 - val_loss: 1.1362 - val_accuracy: 0.5930\n",
      "Epoch 8/10\n",
      "1249/1250 [============================>.] - ETA: 0s - loss: 1.1532 - accuracy: 0.6058\n",
      "Epoch 8: val_accuracy improved from 0.61400 to 0.63470, saving model to best_model_optuna_gridsearch.h5\n",
      "1250/1250 [==============================] - 45s 36ms/step - loss: 1.1532 - accuracy: 0.6058 - val_loss: 1.0691 - val_accuracy: 0.6347\n",
      "Epoch 9/10\n",
      "1249/1250 [============================>.] - ETA: 0s - loss: 1.1332 - accuracy: 0.6187\n",
      "Epoch 9: val_accuracy improved from 0.63470 to 0.64130, saving model to best_model_optuna_gridsearch.h5\n",
      "1250/1250 [==============================] - 48s 39ms/step - loss: 1.1333 - accuracy: 0.6186 - val_loss: 1.0243 - val_accuracy: 0.6413\n",
      "Epoch 10/10\n",
      "1250/1250 [==============================] - ETA: 0s - loss: 1.1075 - accuracy: 0.6253\n",
      "Epoch 10: val_accuracy did not improve from 0.64130\n",
      "1250/1250 [==============================] - 46s 37ms/step - loss: 1.1075 - accuracy: 0.6253 - val_loss: 1.1738 - val_accuracy: 0.5990\n",
      "Time taken to train:  467.069030046463\n"
     ]
    },
    {
     "name": "stderr",
     "output_type": "stream",
     "text": [
      "WARNING:absl:Found untraced functions such as _jit_compiled_convolution_op, _jit_compiled_convolution_op, _jit_compiled_convolution_op while saving (showing 3 of 3). These functions will not be directly callable after loading.\n"
     ]
    },
    {
     "name": "stdout",
     "output_type": "stream",
     "text": [
      "INFO:tensorflow:Assets written to: best_model_optuna_gridsearch1_saved\\assets\n"
     ]
    },
    {
     "name": "stderr",
     "output_type": "stream",
     "text": [
      "INFO:tensorflow:Assets written to: best_model_optuna_gridsearch1_saved\\assets\n",
      "\u001b[32m[I 2023-01-23 23:19:07,749]\u001b[0m Trial 3 finished with value: 0.5989999771118164 and parameters: {'batch_size': 64, 'epochs': 20, 'dense_layer': 4, 'conv_layer': 2, 'dense_nodes': 64, 'conv_nodes': 8, 'dropout': 0.4}. Best is trial 1 with value: 0.6578999757766724.\u001b[0m\n",
      "C:\\Users\\domin\\AppData\\Local\\Temp\\ipykernel_17804\\1222758937.py:37: FutureWarning:\n",
      "\n",
      "KerasPruningCallback has been deprecated in v2.1.0. This feature will be removed in v4.0.0. See https://github.com/optuna/optuna/releases/tag/v2.1.0. Recent Keras release (2.4.0) simply redirects all APIs in the standalone keras package to point to tf.keras. There is now only one Keras: tf.keras. There may be some breaking changes for some workflows by upgrading to keras 2.4.0. Test before upgrading. REF: https://github.com/keras-team/keras/releases/tag/2.4.0. There is an alternative callback function that can be used instead: :class:`~optuna.integration.TFKerasPruningCallback`\n",
      "\n"
     ]
    },
    {
     "name": "stdout",
     "output_type": "stream",
     "text": [
      "Epoch 1/10\n",
      "1250/1250 [==============================] - ETA: 0s - loss: 1.8917 - accuracy: 0.2778\n",
      "Epoch 1: val_accuracy improved from -inf to 0.35770, saving model to best_model_optuna_gridsearch.h5\n",
      "1250/1250 [==============================] - 47s 37ms/step - loss: 1.8917 - accuracy: 0.2778 - val_loss: 1.7621 - val_accuracy: 0.3577\n",
      "Epoch 2/10\n",
      "1250/1250 [==============================] - ETA: 0s - loss: 1.5911 - accuracy: 0.4161\n",
      "Epoch 2: val_accuracy improved from 0.35770 to 0.48520, saving model to best_model_optuna_gridsearch.h5\n",
      "1250/1250 [==============================] - 43s 34ms/step - loss: 1.5911 - accuracy: 0.4161 - val_loss: 1.4206 - val_accuracy: 0.4852\n",
      "Epoch 3/10\n",
      "1250/1250 [==============================] - ETA: 0s - loss: 1.4618 - accuracy: 0.4805\n",
      "Epoch 3: val_accuracy improved from 0.48520 to 0.54480, saving model to best_model_optuna_gridsearch.h5\n",
      "1250/1250 [==============================] - 41s 33ms/step - loss: 1.4618 - accuracy: 0.4805 - val_loss: 1.2785 - val_accuracy: 0.5448\n",
      "Epoch 4/10\n",
      "1249/1250 [============================>.] - ETA: 0s - loss: 1.3623 - accuracy: 0.5230\n",
      "Epoch 4: val_accuracy improved from 0.54480 to 0.57350, saving model to best_model_optuna_gridsearch.h5\n",
      "1250/1250 [==============================] - 44s 36ms/step - loss: 1.3624 - accuracy: 0.5230 - val_loss: 1.2483 - val_accuracy: 0.5735\n",
      "Epoch 5/10\n",
      "1250/1250 [==============================] - ETA: 0s - loss: 1.2962 - accuracy: 0.5483\n",
      "Epoch 5: val_accuracy did not improve from 0.57350\n",
      "1250/1250 [==============================] - 45s 36ms/step - loss: 1.2962 - accuracy: 0.5483 - val_loss: 1.2947 - val_accuracy: 0.5733\n",
      "Epoch 6/10\n",
      "1250/1250 [==============================] - ETA: 0s - loss: 1.2519 - accuracy: 0.5728\n",
      "Epoch 6: val_accuracy improved from 0.57350 to 0.60190, saving model to best_model_optuna_gridsearch.h5\n",
      "1250/1250 [==============================] - 45s 36ms/step - loss: 1.2519 - accuracy: 0.5728 - val_loss: 1.1257 - val_accuracy: 0.6019\n",
      "Epoch 7/10\n",
      "1249/1250 [============================>.] - ETA: 0s - loss: 1.2091 - accuracy: 0.5887\n",
      "Epoch 7: val_accuracy improved from 0.60190 to 0.62730, saving model to best_model_optuna_gridsearch.h5\n",
      "1250/1250 [==============================] - 45s 36ms/step - loss: 1.2091 - accuracy: 0.5887 - val_loss: 1.0771 - val_accuracy: 0.6273\n",
      "Epoch 8/10\n",
      "1250/1250 [==============================] - ETA: 0s - loss: 1.1745 - accuracy: 0.6024\n",
      "Epoch 8: val_accuracy did not improve from 0.62730\n",
      "1250/1250 [==============================] - 44s 35ms/step - loss: 1.1745 - accuracy: 0.6024 - val_loss: 1.0480 - val_accuracy: 0.6251\n",
      "Epoch 9/10\n",
      "1249/1250 [============================>.] - ETA: 0s - loss: 1.1413 - accuracy: 0.6166\n",
      "Epoch 9: val_accuracy did not improve from 0.62730\n",
      "1250/1250 [==============================] - 43s 34ms/step - loss: 1.1413 - accuracy: 0.6166 - val_loss: 1.1209 - val_accuracy: 0.6102\n",
      "Epoch 10/10\n",
      "1250/1250 [==============================] - ETA: 0s - loss: 1.1195 - accuracy: 0.6249\n",
      "Epoch 10: val_accuracy improved from 0.62730 to 0.64790, saving model to best_model_optuna_gridsearch.h5\n",
      "1250/1250 [==============================] - 45s 36ms/step - loss: 1.1195 - accuracy: 0.6249 - val_loss: 1.0335 - val_accuracy: 0.6479\n",
      "Time taken to train:  441.2863395214081\n"
     ]
    },
    {
     "name": "stderr",
     "output_type": "stream",
     "text": [
      "WARNING:absl:Found untraced functions such as _jit_compiled_convolution_op, _jit_compiled_convolution_op, _jit_compiled_convolution_op while saving (showing 3 of 3). These functions will not be directly callable after loading.\n"
     ]
    },
    {
     "name": "stdout",
     "output_type": "stream",
     "text": [
      "INFO:tensorflow:Assets written to: best_model_optuna_gridsearch1_saved\\assets\n"
     ]
    },
    {
     "name": "stderr",
     "output_type": "stream",
     "text": [
      "INFO:tensorflow:Assets written to: best_model_optuna_gridsearch1_saved\\assets\n",
      "\u001b[32m[I 2023-01-23 23:26:31,813]\u001b[0m Trial 4 finished with value: 0.6478999853134155 and parameters: {'batch_size': 32, 'epochs': 10, 'dense_layer': 4, 'conv_layer': 3, 'dense_nodes': 64, 'conv_nodes': 32, 'dropout': 0.2}. Best is trial 1 with value: 0.6578999757766724.\u001b[0m\n",
      "C:\\Users\\domin\\AppData\\Local\\Temp\\ipykernel_17804\\1222758937.py:37: FutureWarning:\n",
      "\n",
      "KerasPruningCallback has been deprecated in v2.1.0. This feature will be removed in v4.0.0. See https://github.com/optuna/optuna/releases/tag/v2.1.0. Recent Keras release (2.4.0) simply redirects all APIs in the standalone keras package to point to tf.keras. There is now only one Keras: tf.keras. There may be some breaking changes for some workflows by upgrading to keras 2.4.0. Test before upgrading. REF: https://github.com/keras-team/keras/releases/tag/2.4.0. There is an alternative callback function that can be used instead: :class:`~optuna.integration.TFKerasPruningCallback`\n",
      "\n"
     ]
    },
    {
     "name": "stdout",
     "output_type": "stream",
     "text": [
      "Epoch 1/10\n",
      "1249/1250 [============================>.] - ETA: 0s - loss: 1.8809 - accuracy: 0.2872\n",
      "Epoch 1: val_accuracy improved from -inf to 0.34530, saving model to best_model_optuna_gridsearch.h5\n"
     ]
    },
    {
     "name": "stderr",
     "output_type": "stream",
     "text": [
      "\u001b[32m[I 2023-01-23 23:27:15,144]\u001b[0m Trial 5 pruned. Trial was pruned at epoch 0.\u001b[0m\n"
     ]
    },
    {
     "name": "stdout",
     "output_type": "stream",
     "text": [
      "Epoch 1/10\n",
      "1249/1250 [============================>.] - ETA: 0s - loss: 1.9134 - accuracy: 0.2706\n",
      "Epoch 1: val_accuracy improved from -inf to 0.38420, saving model to best_model_optuna_gridsearch.h5\n"
     ]
    },
    {
     "name": "stderr",
     "output_type": "stream",
     "text": [
      "\u001b[32m[I 2023-01-23 23:27:58,524]\u001b[0m Trial 6 pruned. Trial was pruned at epoch 0.\u001b[0m\n"
     ]
    },
    {
     "name": "stdout",
     "output_type": "stream",
     "text": [
      "Epoch 1/10\n",
      "1249/1250 [============================>.] - ETA: 0s - loss: 1.8852 - accuracy: 0.2869\n",
      "Epoch 1: val_accuracy improved from -inf to 0.38120, saving model to best_model_optuna_gridsearch.h5\n"
     ]
    },
    {
     "name": "stderr",
     "output_type": "stream",
     "text": [
      "\u001b[32m[I 2023-01-23 23:28:41,794]\u001b[0m Trial 7 pruned. Trial was pruned at epoch 0.\u001b[0m\n"
     ]
    },
    {
     "name": "stdout",
     "output_type": "stream",
     "text": [
      "Epoch 1/10\n",
      "1249/1250 [============================>.] - ETA: 0s - loss: 1.9246 - accuracy: 0.2637\n",
      "Epoch 1: val_accuracy improved from -inf to 0.34550, saving model to best_model_optuna_gridsearch.h5\n"
     ]
    },
    {
     "name": "stderr",
     "output_type": "stream",
     "text": [
      "\u001b[32m[I 2023-01-23 23:29:26,640]\u001b[0m Trial 8 pruned. Trial was pruned at epoch 0.\u001b[0m\n"
     ]
    },
    {
     "name": "stdout",
     "output_type": "stream",
     "text": [
      "Epoch 1/10\n",
      "1250/1250 [==============================] - ETA: 0s - loss: 1.8948 - accuracy: 0.2792\n",
      "Epoch 1: val_accuracy improved from -inf to 0.37560, saving model to best_model_optuna_gridsearch.h5\n"
     ]
    },
    {
     "name": "stderr",
     "output_type": "stream",
     "text": [
      "\u001b[32m[I 2023-01-23 23:30:11,551]\u001b[0m Trial 9 pruned. Trial was pruned at epoch 0.\u001b[0m\n"
     ]
    },
    {
     "name": "stdout",
     "output_type": "stream",
     "text": [
      "Epoch 1/10\n",
      "1249/1250 [============================>.] - ETA: 0s - loss: 1.8879 - accuracy: 0.2836\n",
      "Epoch 1: val_accuracy improved from -inf to 0.40140, saving model to best_model_optuna_gridsearch.h5\n",
      "1250/1250 [==============================] - 40s 32ms/step - loss: 1.8876 - accuracy: 0.2837 - val_loss: 1.5552 - val_accuracy: 0.4014\n",
      "Epoch 2/10\n",
      "1250/1250 [==============================] - ETA: 0s - loss: 1.5823 - accuracy: 0.4256\n",
      "Epoch 2: val_accuracy improved from 0.40140 to 0.49340, saving model to best_model_optuna_gridsearch.h5\n",
      "1250/1250 [==============================] - 40s 32ms/step - loss: 1.5823 - accuracy: 0.4256 - val_loss: 1.4454 - val_accuracy: 0.4934\n",
      "Epoch 3/10\n",
      "1249/1250 [============================>.] - ETA: 0s - loss: 1.4468 - accuracy: 0.4888\n",
      "Epoch 3: val_accuracy improved from 0.49340 to 0.50020, saving model to best_model_optuna_gridsearch.h5\n"
     ]
    },
    {
     "name": "stderr",
     "output_type": "stream",
     "text": [
      "\u001b[32m[I 2023-01-23 23:32:12,322]\u001b[0m Trial 10 pruned. Trial was pruned at epoch 2.\u001b[0m\n"
     ]
    },
    {
     "name": "stdout",
     "output_type": "stream",
     "text": [
      "Epoch 1/10\n",
      "1249/1250 [============================>.] - ETA: 0s - loss: 1.8906 - accuracy: 0.2864\n",
      "Epoch 1: val_accuracy improved from -inf to 0.41490, saving model to best_model_optuna_gridsearch.h5\n",
      "1250/1250 [==============================] - 40s 32ms/step - loss: 1.8902 - accuracy: 0.2865 - val_loss: 1.5677 - val_accuracy: 0.4149\n",
      "Epoch 2/10\n",
      "1249/1250 [============================>.] - ETA: 0s - loss: 1.5816 - accuracy: 0.4206\n",
      "Epoch 2: val_accuracy improved from 0.41490 to 0.50490, saving model to best_model_optuna_gridsearch.h5\n",
      "1250/1250 [==============================] - 41s 33ms/step - loss: 1.5819 - accuracy: 0.4205 - val_loss: 1.3721 - val_accuracy: 0.5049\n",
      "Epoch 3/10\n",
      "1250/1250 [==============================] - ETA: 0s - loss: 1.4463 - accuracy: 0.4852\n",
      "Epoch 3: val_accuracy did not improve from 0.50490\n",
      "1250/1250 [==============================] - 39s 31ms/step - loss: 1.4463 - accuracy: 0.4852 - val_loss: 1.4147 - val_accuracy: 0.4899\n",
      "Epoch 4/10\n",
      "1249/1250 [============================>.] - ETA: 0s - loss: 1.3529 - accuracy: 0.5269\n",
      "Epoch 4: val_accuracy improved from 0.50490 to 0.59690, saving model to best_model_optuna_gridsearch.h5\n",
      "1250/1250 [==============================] - 44s 35ms/step - loss: 1.3532 - accuracy: 0.5270 - val_loss: 1.1569 - val_accuracy: 0.5969\n",
      "Epoch 5/10\n",
      "1250/1250 [==============================] - ETA: 0s - loss: 1.2865 - accuracy: 0.5594\n",
      "Epoch 5: val_accuracy did not improve from 0.59690\n",
      "1250/1250 [==============================] - 41s 33ms/step - loss: 1.2865 - accuracy: 0.5594 - val_loss: 1.1930 - val_accuracy: 0.5953\n",
      "Epoch 6/10\n",
      "1249/1250 [============================>.] - ETA: 0s - loss: 1.2417 - accuracy: 0.5726\n",
      "Epoch 6: val_accuracy did not improve from 0.59690\n"
     ]
    },
    {
     "name": "stderr",
     "output_type": "stream",
     "text": [
      "\u001b[32m[I 2023-01-23 23:36:19,362]\u001b[0m Trial 11 pruned. Trial was pruned at epoch 5.\u001b[0m\n"
     ]
    },
    {
     "name": "stdout",
     "output_type": "stream",
     "text": [
      "Epoch 1/10\n",
      "1250/1250 [==============================] - ETA: 0s - loss: 1.8794 - accuracy: 0.2880\n",
      "Epoch 1: val_accuracy improved from -inf to 0.31570, saving model to best_model_optuna_gridsearch.h5\n"
     ]
    },
    {
     "name": "stderr",
     "output_type": "stream",
     "text": [
      "\u001b[32m[I 2023-01-23 23:37:02,184]\u001b[0m Trial 12 pruned. Trial was pruned at epoch 0.\u001b[0m\n"
     ]
    },
    {
     "name": "stdout",
     "output_type": "stream",
     "text": [
      "Epoch 1/10\n",
      "1250/1250 [==============================] - ETA: 0s - loss: 1.8847 - accuracy: 0.2878\n",
      "Epoch 1: val_accuracy improved from -inf to 0.42140, saving model to best_model_optuna_gridsearch.h5\n",
      "1250/1250 [==============================] - 45s 35ms/step - loss: 1.8847 - accuracy: 0.2878 - val_loss: 1.5600 - val_accuracy: 0.4214\n",
      "Epoch 2/10\n",
      "1250/1250 [==============================] - ETA: 0s - loss: 1.5726 - accuracy: 0.4281\n",
      "Epoch 2: val_accuracy improved from 0.42140 to 0.52360, saving model to best_model_optuna_gridsearch.h5\n",
      "1250/1250 [==============================] - 44s 35ms/step - loss: 1.5726 - accuracy: 0.4281 - val_loss: 1.3446 - val_accuracy: 0.5236\n",
      "Epoch 3/10\n",
      "1249/1250 [============================>.] - ETA: 0s - loss: 1.4299 - accuracy: 0.4949\n",
      "Epoch 3: val_accuracy improved from 0.52360 to 0.56500, saving model to best_model_optuna_gridsearch.h5\n",
      "1250/1250 [==============================] - 42s 34ms/step - loss: 1.4302 - accuracy: 0.4948 - val_loss: 1.2468 - val_accuracy: 0.5650\n",
      "Epoch 4/10\n",
      "1249/1250 [============================>.] - ETA: 0s - loss: 1.3422 - accuracy: 0.5346\n",
      "Epoch 4: val_accuracy did not improve from 0.56500\n",
      "1250/1250 [==============================] - 40s 32ms/step - loss: 1.3420 - accuracy: 0.5347 - val_loss: 1.2497 - val_accuracy: 0.5525\n",
      "Epoch 5/10\n",
      "1249/1250 [============================>.] - ETA: 0s - loss: 1.2781 - accuracy: 0.5611\n",
      "Epoch 5: val_accuracy improved from 0.56500 to 0.59930, saving model to best_model_optuna_gridsearch.h5\n",
      "1250/1250 [==============================] - 40s 32ms/step - loss: 1.2779 - accuracy: 0.5611 - val_loss: 1.1677 - val_accuracy: 0.5993\n",
      "Epoch 6/10\n",
      "1250/1250 [==============================] - ETA: 0s - loss: 1.2350 - accuracy: 0.5800\n",
      "Epoch 6: val_accuracy improved from 0.59930 to 0.61950, saving model to best_model_optuna_gridsearch.h5\n",
      "1250/1250 [==============================] - 41s 33ms/step - loss: 1.2350 - accuracy: 0.5800 - val_loss: 1.1202 - val_accuracy: 0.6195\n",
      "Epoch 7/10\n",
      "1250/1250 [==============================] - ETA: 0s - loss: 1.1865 - accuracy: 0.5970\n",
      "Epoch 7: val_accuracy improved from 0.61950 to 0.62970, saving model to best_model_optuna_gridsearch.h5\n",
      "1250/1250 [==============================] - 40s 32ms/step - loss: 1.1865 - accuracy: 0.5970 - val_loss: 1.0792 - val_accuracy: 0.6297\n",
      "Epoch 8/10\n",
      "1250/1250 [==============================] - ETA: 0s - loss: 1.1609 - accuracy: 0.6068\n",
      "Epoch 8: val_accuracy improved from 0.62970 to 0.64270, saving model to best_model_optuna_gridsearch.h5\n",
      "1250/1250 [==============================] - 41s 33ms/step - loss: 1.1609 - accuracy: 0.6068 - val_loss: 1.0293 - val_accuracy: 0.6427\n",
      "Epoch 9/10\n",
      "1250/1250 [==============================] - ETA: 0s - loss: 1.1302 - accuracy: 0.6191\n",
      "Epoch 9: val_accuracy improved from 0.64270 to 0.65200, saving model to best_model_optuna_gridsearch.h5\n",
      "1250/1250 [==============================] - 41s 33ms/step - loss: 1.1302 - accuracy: 0.6191 - val_loss: 1.0333 - val_accuracy: 0.6520\n",
      "Epoch 10/10\n",
      "1249/1250 [============================>.] - ETA: 0s - loss: 1.0977 - accuracy: 0.6314\n",
      "Epoch 10: val_accuracy improved from 0.65200 to 0.67880, saving model to best_model_optuna_gridsearch.h5\n",
      "1250/1250 [==============================] - 42s 33ms/step - loss: 1.0979 - accuracy: 0.6313 - val_loss: 0.9559 - val_accuracy: 0.6788\n",
      "Time taken to train:  414.72103810310364\n"
     ]
    },
    {
     "name": "stderr",
     "output_type": "stream",
     "text": [
      "WARNING:absl:Found untraced functions such as _jit_compiled_convolution_op, _jit_compiled_convolution_op, _jit_compiled_convolution_op while saving (showing 3 of 3). These functions will not be directly callable after loading.\n"
     ]
    },
    {
     "name": "stdout",
     "output_type": "stream",
     "text": [
      "INFO:tensorflow:Assets written to: best_model_optuna_gridsearch1_saved\\assets\n"
     ]
    },
    {
     "name": "stderr",
     "output_type": "stream",
     "text": [
      "INFO:tensorflow:Assets written to: best_model_optuna_gridsearch1_saved\\assets\n",
      "\u001b[32m[I 2023-01-23 23:44:00,791]\u001b[0m Trial 13 finished with value: 0.6787999868392944 and parameters: {'batch_size': 32, 'epochs': 20, 'dense_layer': 3, 'conv_layer': 1, 'dense_nodes': 256, 'conv_nodes': 64, 'dropout': 0.1}. Best is trial 13 with value: 0.6787999868392944.\u001b[0m\n",
      "C:\\Users\\domin\\AppData\\Local\\Temp\\ipykernel_17804\\1222758937.py:37: FutureWarning:\n",
      "\n",
      "KerasPruningCallback has been deprecated in v2.1.0. This feature will be removed in v4.0.0. See https://github.com/optuna/optuna/releases/tag/v2.1.0. Recent Keras release (2.4.0) simply redirects all APIs in the standalone keras package to point to tf.keras. There is now only one Keras: tf.keras. There may be some breaking changes for some workflows by upgrading to keras 2.4.0. Test before upgrading. REF: https://github.com/keras-team/keras/releases/tag/2.4.0. There is an alternative callback function that can be used instead: :class:`~optuna.integration.TFKerasPruningCallback`\n",
      "\n"
     ]
    },
    {
     "name": "stdout",
     "output_type": "stream",
     "text": [
      "Epoch 1/10\n",
      "1250/1250 [==============================] - ETA: 0s - loss: 1.9013 - accuracy: 0.2791\n",
      "Epoch 1: val_accuracy improved from -inf to 0.28340, saving model to best_model_optuna_gridsearch.h5\n"
     ]
    },
    {
     "name": "stderr",
     "output_type": "stream",
     "text": [
      "\u001b[32m[I 2023-01-23 23:44:47,124]\u001b[0m Trial 14 pruned. Trial was pruned at epoch 0.\u001b[0m\n"
     ]
    },
    {
     "name": "stdout",
     "output_type": "stream",
     "text": [
      "Epoch 1/10\n",
      "1250/1250 [==============================] - ETA: 0s - loss: 1.8985 - accuracy: 0.2826\n",
      "Epoch 1: val_accuracy improved from -inf to 0.41130, saving model to best_model_optuna_gridsearch.h5\n",
      "1250/1250 [==============================] - 47s 37ms/step - loss: 1.8985 - accuracy: 0.2826 - val_loss: 1.6295 - val_accuracy: 0.4113\n",
      "Epoch 2/10\n",
      "1249/1250 [============================>.] - ETA: 0s - loss: 1.5793 - accuracy: 0.4252\n",
      "Epoch 2: val_accuracy improved from 0.41130 to 0.50960, saving model to best_model_optuna_gridsearch.h5\n",
      "1250/1250 [==============================] - 44s 35ms/step - loss: 1.5794 - accuracy: 0.4252 - val_loss: 1.4044 - val_accuracy: 0.5096\n",
      "Epoch 3/10\n",
      "1249/1250 [============================>.] - ETA: 0s - loss: 1.4573 - accuracy: 0.4835\n",
      "Epoch 3: val_accuracy improved from 0.50960 to 0.52600, saving model to best_model_optuna_gridsearch.h5\n",
      "1250/1250 [==============================] - 43s 35ms/step - loss: 1.4574 - accuracy: 0.4834 - val_loss: 1.3229 - val_accuracy: 0.5260\n",
      "Epoch 4/10\n",
      "1249/1250 [============================>.] - ETA: 0s - loss: 1.3709 - accuracy: 0.5216\n",
      "Epoch 4: val_accuracy improved from 0.52600 to 0.54260, saving model to best_model_optuna_gridsearch.h5\n"
     ]
    },
    {
     "name": "stderr",
     "output_type": "stream",
     "text": [
      "\u001b[32m[I 2023-01-23 23:47:44,756]\u001b[0m Trial 15 pruned. Trial was pruned at epoch 3.\u001b[0m\n"
     ]
    },
    {
     "name": "stdout",
     "output_type": "stream",
     "text": [
      "Epoch 1/10\n",
      "1250/1250 [==============================] - ETA: 0s - loss: 1.8734 - accuracy: 0.2875\n",
      "Epoch 1: val_accuracy improved from -inf to 0.37890, saving model to best_model_optuna_gridsearch.h5\n"
     ]
    },
    {
     "name": "stderr",
     "output_type": "stream",
     "text": [
      "\u001b[32m[I 2023-01-23 23:48:33,331]\u001b[0m Trial 16 pruned. Trial was pruned at epoch 0.\u001b[0m\n"
     ]
    },
    {
     "name": "stdout",
     "output_type": "stream",
     "text": [
      "Epoch 1/10\n",
      "1249/1250 [============================>.] - ETA: 0s - loss: 1.8887 - accuracy: 0.2776\n",
      "Epoch 1: val_accuracy improved from -inf to 0.34010, saving model to best_model_optuna_gridsearch.h5\n"
     ]
    },
    {
     "name": "stderr",
     "output_type": "stream",
     "text": [
      "\u001b[32m[I 2023-01-23 23:49:18,080]\u001b[0m Trial 17 pruned. Trial was pruned at epoch 0.\u001b[0m\n"
     ]
    },
    {
     "name": "stdout",
     "output_type": "stream",
     "text": [
      "Epoch 1/10\n",
      "1250/1250 [==============================] - ETA: 0s - loss: 1.8895 - accuracy: 0.2826\n",
      "Epoch 1: val_accuracy improved from -inf to 0.42080, saving model to best_model_optuna_gridsearch.h5\n",
      "1250/1250 [==============================] - 43s 33ms/step - loss: 1.8895 - accuracy: 0.2826 - val_loss: 1.5706 - val_accuracy: 0.4208\n",
      "Epoch 2/10\n",
      "1249/1250 [============================>.] - ETA: 0s - loss: 1.5772 - accuracy: 0.4280\n",
      "Epoch 2: val_accuracy did not improve from 0.42080\n"
     ]
    },
    {
     "name": "stderr",
     "output_type": "stream",
     "text": [
      "\u001b[32m[I 2023-01-23 23:50:42,019]\u001b[0m Trial 18 pruned. Trial was pruned at epoch 1.\u001b[0m\n"
     ]
    },
    {
     "name": "stdout",
     "output_type": "stream",
     "text": [
      "Epoch 1/10\n",
      "1250/1250 [==============================] - ETA: 0s - loss: 1.8933 - accuracy: 0.2793\n",
      "Epoch 1: val_accuracy improved from -inf to 0.42460, saving model to best_model_optuna_gridsearch.h5\n",
      "1250/1250 [==============================] - 41s 32ms/step - loss: 1.8933 - accuracy: 0.2793 - val_loss: 1.5812 - val_accuracy: 0.4246\n",
      "Epoch 2/10\n",
      "1250/1250 [==============================] - ETA: 0s - loss: 1.5850 - accuracy: 0.4181\n",
      "Epoch 2: val_accuracy improved from 0.42460 to 0.46470, saving model to best_model_optuna_gridsearch.h5\n"
     ]
    },
    {
     "name": "stderr",
     "output_type": "stream",
     "text": [
      "\u001b[32m[I 2023-01-23 23:52:02,351]\u001b[0m Trial 19 pruned. Trial was pruned at epoch 1.\u001b[0m\n"
     ]
    },
    {
     "name": "stdout",
     "output_type": "stream",
     "text": [
      "Number of finished trials: 20\n",
      "Best trial: {'batch_size': 32, 'conv_layer': 1, 'conv_nodes': 64, 'dense_layer': 3, 'dense_nodes': 256, 'dropout': 0.1, 'epochs': 20}\n"
     ]
    }
   ],
   "source": [
    "    # run the grid search\n",
    "study = optuna.create_study(direction='maximize', study_name='optuna_gridsearch1', storage='sqlite:///optuna_gridsearch1.db', load_if_exists=True, sampler=optuna.samplers.GridSampler )\n",
    "study.optimize(objective, n_trials=20)\n",
    "\n",
    "# print best parameters\n",
    "print('Number of finished trials:', len(study.trials))\n",
    "print('Best trial:', study.best_trial.params)\n",
    "\n"
   ]
  },
  {
   "cell_type": "code",
   "execution_count": 84,
   "metadata": {},
   "outputs": [],
   "source": [
    "# # plot\n",
    "# optuna.visualization.plot_optimization_history(study)\n",
    "# optuna.visualization.plot_slice(study)\n",
    "# optuna.visualization.plot_param_importances(study)\n",
    "\n",
    "def show_result(study):\n",
    "\n",
    "    pruned_trials = study.get_trials(deepcopy=False, states=[TrialState.PRUNED])\n",
    "    complete_trials = study.get_trials(deepcopy=False, states=[TrialState.COMPLETE])\n",
    "\n",
    "    print(\"Study statistics: \")\n",
    "    print(\"  Number of finished trials: \", len(study.trials))\n",
    "    print(\"  Number of pruned trials: \", len(pruned_trials))\n",
    "    print(\"  Number of complete trials: \", len(complete_trials))\n",
    "\n",
    "    \n",
    "\n",
    "    print(\"Best trial:\")\n",
    "    trial = study.best_trial\n",
    "\n",
    "    print(\"  Value: \", trial.value)\n",
    "\n",
    "    print(\"  Params: \")\n",
    "    for key, value in trial.params.items():\n",
    "        print(\"    {}: {}\".format(key, value))\n",
    "\n"
   ]
  },
  {
   "cell_type": "code",
   "execution_count": 85,
   "metadata": {},
   "outputs": [
    {
     "name": "stdout",
     "output_type": "stream",
     "text": [
      "Study statistics: \n",
      "  Number of finished trials:  20\n",
      "  Number of pruned trials:  14\n",
      "  Number of complete trials:  6\n",
      "Best trial:\n",
      "  Value:  0.6787999868392944\n",
      "  Params: \n",
      "    batch_size: 32\n",
      "    conv_layer: 1\n",
      "    conv_nodes: 64\n",
      "    dense_layer: 3\n",
      "    dense_nodes: 256\n",
      "    dropout: 0.1\n",
      "    epochs: 20\n"
     ]
    }
   ],
   "source": [
    "show_result(study)"
   ]
  },
  {
   "cell_type": "code",
   "execution_count": 86,
   "metadata": {},
   "outputs": [
    {
     "name": "stdout",
     "output_type": "stream",
     "text": [
      "Test loss: 0.9558917880058289\n",
      "Test accuracy: 0.6787999868392944\n"
     ]
    }
   ],
   "source": [
    "# test the best model after loading the best model weights\n",
    "model = model_gridsearch()\n",
    "model.load_weights('best_model_optuna_gridsearch1_weights')\n",
    "model.compile(loss='categorical_crossentropy', optimizer=Adam(), metrics=['accuracy'])\n",
    "\n",
    "score = model.evaluate(X_test, y_test, verbose=0)\n",
    "print('Test loss:', score[0])\n",
    "print('Test accuracy:', score[1])\n",
    "\n",
    "\n",
    "\n"
   ]
  },
  {
   "attachments": {},
   "cell_type": "markdown",
   "metadata": {},
   "source": [
    "Optuna has some easy to use visialization tools. We can use the optuna.visualization.plot_optimization_history to plot the optimization history of the study.\n",
    "For more information on visualization, have a look at the [Optuna visualization documentation](https://optuna.readthedocs.io/en/stable/reference/visualization/index.html)"
   ]
  },
  {
   "cell_type": "code",
   "execution_count": 91,
   "metadata": {},
   "outputs": [
    {
     "data": {
      "application/vnd.plotly.v1+json": {
       "config": {
        "plotlyServerURL": "https://plot.ly"
       },
       "data": [
        {
         "mode": "markers",
         "name": "Objective Value",
         "type": "scatter",
         "x": [
          0,
          1,
          2,
          3,
          4,
          13
         ],
         "y": [
          0.6521000266075134,
          0.6578999757766724,
          0.6355999708175659,
          0.5989999771118164,
          0.6478999853134155,
          0.6787999868392944
         ]
        },
        {
         "name": "Best Value",
         "type": "scatter",
         "x": [
          0,
          1,
          2,
          3,
          4,
          13
         ],
         "y": [
          0.6521000266075134,
          0.6578999757766724,
          0.6578999757766724,
          0.6578999757766724,
          0.6578999757766724,
          0.6787999868392944
         ]
        }
       ],
       "layout": {
        "template": {
         "data": {
          "bar": [
           {
            "error_x": {
             "color": "#2a3f5f"
            },
            "error_y": {
             "color": "#2a3f5f"
            },
            "marker": {
             "line": {
              "color": "#E5ECF6",
              "width": 0.5
             },
             "pattern": {
              "fillmode": "overlay",
              "size": 10,
              "solidity": 0.2
             }
            },
            "type": "bar"
           }
          ],
          "barpolar": [
           {
            "marker": {
             "line": {
              "color": "#E5ECF6",
              "width": 0.5
             },
             "pattern": {
              "fillmode": "overlay",
              "size": 10,
              "solidity": 0.2
             }
            },
            "type": "barpolar"
           }
          ],
          "carpet": [
           {
            "aaxis": {
             "endlinecolor": "#2a3f5f",
             "gridcolor": "white",
             "linecolor": "white",
             "minorgridcolor": "white",
             "startlinecolor": "#2a3f5f"
            },
            "baxis": {
             "endlinecolor": "#2a3f5f",
             "gridcolor": "white",
             "linecolor": "white",
             "minorgridcolor": "white",
             "startlinecolor": "#2a3f5f"
            },
            "type": "carpet"
           }
          ],
          "choropleth": [
           {
            "colorbar": {
             "outlinewidth": 0,
             "ticks": ""
            },
            "type": "choropleth"
           }
          ],
          "contour": [
           {
            "colorbar": {
             "outlinewidth": 0,
             "ticks": ""
            },
            "colorscale": [
             [
              0,
              "#0d0887"
             ],
             [
              0.1111111111111111,
              "#46039f"
             ],
             [
              0.2222222222222222,
              "#7201a8"
             ],
             [
              0.3333333333333333,
              "#9c179e"
             ],
             [
              0.4444444444444444,
              "#bd3786"
             ],
             [
              0.5555555555555556,
              "#d8576b"
             ],
             [
              0.6666666666666666,
              "#ed7953"
             ],
             [
              0.7777777777777778,
              "#fb9f3a"
             ],
             [
              0.8888888888888888,
              "#fdca26"
             ],
             [
              1,
              "#f0f921"
             ]
            ],
            "type": "contour"
           }
          ],
          "contourcarpet": [
           {
            "colorbar": {
             "outlinewidth": 0,
             "ticks": ""
            },
            "type": "contourcarpet"
           }
          ],
          "heatmap": [
           {
            "colorbar": {
             "outlinewidth": 0,
             "ticks": ""
            },
            "colorscale": [
             [
              0,
              "#0d0887"
             ],
             [
              0.1111111111111111,
              "#46039f"
             ],
             [
              0.2222222222222222,
              "#7201a8"
             ],
             [
              0.3333333333333333,
              "#9c179e"
             ],
             [
              0.4444444444444444,
              "#bd3786"
             ],
             [
              0.5555555555555556,
              "#d8576b"
             ],
             [
              0.6666666666666666,
              "#ed7953"
             ],
             [
              0.7777777777777778,
              "#fb9f3a"
             ],
             [
              0.8888888888888888,
              "#fdca26"
             ],
             [
              1,
              "#f0f921"
             ]
            ],
            "type": "heatmap"
           }
          ],
          "heatmapgl": [
           {
            "colorbar": {
             "outlinewidth": 0,
             "ticks": ""
            },
            "colorscale": [
             [
              0,
              "#0d0887"
             ],
             [
              0.1111111111111111,
              "#46039f"
             ],
             [
              0.2222222222222222,
              "#7201a8"
             ],
             [
              0.3333333333333333,
              "#9c179e"
             ],
             [
              0.4444444444444444,
              "#bd3786"
             ],
             [
              0.5555555555555556,
              "#d8576b"
             ],
             [
              0.6666666666666666,
              "#ed7953"
             ],
             [
              0.7777777777777778,
              "#fb9f3a"
             ],
             [
              0.8888888888888888,
              "#fdca26"
             ],
             [
              1,
              "#f0f921"
             ]
            ],
            "type": "heatmapgl"
           }
          ],
          "histogram": [
           {
            "marker": {
             "pattern": {
              "fillmode": "overlay",
              "size": 10,
              "solidity": 0.2
             }
            },
            "type": "histogram"
           }
          ],
          "histogram2d": [
           {
            "colorbar": {
             "outlinewidth": 0,
             "ticks": ""
            },
            "colorscale": [
             [
              0,
              "#0d0887"
             ],
             [
              0.1111111111111111,
              "#46039f"
             ],
             [
              0.2222222222222222,
              "#7201a8"
             ],
             [
              0.3333333333333333,
              "#9c179e"
             ],
             [
              0.4444444444444444,
              "#bd3786"
             ],
             [
              0.5555555555555556,
              "#d8576b"
             ],
             [
              0.6666666666666666,
              "#ed7953"
             ],
             [
              0.7777777777777778,
              "#fb9f3a"
             ],
             [
              0.8888888888888888,
              "#fdca26"
             ],
             [
              1,
              "#f0f921"
             ]
            ],
            "type": "histogram2d"
           }
          ],
          "histogram2dcontour": [
           {
            "colorbar": {
             "outlinewidth": 0,
             "ticks": ""
            },
            "colorscale": [
             [
              0,
              "#0d0887"
             ],
             [
              0.1111111111111111,
              "#46039f"
             ],
             [
              0.2222222222222222,
              "#7201a8"
             ],
             [
              0.3333333333333333,
              "#9c179e"
             ],
             [
              0.4444444444444444,
              "#bd3786"
             ],
             [
              0.5555555555555556,
              "#d8576b"
             ],
             [
              0.6666666666666666,
              "#ed7953"
             ],
             [
              0.7777777777777778,
              "#fb9f3a"
             ],
             [
              0.8888888888888888,
              "#fdca26"
             ],
             [
              1,
              "#f0f921"
             ]
            ],
            "type": "histogram2dcontour"
           }
          ],
          "mesh3d": [
           {
            "colorbar": {
             "outlinewidth": 0,
             "ticks": ""
            },
            "type": "mesh3d"
           }
          ],
          "parcoords": [
           {
            "line": {
             "colorbar": {
              "outlinewidth": 0,
              "ticks": ""
             }
            },
            "type": "parcoords"
           }
          ],
          "pie": [
           {
            "automargin": true,
            "type": "pie"
           }
          ],
          "scatter": [
           {
            "fillpattern": {
             "fillmode": "overlay",
             "size": 10,
             "solidity": 0.2
            },
            "type": "scatter"
           }
          ],
          "scatter3d": [
           {
            "line": {
             "colorbar": {
              "outlinewidth": 0,
              "ticks": ""
             }
            },
            "marker": {
             "colorbar": {
              "outlinewidth": 0,
              "ticks": ""
             }
            },
            "type": "scatter3d"
           }
          ],
          "scattercarpet": [
           {
            "marker": {
             "colorbar": {
              "outlinewidth": 0,
              "ticks": ""
             }
            },
            "type": "scattercarpet"
           }
          ],
          "scattergeo": [
           {
            "marker": {
             "colorbar": {
              "outlinewidth": 0,
              "ticks": ""
             }
            },
            "type": "scattergeo"
           }
          ],
          "scattergl": [
           {
            "marker": {
             "colorbar": {
              "outlinewidth": 0,
              "ticks": ""
             }
            },
            "type": "scattergl"
           }
          ],
          "scattermapbox": [
           {
            "marker": {
             "colorbar": {
              "outlinewidth": 0,
              "ticks": ""
             }
            },
            "type": "scattermapbox"
           }
          ],
          "scatterpolar": [
           {
            "marker": {
             "colorbar": {
              "outlinewidth": 0,
              "ticks": ""
             }
            },
            "type": "scatterpolar"
           }
          ],
          "scatterpolargl": [
           {
            "marker": {
             "colorbar": {
              "outlinewidth": 0,
              "ticks": ""
             }
            },
            "type": "scatterpolargl"
           }
          ],
          "scatterternary": [
           {
            "marker": {
             "colorbar": {
              "outlinewidth": 0,
              "ticks": ""
             }
            },
            "type": "scatterternary"
           }
          ],
          "surface": [
           {
            "colorbar": {
             "outlinewidth": 0,
             "ticks": ""
            },
            "colorscale": [
             [
              0,
              "#0d0887"
             ],
             [
              0.1111111111111111,
              "#46039f"
             ],
             [
              0.2222222222222222,
              "#7201a8"
             ],
             [
              0.3333333333333333,
              "#9c179e"
             ],
             [
              0.4444444444444444,
              "#bd3786"
             ],
             [
              0.5555555555555556,
              "#d8576b"
             ],
             [
              0.6666666666666666,
              "#ed7953"
             ],
             [
              0.7777777777777778,
              "#fb9f3a"
             ],
             [
              0.8888888888888888,
              "#fdca26"
             ],
             [
              1,
              "#f0f921"
             ]
            ],
            "type": "surface"
           }
          ],
          "table": [
           {
            "cells": {
             "fill": {
              "color": "#EBF0F8"
             },
             "line": {
              "color": "white"
             }
            },
            "header": {
             "fill": {
              "color": "#C8D4E3"
             },
             "line": {
              "color": "white"
             }
            },
            "type": "table"
           }
          ]
         },
         "layout": {
          "annotationdefaults": {
           "arrowcolor": "#2a3f5f",
           "arrowhead": 0,
           "arrowwidth": 1
          },
          "autotypenumbers": "strict",
          "coloraxis": {
           "colorbar": {
            "outlinewidth": 0,
            "ticks": ""
           }
          },
          "colorscale": {
           "diverging": [
            [
             0,
             "#8e0152"
            ],
            [
             0.1,
             "#c51b7d"
            ],
            [
             0.2,
             "#de77ae"
            ],
            [
             0.3,
             "#f1b6da"
            ],
            [
             0.4,
             "#fde0ef"
            ],
            [
             0.5,
             "#f7f7f7"
            ],
            [
             0.6,
             "#e6f5d0"
            ],
            [
             0.7,
             "#b8e186"
            ],
            [
             0.8,
             "#7fbc41"
            ],
            [
             0.9,
             "#4d9221"
            ],
            [
             1,
             "#276419"
            ]
           ],
           "sequential": [
            [
             0,
             "#0d0887"
            ],
            [
             0.1111111111111111,
             "#46039f"
            ],
            [
             0.2222222222222222,
             "#7201a8"
            ],
            [
             0.3333333333333333,
             "#9c179e"
            ],
            [
             0.4444444444444444,
             "#bd3786"
            ],
            [
             0.5555555555555556,
             "#d8576b"
            ],
            [
             0.6666666666666666,
             "#ed7953"
            ],
            [
             0.7777777777777778,
             "#fb9f3a"
            ],
            [
             0.8888888888888888,
             "#fdca26"
            ],
            [
             1,
             "#f0f921"
            ]
           ],
           "sequentialminus": [
            [
             0,
             "#0d0887"
            ],
            [
             0.1111111111111111,
             "#46039f"
            ],
            [
             0.2222222222222222,
             "#7201a8"
            ],
            [
             0.3333333333333333,
             "#9c179e"
            ],
            [
             0.4444444444444444,
             "#bd3786"
            ],
            [
             0.5555555555555556,
             "#d8576b"
            ],
            [
             0.6666666666666666,
             "#ed7953"
            ],
            [
             0.7777777777777778,
             "#fb9f3a"
            ],
            [
             0.8888888888888888,
             "#fdca26"
            ],
            [
             1,
             "#f0f921"
            ]
           ]
          },
          "colorway": [
           "#636efa",
           "#EF553B",
           "#00cc96",
           "#ab63fa",
           "#FFA15A",
           "#19d3f3",
           "#FF6692",
           "#B6E880",
           "#FF97FF",
           "#FECB52"
          ],
          "font": {
           "color": "#2a3f5f"
          },
          "geo": {
           "bgcolor": "white",
           "lakecolor": "white",
           "landcolor": "#E5ECF6",
           "showlakes": true,
           "showland": true,
           "subunitcolor": "white"
          },
          "hoverlabel": {
           "align": "left"
          },
          "hovermode": "closest",
          "mapbox": {
           "style": "light"
          },
          "paper_bgcolor": "white",
          "plot_bgcolor": "#E5ECF6",
          "polar": {
           "angularaxis": {
            "gridcolor": "white",
            "linecolor": "white",
            "ticks": ""
           },
           "bgcolor": "#E5ECF6",
           "radialaxis": {
            "gridcolor": "white",
            "linecolor": "white",
            "ticks": ""
           }
          },
          "scene": {
           "xaxis": {
            "backgroundcolor": "#E5ECF6",
            "gridcolor": "white",
            "gridwidth": 2,
            "linecolor": "white",
            "showbackground": true,
            "ticks": "",
            "zerolinecolor": "white"
           },
           "yaxis": {
            "backgroundcolor": "#E5ECF6",
            "gridcolor": "white",
            "gridwidth": 2,
            "linecolor": "white",
            "showbackground": true,
            "ticks": "",
            "zerolinecolor": "white"
           },
           "zaxis": {
            "backgroundcolor": "#E5ECF6",
            "gridcolor": "white",
            "gridwidth": 2,
            "linecolor": "white",
            "showbackground": true,
            "ticks": "",
            "zerolinecolor": "white"
           }
          },
          "shapedefaults": {
           "line": {
            "color": "#2a3f5f"
           }
          },
          "ternary": {
           "aaxis": {
            "gridcolor": "white",
            "linecolor": "white",
            "ticks": ""
           },
           "baxis": {
            "gridcolor": "white",
            "linecolor": "white",
            "ticks": ""
           },
           "bgcolor": "#E5ECF6",
           "caxis": {
            "gridcolor": "white",
            "linecolor": "white",
            "ticks": ""
           }
          },
          "title": {
           "x": 0.05
          },
          "xaxis": {
           "automargin": true,
           "gridcolor": "white",
           "linecolor": "white",
           "ticks": "",
           "title": {
            "standoff": 15
           },
           "zerolinecolor": "white",
           "zerolinewidth": 2
          },
          "yaxis": {
           "automargin": true,
           "gridcolor": "white",
           "linecolor": "white",
           "ticks": "",
           "title": {
            "standoff": 15
           },
           "zerolinecolor": "white",
           "zerolinewidth": 2
          }
         }
        },
        "title": {
         "text": "Optimization History Plot"
        },
        "xaxis": {
         "title": {
          "text": "Trial"
         }
        },
        "yaxis": {
         "title": {
          "text": "Objective Value"
         }
        }
       }
      }
     },
     "metadata": {},
     "output_type": "display_data"
    }
   ],
   "source": [
    "# # plot\n",
    "optuna.visualization.plot_optimization_history(study)\n",
    "\n",
    "\n",
    "\n",
    "\n",
    "\n"
   ]
  },
  {
   "cell_type": "code",
   "execution_count": 92,
   "metadata": {},
   "outputs": [
    {
     "name": "stdout",
     "output_type": "stream",
     "text": [
      "    number   value               duration     state\n",
      "0        0  0.6521 0 days 00:07:21.707995  COMPLETE\n",
      "1        1  0.6579 0 days 00:07:26.346141  COMPLETE\n",
      "2        2  0.6356 0 days 00:07:29.210976  COMPLETE\n",
      "3        3  0.5990 0 days 00:07:49.544016  COMPLETE\n",
      "4        4  0.6479 0 days 00:07:24.013754  COMPLETE\n",
      "5        5  0.3453 0 days 00:00:43.308873    PRUNED\n",
      "6        6  0.3842 0 days 00:00:43.355683    PRUNED\n",
      "7        7  0.3812 0 days 00:00:43.242410    PRUNED\n",
      "8        8  0.3455 0 days 00:00:44.823141    PRUNED\n",
      "9        9  0.3756 0 days 00:00:44.888413    PRUNED\n",
      "10      10  0.5002 0 days 00:02:00.748572    PRUNED\n",
      "11      11  0.5200 0 days 00:04:07.016692    PRUNED\n",
      "12      12  0.3157 0 days 00:00:42.799778    PRUNED\n",
      "13      13  0.6788 0 days 00:06:58.570628  COMPLETE\n",
      "14      14  0.2834 0 days 00:00:46.305521    PRUNED\n",
      "15      15  0.5426 0 days 00:02:57.602652    PRUNED\n",
      "16      16  0.3789 0 days 00:00:48.548181    PRUNED\n",
      "17      17  0.3401 0 days 00:00:44.714138    PRUNED\n",
      "18      18  0.3781 0 days 00:01:23.908330    PRUNED\n",
      "19      19  0.4647 0 days 00:01:20.308519    PRUNED\n",
      "Total duration of model training:  0 days 01:03:00.964413\n"
     ]
    }
   ],
   "source": [
    "#show result of study like duration, value, state\n",
    "df = study.trials_dataframe(attrs=(\"number\", \"value\",   'duration', 'state'))\n",
    "print(df)\n",
    "\n",
    "#total duration of model training\n",
    "print('Total duration of model training: ', df['duration'].sum())\n"
   ]
  },
  {
   "attachments": {},
   "cell_type": "markdown",
   "metadata": {},
   "source": [
    "## Results Grid search with optuna\n"
   ]
  },
  {
   "cell_type": "code",
   "execution_count": 99,
   "metadata": {},
   "outputs": [
    {
     "name": "stdout",
     "output_type": "stream",
     "text": [
      "Beste trial was:  13\n",
      "Best value is:  0.6787999868392944\n",
      "Time to train the best model:  0 days 00:07:49.544016\n",
      "Total time to train all models:  0 days 01:03:00.964413\n"
     ]
    }
   ],
   "source": [
    "\n",
    "print('Beste trial was: ', study.best_trial.number)\n",
    "\n",
    "# de beste value is\n",
    "print('Best value is: ', df['value'].max())\n",
    "# time to train the best model\n",
    "print('Time to train the best model: ', df['duration'].max())\n",
    "# total time to train all models\n",
    "print('Total time to train all models: ', df['duration'].sum())\n",
    "\n"
   ]
  },
  {
   "cell_type": "code",
   "execution_count": 19,
   "metadata": {},
   "outputs": [],
   "source": [
    "# The grid search has done 20 trials and the best model has an accuracy of 67.8%\n",
    "# which is 2.3 higher than the base model(64.4).\n",
    "# thanks to pruning we save about 20min in training time."
   ]
  },
  {
   "cell_type": "markdown",
   "metadata": {},
   "source": []
  },
  {
   "attachments": {},
   "cell_type": "markdown",
   "metadata": {},
   "source": [
    "### Optuna with TPE (Tree Parzen Estimator)\n",
    "We now use optuna to search for the best hyperparameters for the model using TPE (Tree Parzen Estimator) algorithm.\n",
    "\n",
    " 1) Define the cnn model (model_tpe)<br>\n",
    " 2) In the objective function we define the hyperparameters/search space we want to optimize and the model we want to optimize<br>\n",
    " 2.1  Save the best model_weights and use pruning to stop the training if the accuracy is not improving to save time and resources<br>\n",
    " 3) Run the optuna study and print the best parameters and the best accuracy, as sampler we use TPESampler to indicate we want to use TPE algorithm\n",
    " 4)  Load the best model weights and evaluate the model"
   ]
  },
  {
   "cell_type": "code",
   "execution_count": 34,
   "metadata": {},
   "outputs": [],
   "source": [
    "\n",
    "# \n",
    "\n",
    "def model_TPE():\n",
    "\n",
    "    batch_size = 32\n",
    "    num_classes = 10\n",
    "    epochs = 10\n",
    "\n",
    "    model = Sequential()\n",
    "    model.add(Conv2D(64, kernel_size=(3, 3), activation='relu', input_shape=X_train.shape[1:]))\n",
    "    model.add(MaxPooling2D(pool_size=(2, 2)))\n",
    "    model.add(BatchNormalization())\n",
    "    model.add(Dropout(0.3))\n",
    "\n",
    "    model.add(Conv2D(64, (3, 3), activation='relu'))\n",
    "    model.add(MaxPooling2D(pool_size=(2, 2)))\n",
    "    model.add(BatchNormalization())\n",
    "    model.add(Dropout(0.3))\n",
    "\n",
    "    model.add(Conv2D(64, (3, 3), activation='relu'))\n",
    "    model.add(Flatten())\n",
    "    model.add(Dropout(0.3))\n",
    "\n",
    "    model.add(Dense(128, activation='relu'))\n",
    "    model.add(Dropout(0.3))\n",
    "\n",
    "    model.add(Dense(128, activation='relu'))\n",
    "    model.add(Dropout(0.3))\n",
    "\n",
    "    model.add(Dense(128, activation='relu'))\n",
    "    model.add(Dropout(0.3))\n",
    "\n",
    "\n",
    "\n",
    "    model.add(Dense(128, activation='relu'))\n",
    "    model.add(Dropout(0.3))\n",
    "    model.add(Dense(num_classes, activation='softmax'))\n",
    "    return model\n",
    "\n",
    "\n",
    "\n",
    "\n",
    "\n",
    "\n",
    "\n"
   ]
  },
  {
   "cell_type": "code",
   "execution_count": 35,
   "metadata": {},
   "outputs": [],
   "source": [
    "#optuna\n",
    "def objective(trial):\n",
    "    batch_size = trial.suggest_categorical('batch_size', [32, 64, 128])\n",
    "    epochs = trial.suggest_categorical('epochs', [10, 20, 30])\n",
    "    dense_nodes = trial.suggest_categorical('dense_nodes', [32,64,128,256])\n",
    "    conv_nodes = trial.suggest_categorical('conv_nodes', [8,16,32,64])\n",
    "    conv_layer = trial.suggest_categorical('conv_layer', [1,2,3,4,5])\n",
    "    dense_layer = trial.suggest_categorical('dense_layer', [1,2,3,4,5,6])\n",
    "    dropout = trial.suggest_categorical('dropout', [0.1, 0.2, 0.3, 0.4, 0.5])\n",
    "\n",
    "\n",
    "\n",
    "    model = model_TPE()\n",
    "\n",
    "    pruning_callback = optuna.integration.KerasPruningCallback(trial, 'val_accuracy')\n",
    "    \n",
    "     #checkpoint\n",
    "    mc = ModelCheckpoint('best_model_optuna_tpe.h5', monitor='val_accuracy', mode='max', verbose=1, save_best_only=True)\n",
    "\n",
    "    model.compile(loss='categorical_crossentropy', optimizer=Adam(), metrics=['accuracy'])\n",
    "    history = model.fit(X_train, y_train, batch_size=batch_size, epochs=epochs,  validation_data=(X_test, y_test) , shuffle=True, callbacks=[pruning_callback])\n",
    "\n",
    "\n",
    "    #save model weights\n",
    "    model.save('best_model_optuna_tpe_saved')\n",
    "\n",
    "    \n",
    "    #save model weight\n",
    "    model.save_weights('best_model_tpe_weights')\n",
    "\n",
    "    \n",
    "\n",
    "    return history.history['val_accuracy'][-1]\n",
    "\n",
    "   \n",
    "   #train model\n",
    "   "
   ]
  },
  {
   "cell_type": "code",
   "execution_count": 36,
   "metadata": {},
   "outputs": [
    {
     "name": "stderr",
     "output_type": "stream",
     "text": [
      "\u001b[32m[I 2023-01-24 14:44:07,006]\u001b[0m A new study created in RDB with name: optuna_tpe1\u001b[0m\n",
      "C:\\Users\\domin\\AppData\\Local\\Temp\\ipykernel_25900\\642306089.py:15: FutureWarning: KerasPruningCallback has been deprecated in v2.1.0. This feature will be removed in v4.0.0. See https://github.com/optuna/optuna/releases/tag/v2.1.0. Recent Keras release (2.4.0) simply redirects all APIs in the standalone keras package to point to tf.keras. There is now only one Keras: tf.keras. There may be some breaking changes for some workflows by upgrading to keras 2.4.0. Test before upgrading. REF: https://github.com/keras-team/keras/releases/tag/2.4.0. There is an alternative callback function that can be used instead: :class:`~optuna.integration.TFKerasPruningCallback`\n",
      "  pruning_callback = optuna.integration.KerasPruningCallback(trial, 'val_accuracy')\n"
     ]
    },
    {
     "name": "stdout",
     "output_type": "stream",
     "text": [
      "Epoch 1/10\n",
      "625/625 [==============================] - 45s 71ms/step - loss: 1.9262 - accuracy: 0.2661 - val_loss: 1.6302 - val_accuracy: 0.3938\n",
      "Epoch 2/10\n",
      "625/625 [==============================] - 42s 67ms/step - loss: 1.5966 - accuracy: 0.4117 - val_loss: 1.3967 - val_accuracy: 0.5056\n",
      "Epoch 3/10\n",
      "625/625 [==============================] - 41s 65ms/step - loss: 1.4533 - accuracy: 0.4799 - val_loss: 1.3957 - val_accuracy: 0.4945\n",
      "Epoch 4/10\n",
      "625/625 [==============================] - 41s 65ms/step - loss: 1.3513 - accuracy: 0.5262 - val_loss: 1.6952 - val_accuracy: 0.4647\n",
      "Epoch 5/10\n",
      "625/625 [==============================] - 43s 70ms/step - loss: 1.2746 - accuracy: 0.5584 - val_loss: 1.1843 - val_accuracy: 0.5827\n",
      "Epoch 6/10\n",
      "625/625 [==============================] - 45s 72ms/step - loss: 1.2171 - accuracy: 0.5820 - val_loss: 1.6232 - val_accuracy: 0.4593\n",
      "Epoch 7/10\n",
      "625/625 [==============================] - 48s 77ms/step - loss: 1.1707 - accuracy: 0.6004 - val_loss: 1.1802 - val_accuracy: 0.6031\n",
      "Epoch 8/10\n",
      "625/625 [==============================] - 47s 75ms/step - loss: 1.1361 - accuracy: 0.6142 - val_loss: 1.3067 - val_accuracy: 0.5324\n",
      "Epoch 9/10\n",
      "625/625 [==============================] - 45s 72ms/step - loss: 1.1077 - accuracy: 0.6232 - val_loss: 1.2187 - val_accuracy: 0.5830\n",
      "Epoch 10/10\n",
      "625/625 [==============================] - 45s 71ms/step - loss: 1.0749 - accuracy: 0.6367 - val_loss: 1.0059 - val_accuracy: 0.6502\n"
     ]
    },
    {
     "name": "stderr",
     "output_type": "stream",
     "text": [
      "WARNING:absl:Found untraced functions such as _jit_compiled_convolution_op, _jit_compiled_convolution_op, _jit_compiled_convolution_op while saving (showing 3 of 3). These functions will not be directly callable after loading.\n"
     ]
    },
    {
     "name": "stdout",
     "output_type": "stream",
     "text": [
      "INFO:tensorflow:Assets written to: best_model_optuna_tpe_saved\\assets\n"
     ]
    },
    {
     "name": "stderr",
     "output_type": "stream",
     "text": [
      "INFO:tensorflow:Assets written to: best_model_optuna_tpe_saved\\assets\n",
      "\u001b[32m[I 2023-01-24 14:51:31,145]\u001b[0m Trial 0 finished with value: 0.6502000093460083 and parameters: {'batch_size': 64, 'epochs': 10, 'dense_nodes': 32, 'conv_nodes': 16, 'conv_layer': 3, 'dense_layer': 4, 'dropout': 0.5}. Best is trial 0 with value: 0.6502000093460083.\u001b[0m\n",
      "C:\\Users\\domin\\AppData\\Local\\Temp\\ipykernel_25900\\642306089.py:15: FutureWarning: KerasPruningCallback has been deprecated in v2.1.0. This feature will be removed in v4.0.0. See https://github.com/optuna/optuna/releases/tag/v2.1.0. Recent Keras release (2.4.0) simply redirects all APIs in the standalone keras package to point to tf.keras. There is now only one Keras: tf.keras. There may be some breaking changes for some workflows by upgrading to keras 2.4.0. Test before upgrading. REF: https://github.com/keras-team/keras/releases/tag/2.4.0. There is an alternative callback function that can be used instead: :class:`~optuna.integration.TFKerasPruningCallback`\n",
      "  pruning_callback = optuna.integration.KerasPruningCallback(trial, 'val_accuracy')\n"
     ]
    },
    {
     "name": "stdout",
     "output_type": "stream",
     "text": [
      "Epoch 1/20\n",
      "625/625 [==============================] - 46s 73ms/step - loss: 1.9184 - accuracy: 0.2688 - val_loss: 1.9209 - val_accuracy: 0.3236\n",
      "Epoch 2/20\n",
      "625/625 [==============================] - 43s 69ms/step - loss: 1.5797 - accuracy: 0.4232 - val_loss: 1.5758 - val_accuracy: 0.4391\n",
      "Epoch 3/20\n",
      "625/625 [==============================] - 42s 67ms/step - loss: 1.4236 - accuracy: 0.4955 - val_loss: 1.3361 - val_accuracy: 0.5362\n",
      "Epoch 4/20\n",
      "625/625 [==============================] - 42s 68ms/step - loss: 1.3308 - accuracy: 0.5401 - val_loss: 1.2740 - val_accuracy: 0.5478\n",
      "Epoch 5/20\n",
      "625/625 [==============================] - 44s 70ms/step - loss: 1.2510 - accuracy: 0.5716 - val_loss: 1.1476 - val_accuracy: 0.6038\n",
      "Epoch 6/20\n",
      "625/625 [==============================] - 44s 71ms/step - loss: 1.1885 - accuracy: 0.5969 - val_loss: 1.0299 - val_accuracy: 0.6410\n",
      "Epoch 7/20\n",
      "625/625 [==============================] - 44s 70ms/step - loss: 1.1489 - accuracy: 0.6110 - val_loss: 1.2836 - val_accuracy: 0.5514\n",
      "Epoch 8/20\n",
      "625/625 [==============================] - 41s 66ms/step - loss: 1.1078 - accuracy: 0.6252 - val_loss: 0.9973 - val_accuracy: 0.6581\n",
      "Epoch 9/20\n",
      "625/625 [==============================] - 40s 64ms/step - loss: 1.0776 - accuracy: 0.6369 - val_loss: 0.9877 - val_accuracy: 0.6646\n",
      "Epoch 10/20\n",
      "625/625 [==============================] - 40s 64ms/step - loss: 1.0595 - accuracy: 0.6427 - val_loss: 0.9984 - val_accuracy: 0.6445\n",
      "Epoch 11/20\n",
      "625/625 [==============================] - 40s 64ms/step - loss: 1.0254 - accuracy: 0.6546 - val_loss: 0.9732 - val_accuracy: 0.6709\n",
      "Epoch 12/20\n",
      "625/625 [==============================] - 37s 60ms/step - loss: 1.0016 - accuracy: 0.6625 - val_loss: 0.9679 - val_accuracy: 0.6630\n",
      "Epoch 13/20\n",
      "625/625 [==============================] - 42s 67ms/step - loss: 0.9897 - accuracy: 0.6665 - val_loss: 0.9237 - val_accuracy: 0.6828\n",
      "Epoch 14/20\n",
      "625/625 [==============================] - 41s 66ms/step - loss: 0.9753 - accuracy: 0.6719 - val_loss: 0.9273 - val_accuracy: 0.6821\n",
      "Epoch 15/20\n",
      "625/625 [==============================] - 43s 69ms/step - loss: 0.9723 - accuracy: 0.6712 - val_loss: 0.8646 - val_accuracy: 0.7036\n",
      "Epoch 16/20\n",
      "625/625 [==============================] - 41s 66ms/step - loss: 0.9549 - accuracy: 0.6800 - val_loss: 0.9537 - val_accuracy: 0.6822\n",
      "Epoch 17/20\n",
      "625/625 [==============================] - 41s 66ms/step - loss: 0.9343 - accuracy: 0.6884 - val_loss: 0.8508 - val_accuracy: 0.7089\n",
      "Epoch 18/20\n",
      "625/625 [==============================] - 42s 68ms/step - loss: 0.9254 - accuracy: 0.6931 - val_loss: 0.9464 - val_accuracy: 0.6742\n",
      "Epoch 19/20\n",
      "625/625 [==============================] - 42s 67ms/step - loss: 0.9179 - accuracy: 0.6955 - val_loss: 0.9349 - val_accuracy: 0.6752\n",
      "Epoch 20/20\n",
      "625/625 [==============================] - 43s 68ms/step - loss: 0.9120 - accuracy: 0.6970 - val_loss: 0.8497 - val_accuracy: 0.6993\n"
     ]
    },
    {
     "name": "stderr",
     "output_type": "stream",
     "text": [
      "WARNING:absl:Found untraced functions such as _jit_compiled_convolution_op, _jit_compiled_convolution_op, _jit_compiled_convolution_op while saving (showing 3 of 3). These functions will not be directly callable after loading.\n"
     ]
    },
    {
     "name": "stdout",
     "output_type": "stream",
     "text": [
      "INFO:tensorflow:Assets written to: best_model_optuna_tpe_saved\\assets\n"
     ]
    },
    {
     "name": "stderr",
     "output_type": "stream",
     "text": [
      "INFO:tensorflow:Assets written to: best_model_optuna_tpe_saved\\assets\n",
      "\u001b[32m[I 2023-01-24 15:05:32,913]\u001b[0m Trial 1 finished with value: 0.6992999911308289 and parameters: {'batch_size': 64, 'epochs': 20, 'dense_nodes': 32, 'conv_nodes': 16, 'conv_layer': 2, 'dense_layer': 1, 'dropout': 0.3}. Best is trial 1 with value: 0.6992999911308289.\u001b[0m\n",
      "C:\\Users\\domin\\AppData\\Local\\Temp\\ipykernel_25900\\642306089.py:15: FutureWarning: KerasPruningCallback has been deprecated in v2.1.0. This feature will be removed in v4.0.0. See https://github.com/optuna/optuna/releases/tag/v2.1.0. Recent Keras release (2.4.0) simply redirects all APIs in the standalone keras package to point to tf.keras. There is now only one Keras: tf.keras. There may be some breaking changes for some workflows by upgrading to keras 2.4.0. Test before upgrading. REF: https://github.com/keras-team/keras/releases/tag/2.4.0. There is an alternative callback function that can be used instead: :class:`~optuna.integration.TFKerasPruningCallback`\n",
      "  pruning_callback = optuna.integration.KerasPruningCallback(trial, 'val_accuracy')\n"
     ]
    },
    {
     "name": "stdout",
     "output_type": "stream",
     "text": [
      "Epoch 1/20\n",
      "625/625 [==============================] - 44s 69ms/step - loss: 1.9319 - accuracy: 0.2623 - val_loss: 1.5824 - val_accuracy: 0.4243\n",
      "Epoch 2/20\n",
      "625/625 [==============================] - 47s 75ms/step - loss: 1.5886 - accuracy: 0.4186 - val_loss: 1.5774 - val_accuracy: 0.4328\n",
      "Epoch 3/20\n",
      "625/625 [==============================] - 49s 78ms/step - loss: 1.4391 - accuracy: 0.4879 - val_loss: 1.5434 - val_accuracy: 0.4777\n",
      "Epoch 4/20\n",
      "625/625 [==============================] - 44s 70ms/step - loss: 1.3498 - accuracy: 0.5304 - val_loss: 1.4395 - val_accuracy: 0.5123\n",
      "Epoch 5/20\n",
      "625/625 [==============================] - 45s 73ms/step - loss: 1.2759 - accuracy: 0.5591 - val_loss: 1.2043 - val_accuracy: 0.5992\n",
      "Epoch 6/20\n",
      "625/625 [==============================] - 42s 67ms/step - loss: 1.2175 - accuracy: 0.5829 - val_loss: 1.1041 - val_accuracy: 0.6081\n",
      "Epoch 7/20\n",
      "625/625 [==============================] - 42s 68ms/step - loss: 1.1673 - accuracy: 0.6022 - val_loss: 1.4119 - val_accuracy: 0.5353\n",
      "Epoch 8/20\n",
      "625/625 [==============================] - 46s 73ms/step - loss: 1.1246 - accuracy: 0.6190 - val_loss: 1.1947 - val_accuracy: 0.6003\n",
      "Epoch 9/20\n",
      "625/625 [==============================] - 51s 81ms/step - loss: 1.1069 - accuracy: 0.6270 - val_loss: 1.0881 - val_accuracy: 0.6044\n",
      "Epoch 10/20\n",
      "625/625 [==============================] - 51s 82ms/step - loss: 1.0771 - accuracy: 0.6359 - val_loss: 1.0279 - val_accuracy: 0.6426\n",
      "Epoch 11/20\n",
      "625/625 [==============================] - 48s 76ms/step - loss: 1.0491 - accuracy: 0.6461 - val_loss: 1.0096 - val_accuracy: 0.6522\n",
      "Epoch 12/20\n",
      "625/625 [==============================] - 49s 78ms/step - loss: 1.0332 - accuracy: 0.6503 - val_loss: 1.1072 - val_accuracy: 0.6281\n",
      "Epoch 13/20\n",
      "625/625 [==============================] - 43s 68ms/step - loss: 1.0237 - accuracy: 0.6558 - val_loss: 1.0549 - val_accuracy: 0.6343\n",
      "Epoch 14/20\n",
      "625/625 [==============================] - 41s 65ms/step - loss: 0.9965 - accuracy: 0.6638 - val_loss: 1.0342 - val_accuracy: 0.6500\n",
      "Epoch 15/20\n",
      "625/625 [==============================] - 41s 66ms/step - loss: 0.9922 - accuracy: 0.6690 - val_loss: 0.9132 - val_accuracy: 0.6895\n",
      "Epoch 16/20\n",
      "625/625 [==============================] - 39s 62ms/step - loss: 0.9775 - accuracy: 0.6749 - val_loss: 0.9489 - val_accuracy: 0.6641\n",
      "Epoch 17/20\n",
      "625/625 [==============================] - 37s 59ms/step - loss: 0.9511 - accuracy: 0.6818 - val_loss: 1.0081 - val_accuracy: 0.6623\n",
      "Epoch 18/20\n",
      "625/625 [==============================] - 37s 59ms/step - loss: 0.9450 - accuracy: 0.6845 - val_loss: 0.8812 - val_accuracy: 0.7010\n",
      "Epoch 19/20\n",
      "625/625 [==============================] - 37s 59ms/step - loss: 0.9514 - accuracy: 0.6839 - val_loss: 0.8700 - val_accuracy: 0.7073\n",
      "Epoch 20/20\n",
      "625/625 [==============================] - 37s 59ms/step - loss: 0.9276 - accuracy: 0.6908 - val_loss: 0.8844 - val_accuracy: 0.7046\n"
     ]
    },
    {
     "name": "stderr",
     "output_type": "stream",
     "text": [
      "WARNING:absl:Found untraced functions such as _jit_compiled_convolution_op, _jit_compiled_convolution_op, _jit_compiled_convolution_op while saving (showing 3 of 3). These functions will not be directly callable after loading.\n"
     ]
    },
    {
     "name": "stdout",
     "output_type": "stream",
     "text": [
      "INFO:tensorflow:Assets written to: best_model_optuna_tpe_saved\\assets\n"
     ]
    },
    {
     "name": "stderr",
     "output_type": "stream",
     "text": [
      "INFO:tensorflow:Assets written to: best_model_optuna_tpe_saved\\assets\n",
      "\u001b[32m[I 2023-01-24 15:20:02,815]\u001b[0m Trial 2 finished with value: 0.7045999765396118 and parameters: {'batch_size': 64, 'epochs': 20, 'dense_nodes': 32, 'conv_nodes': 8, 'conv_layer': 1, 'dense_layer': 5, 'dropout': 0.1}. Best is trial 2 with value: 0.7045999765396118.\u001b[0m\n",
      "C:\\Users\\domin\\AppData\\Local\\Temp\\ipykernel_25900\\642306089.py:15: FutureWarning: KerasPruningCallback has been deprecated in v2.1.0. This feature will be removed in v4.0.0. See https://github.com/optuna/optuna/releases/tag/v2.1.0. Recent Keras release (2.4.0) simply redirects all APIs in the standalone keras package to point to tf.keras. There is now only one Keras: tf.keras. There may be some breaking changes for some workflows by upgrading to keras 2.4.0. Test before upgrading. REF: https://github.com/keras-team/keras/releases/tag/2.4.0. There is an alternative callback function that can be used instead: :class:`~optuna.integration.TFKerasPruningCallback`\n",
      "  pruning_callback = optuna.integration.KerasPruningCallback(trial, 'val_accuracy')\n"
     ]
    },
    {
     "name": "stdout",
     "output_type": "stream",
     "text": [
      "Epoch 1/10\n",
      "313/313 [==============================] - 35s 109ms/step - loss: 1.9435 - accuracy: 0.2517 - val_loss: 3.9581 - val_accuracy: 0.1138\n",
      "Epoch 2/10\n",
      "313/313 [==============================] - 35s 112ms/step - loss: 1.5907 - accuracy: 0.4121 - val_loss: 1.3983 - val_accuracy: 0.4886\n",
      "Epoch 3/10\n",
      "313/313 [==============================] - 35s 113ms/step - loss: 1.4492 - accuracy: 0.4803 - val_loss: 1.3023 - val_accuracy: 0.5214\n",
      "Epoch 4/10\n",
      "313/313 [==============================] - 36s 114ms/step - loss: 1.3417 - accuracy: 0.5301 - val_loss: 1.3124 - val_accuracy: 0.5260\n",
      "Epoch 5/10\n",
      "313/313 [==============================] - 35s 113ms/step - loss: 1.2601 - accuracy: 0.5649 - val_loss: 1.7077 - val_accuracy: 0.4023\n",
      "Epoch 6/10\n",
      "313/313 [==============================] - 35s 113ms/step - loss: 1.2025 - accuracy: 0.5876 - val_loss: 1.1248 - val_accuracy: 0.6061\n",
      "Epoch 7/10\n",
      "313/313 [==============================] - 38s 120ms/step - loss: 1.1591 - accuracy: 0.6037 - val_loss: 1.1530 - val_accuracy: 0.5978\n",
      "Epoch 8/10\n",
      "313/313 [==============================] - 36s 114ms/step - loss: 1.1195 - accuracy: 0.6197 - val_loss: 1.0428 - val_accuracy: 0.6316\n",
      "Epoch 9/10\n",
      "313/313 [==============================] - 34s 110ms/step - loss: 1.0795 - accuracy: 0.6350 - val_loss: 0.9916 - val_accuracy: 0.6525\n",
      "Epoch 10/10\n",
      "313/313 [==============================] - 34s 109ms/step - loss: 1.0483 - accuracy: 0.6450 - val_loss: 1.0465 - val_accuracy: 0.6352\n"
     ]
    },
    {
     "name": "stderr",
     "output_type": "stream",
     "text": [
      "WARNING:absl:Found untraced functions such as _jit_compiled_convolution_op, _jit_compiled_convolution_op, _jit_compiled_convolution_op while saving (showing 3 of 3). These functions will not be directly callable after loading.\n"
     ]
    },
    {
     "name": "stdout",
     "output_type": "stream",
     "text": [
      "INFO:tensorflow:Assets written to: best_model_optuna_tpe_saved\\assets\n"
     ]
    },
    {
     "name": "stderr",
     "output_type": "stream",
     "text": [
      "INFO:tensorflow:Assets written to: best_model_optuna_tpe_saved\\assets\n",
      "\u001b[32m[I 2023-01-24 15:25:58,501]\u001b[0m Trial 3 finished with value: 0.635200023651123 and parameters: {'batch_size': 128, 'epochs': 10, 'dense_nodes': 128, 'conv_nodes': 32, 'conv_layer': 5, 'dense_layer': 1, 'dropout': 0.3}. Best is trial 2 with value: 0.7045999765396118.\u001b[0m\n",
      "C:\\Users\\domin\\AppData\\Local\\Temp\\ipykernel_25900\\642306089.py:15: FutureWarning: KerasPruningCallback has been deprecated in v2.1.0. This feature will be removed in v4.0.0. See https://github.com/optuna/optuna/releases/tag/v2.1.0. Recent Keras release (2.4.0) simply redirects all APIs in the standalone keras package to point to tf.keras. There is now only one Keras: tf.keras. There may be some breaking changes for some workflows by upgrading to keras 2.4.0. Test before upgrading. REF: https://github.com/keras-team/keras/releases/tag/2.4.0. There is an alternative callback function that can be used instead: :class:`~optuna.integration.TFKerasPruningCallback`\n",
      "  pruning_callback = optuna.integration.KerasPruningCallback(trial, 'val_accuracy')\n"
     ]
    },
    {
     "name": "stdout",
     "output_type": "stream",
     "text": [
      "Epoch 1/20\n",
      "625/625 [==============================] - 38s 59ms/step - loss: 1.9175 - accuracy: 0.2724 - val_loss: 1.5938 - val_accuracy: 0.4209\n",
      "Epoch 2/20\n",
      "625/625 [==============================] - 39s 63ms/step - loss: 1.5758 - accuracy: 0.4238 - val_loss: 1.3765 - val_accuracy: 0.4979\n",
      "Epoch 3/20\n",
      "625/625 [==============================] - 43s 69ms/step - loss: 1.4353 - accuracy: 0.4852 - val_loss: 1.2969 - val_accuracy: 0.5421\n",
      "Epoch 4/20\n",
      "625/625 [==============================] - 41s 65ms/step - loss: 1.3338 - accuracy: 0.5306 - val_loss: 1.3751 - val_accuracy: 0.5260\n",
      "Epoch 5/20\n",
      "625/625 [==============================] - 40s 64ms/step - loss: 1.2636 - accuracy: 0.5650 - val_loss: 1.1786 - val_accuracy: 0.5841\n",
      "Epoch 6/20\n",
      "625/625 [==============================] - 39s 62ms/step - loss: 1.2035 - accuracy: 0.5881 - val_loss: 1.1053 - val_accuracy: 0.6209\n",
      "Epoch 7/20\n",
      "625/625 [==============================] - 42s 67ms/step - loss: 1.1508 - accuracy: 0.6062 - val_loss: 0.9899 - val_accuracy: 0.6539\n",
      "Epoch 8/20\n",
      "625/625 [==============================] - 40s 64ms/step - loss: 1.1150 - accuracy: 0.6202 - val_loss: 0.9759 - val_accuracy: 0.6639\n",
      "Epoch 9/20\n",
      "625/625 [==============================] - 45s 73ms/step - loss: 1.0838 - accuracy: 0.6340 - val_loss: 1.1725 - val_accuracy: 0.6087\n",
      "Epoch 10/20\n",
      "625/625 [==============================] - 47s 75ms/step - loss: 1.0509 - accuracy: 0.6454 - val_loss: 0.9243 - val_accuracy: 0.6812\n",
      "Epoch 11/20\n",
      "625/625 [==============================] - 43s 69ms/step - loss: 1.0386 - accuracy: 0.6490 - val_loss: 0.9560 - val_accuracy: 0.6682\n",
      "Epoch 12/20\n",
      "625/625 [==============================] - 45s 72ms/step - loss: 1.0092 - accuracy: 0.6589 - val_loss: 0.9215 - val_accuracy: 0.6921\n",
      "Epoch 13/20\n",
      "625/625 [==============================] - 43s 69ms/step - loss: 0.9985 - accuracy: 0.6661 - val_loss: 0.8654 - val_accuracy: 0.7016\n",
      "Epoch 14/20\n",
      "625/625 [==============================] - 46s 74ms/step - loss: 0.9759 - accuracy: 0.6737 - val_loss: 0.8795 - val_accuracy: 0.7022\n",
      "Epoch 15/20\n",
      "625/625 [==============================] - 48s 77ms/step - loss: 0.9654 - accuracy: 0.6775 - val_loss: 0.8908 - val_accuracy: 0.7000\n",
      "Epoch 16/20\n",
      "625/625 [==============================] - 43s 68ms/step - loss: 0.9458 - accuracy: 0.6853 - val_loss: 0.8348 - val_accuracy: 0.7138\n",
      "Epoch 17/20\n",
      "625/625 [==============================] - 43s 69ms/step - loss: 0.9393 - accuracy: 0.6869 - val_loss: 0.8691 - val_accuracy: 0.7022\n",
      "Epoch 18/20\n",
      "625/625 [==============================] - 38s 61ms/step - loss: 0.9263 - accuracy: 0.6945 - val_loss: 0.9362 - val_accuracy: 0.6900\n",
      "Epoch 19/20\n",
      "625/625 [==============================] - 44s 70ms/step - loss: 0.9210 - accuracy: 0.6924 - val_loss: 0.9279 - val_accuracy: 0.6809\n",
      "Epoch 20/20\n",
      "625/625 [==============================] - 43s 69ms/step - loss: 0.9146 - accuracy: 0.6970 - val_loss: 0.8609 - val_accuracy: 0.7049\n"
     ]
    },
    {
     "name": "stderr",
     "output_type": "stream",
     "text": [
      "WARNING:absl:Found untraced functions such as _jit_compiled_convolution_op, _jit_compiled_convolution_op, _jit_compiled_convolution_op while saving (showing 3 of 3). These functions will not be directly callable after loading.\n"
     ]
    },
    {
     "name": "stdout",
     "output_type": "stream",
     "text": [
      "INFO:tensorflow:Assets written to: best_model_optuna_tpe_saved\\assets\n"
     ]
    },
    {
     "name": "stderr",
     "output_type": "stream",
     "text": [
      "INFO:tensorflow:Assets written to: best_model_optuna_tpe_saved\\assets\n",
      "\u001b[32m[I 2023-01-24 15:40:10,730]\u001b[0m Trial 4 finished with value: 0.7049000263214111 and parameters: {'batch_size': 64, 'epochs': 20, 'dense_nodes': 128, 'conv_nodes': 16, 'conv_layer': 5, 'dense_layer': 1, 'dropout': 0.1}. Best is trial 4 with value: 0.7049000263214111.\u001b[0m\n",
      "C:\\Users\\domin\\AppData\\Local\\Temp\\ipykernel_25900\\642306089.py:15: FutureWarning: KerasPruningCallback has been deprecated in v2.1.0. This feature will be removed in v4.0.0. See https://github.com/optuna/optuna/releases/tag/v2.1.0. Recent Keras release (2.4.0) simply redirects all APIs in the standalone keras package to point to tf.keras. There is now only one Keras: tf.keras. There may be some breaking changes for some workflows by upgrading to keras 2.4.0. Test before upgrading. REF: https://github.com/keras-team/keras/releases/tag/2.4.0. There is an alternative callback function that can be used instead: :class:`~optuna.integration.TFKerasPruningCallback`\n",
      "  pruning_callback = optuna.integration.KerasPruningCallback(trial, 'val_accuracy')\n"
     ]
    },
    {
     "name": "stdout",
     "output_type": "stream",
     "text": [
      "Epoch 1/30\n",
      "625/625 [==============================] - 42s 66ms/step - loss: 1.8982 - accuracy: 0.2748 - val_loss: 1.5804 - val_accuracy: 0.4020\n",
      "Epoch 2/30\n",
      "625/625 [==============================] - ETA: 0s - loss: 1.5775 - accuracy: 0.4178"
     ]
    },
    {
     "name": "stderr",
     "output_type": "stream",
     "text": [
      "\u001b[32m[I 2023-01-24 15:41:33,619]\u001b[0m Trial 5 pruned. Trial was pruned at epoch 1.\u001b[0m\n"
     ]
    },
    {
     "name": "stdout",
     "output_type": "stream",
     "text": [
      "Epoch 1/10\n",
      "313/313 [==============================] - ETA: 0s - loss: 2.0194 - accuracy: 0.2237"
     ]
    },
    {
     "name": "stderr",
     "output_type": "stream",
     "text": [
      "\u001b[32m[I 2023-01-24 15:42:12,329]\u001b[0m Trial 6 pruned. Trial was pruned at epoch 0.\u001b[0m\n"
     ]
    },
    {
     "name": "stdout",
     "output_type": "stream",
     "text": [
      "Epoch 1/10\n",
      "625/625 [==============================] - ETA: 0s - loss: 1.9095 - accuracy: 0.2642"
     ]
    },
    {
     "name": "stderr",
     "output_type": "stream",
     "text": [
      "\u001b[32m[I 2023-01-24 15:42:52,887]\u001b[0m Trial 7 pruned. Trial was pruned at epoch 0.\u001b[0m\n"
     ]
    },
    {
     "name": "stdout",
     "output_type": "stream",
     "text": [
      "Epoch 1/30\n",
      "1250/1250 [==============================] - 46s 36ms/step - loss: 1.8793 - accuracy: 0.2857 - val_loss: 1.5610 - val_accuracy: 0.3967\n",
      "Epoch 2/30\n",
      "1249/1250 [============================>.] - ETA: 0s - loss: 1.5765 - accuracy: 0.4245"
     ]
    },
    {
     "name": "stderr",
     "output_type": "stream",
     "text": [
      "\u001b[32m[I 2023-01-24 15:44:21,764]\u001b[0m Trial 8 pruned. Trial was pruned at epoch 1.\u001b[0m\n"
     ]
    },
    {
     "name": "stdout",
     "output_type": "stream",
     "text": [
      "Epoch 1/20\n",
      "1250/1250 [==============================] - ETA: 0s - loss: 1.9022 - accuracy: 0.2800"
     ]
    },
    {
     "name": "stderr",
     "output_type": "stream",
     "text": [
      "\u001b[32m[I 2023-01-24 15:45:04,856]\u001b[0m Trial 9 pruned. Trial was pruned at epoch 0.\u001b[0m\n"
     ]
    },
    {
     "name": "stdout",
     "output_type": "stream",
     "text": [
      "Epoch 1/20\n",
      "1249/1250 [============================>.] - ETA: 0s - loss: 1.8932 - accuracy: 0.2784"
     ]
    },
    {
     "name": "stderr",
     "output_type": "stream",
     "text": [
      "\u001b[32m[I 2023-01-24 15:45:49,036]\u001b[0m Trial 10 pruned. Trial was pruned at epoch 0.\u001b[0m\n"
     ]
    },
    {
     "name": "stdout",
     "output_type": "stream",
     "text": [
      "Epoch 1/20\n",
      "625/625 [==============================] - 42s 65ms/step - loss: 1.9162 - accuracy: 0.2621 - val_loss: 1.5674 - val_accuracy: 0.3955\n",
      "Epoch 2/20\n",
      "625/625 [==============================] - ETA: 0s - loss: 1.5798 - accuracy: 0.4123"
     ]
    },
    {
     "name": "stderr",
     "output_type": "stream",
     "text": [
      "\u001b[32m[I 2023-01-24 15:47:13,380]\u001b[0m Trial 11 pruned. Trial was pruned at epoch 1.\u001b[0m\n"
     ]
    },
    {
     "name": "stdout",
     "output_type": "stream",
     "text": [
      "Epoch 1/20\n",
      "625/625 [==============================] - ETA: 0s - loss: 1.9189 - accuracy: 0.2695"
     ]
    },
    {
     "name": "stderr",
     "output_type": "stream",
     "text": [
      "\u001b[32m[I 2023-01-24 15:47:55,553]\u001b[0m Trial 12 pruned. Trial was pruned at epoch 0.\u001b[0m\n"
     ]
    },
    {
     "name": "stdout",
     "output_type": "stream",
     "text": [
      "Epoch 1/20\n",
      "625/625 [==============================] - ETA: 0s - loss: 1.9062 - accuracy: 0.2716"
     ]
    },
    {
     "name": "stderr",
     "output_type": "stream",
     "text": [
      "\u001b[32m[I 2023-01-24 15:48:38,525]\u001b[0m Trial 13 pruned. Trial was pruned at epoch 0.\u001b[0m\n"
     ]
    },
    {
     "name": "stdout",
     "output_type": "stream",
     "text": [
      "Epoch 1/20\n",
      "313/313 [==============================] - ETA: 0s - loss: 1.9445 - accuracy: 0.2587"
     ]
    },
    {
     "name": "stderr",
     "output_type": "stream",
     "text": [
      "\u001b[32m[I 2023-01-24 15:49:19,378]\u001b[0m Trial 14 pruned. Trial was pruned at epoch 0.\u001b[0m\n"
     ]
    },
    {
     "name": "stdout",
     "output_type": "stream",
     "text": [
      "Epoch 1/20\n",
      "625/625 [==============================] - 43s 67ms/step - loss: 1.8944 - accuracy: 0.2823 - val_loss: 1.6007 - val_accuracy: 0.4211\n",
      "Epoch 2/20\n",
      "625/625 [==============================] - ETA: 0s - loss: 1.5709 - accuracy: 0.4239"
     ]
    },
    {
     "name": "stderr",
     "output_type": "stream",
     "text": [
      "\u001b[32m[I 2023-01-24 15:50:46,606]\u001b[0m Trial 15 pruned. Trial was pruned at epoch 1.\u001b[0m\n"
     ]
    },
    {
     "name": "stdout",
     "output_type": "stream",
     "text": [
      "Epoch 1/30\n",
      "625/625 [==============================] - ETA: 0s - loss: 1.9034 - accuracy: 0.2751"
     ]
    },
    {
     "name": "stderr",
     "output_type": "stream",
     "text": [
      "\u001b[32m[I 2023-01-24 15:51:32,716]\u001b[0m Trial 16 pruned. Trial was pruned at epoch 0.\u001b[0m\n"
     ]
    },
    {
     "name": "stdout",
     "output_type": "stream",
     "text": [
      "Epoch 1/20\n",
      "625/625 [==============================] - ETA: 0s - loss: 1.9179 - accuracy: 0.2692"
     ]
    },
    {
     "name": "stderr",
     "output_type": "stream",
     "text": [
      "\u001b[32m[I 2023-01-24 15:52:17,283]\u001b[0m Trial 17 pruned. Trial was pruned at epoch 0.\u001b[0m\n"
     ]
    },
    {
     "name": "stdout",
     "output_type": "stream",
     "text": [
      "Epoch 1/20\n",
      "1250/1250 [==============================] - 46s 36ms/step - loss: 1.9065 - accuracy: 0.2727 - val_loss: 1.5879 - val_accuracy: 0.4166\n",
      "Epoch 2/20\n",
      "1250/1250 [==============================] - 45s 36ms/step - loss: 1.5840 - accuracy: 0.4264 - val_loss: 1.4114 - val_accuracy: 0.5032\n",
      "Epoch 3/20\n",
      "1250/1250 [==============================] - ETA: 0s - loss: 1.4449 - accuracy: 0.4864"
     ]
    },
    {
     "name": "stderr",
     "output_type": "stream",
     "text": [
      "\u001b[32m[I 2023-01-24 15:54:37,919]\u001b[0m Trial 18 pruned. Trial was pruned at epoch 2.\u001b[0m\n"
     ]
    },
    {
     "name": "stdout",
     "output_type": "stream",
     "text": [
      "Epoch 1/30\n",
      "313/313 [==============================] - ETA: 0s - loss: 1.9843 - accuracy: 0.2340"
     ]
    },
    {
     "name": "stderr",
     "output_type": "stream",
     "text": [
      "\u001b[32m[I 2023-01-24 15:55:20,529]\u001b[0m Trial 19 pruned. Trial was pruned at epoch 0.\u001b[0m\n"
     ]
    },
    {
     "name": "stdout",
     "output_type": "stream",
     "text": [
      "Number of finished trials: 20\n",
      "Best trial: {'batch_size': 64, 'conv_layer': 5, 'conv_nodes': 16, 'dense_layer': 1, 'dense_nodes': 128, 'dropout': 0.1, 'epochs': 20}\n"
     ]
    }
   ],
   "source": [
    "#start optuna\n",
    "study = optuna.create_study(direction='maximize', study_name='optuna_tpe1', storage='sqlite:///optuna_tpe1.db', load_if_exists=True, sampler=optuna.samplers.TPESampler())\n",
    "study.optimize(objective, n_trials=20)\n",
    "\n",
    "\n",
    "# print best parameters\n",
    "print('Number of finished trials:', len(study.trials))\n",
    "print('Best trial:', study.best_trial.params)\n",
    "\n",
    "\n"
   ]
  },
  {
   "cell_type": "code",
   "execution_count": 37,
   "metadata": {},
   "outputs": [],
   "source": [
    "# # plot\n",
    "# optuna.visualization.plot_optimization_history(study)\n",
    "# optuna.visualization.plot_slice(study)\n",
    "# optuna.visualization.plot_param_importances(study)\n",
    "\n",
    "def show_result(study):\n",
    "\n",
    "    pruned_trials = study.get_trials(deepcopy=False, states=[TrialState.PRUNED])\n",
    "    complete_trials = study.get_trials(deepcopy=False, states=[TrialState.COMPLETE])\n",
    "\n",
    "    print(\"Study statistics: \")\n",
    "    print(\"  Number of finished trials: \", len(study.trials))\n",
    "    print(\"  Number of pruned trials: \", len(pruned_trials))\n",
    "    print(\"  Number of complete trials: \", len(complete_trials))\n",
    "\n",
    "    \n",
    "\n",
    "    print(\"Best trial:\")\n",
    "    trial = study.best_trial\n",
    "\n",
    "    print(\"  Value: \", trial.value)\n",
    "\n",
    "    print(\"  Params: \")\n",
    "    for key, value in trial.params.items():\n",
    "        print(\"    {}: {}\".format(key, value))\n",
    "\n"
   ]
  },
  {
   "cell_type": "code",
   "execution_count": 38,
   "metadata": {},
   "outputs": [
    {
     "name": "stdout",
     "output_type": "stream",
     "text": [
      "Study statistics: \n",
      "  Number of finished trials:  20\n",
      "  Number of pruned trials:  15\n",
      "  Number of complete trials:  5\n",
      "Best trial:\n",
      "  Value:  0.7049000263214111\n",
      "  Params: \n",
      "    batch_size: 64\n",
      "    conv_layer: 5\n",
      "    conv_nodes: 16\n",
      "    dense_layer: 1\n",
      "    dense_nodes: 128\n",
      "    dropout: 0.1\n",
      "    epochs: 20\n"
     ]
    }
   ],
   "source": [
    "show_result(study)"
   ]
  },
  {
   "cell_type": "code",
   "execution_count": 39,
   "metadata": {},
   "outputs": [
    {
     "name": "stdout",
     "output_type": "stream",
     "text": [
      "Test loss: 0.8609442114830017\n",
      "Test accuracy: 0.7049000263214111\n"
     ]
    }
   ],
   "source": [
    "# test the best model\n",
    "model = model_TPE()\n",
    "model.load_weights('best_model_tpe_weights')\n",
    "model.compile(loss='categorical_crossentropy', optimizer=Adam(), metrics=['accuracy'])\n",
    "\n",
    "score = model.evaluate(X_test, y_test, verbose=0)\n",
    "print('Test loss:', score[0])\n",
    "print('Test accuracy:', score[1])\n",
    "\n",
    "\n",
    "\n"
   ]
  },
  {
   "cell_type": "code",
   "execution_count": 40,
   "metadata": {},
   "outputs": [
    {
     "data": {
      "application/vnd.plotly.v1+json": {
       "config": {
        "plotlyServerURL": "https://plot.ly"
       },
       "data": [
        {
         "mode": "markers",
         "name": "Objective Value",
         "type": "scatter",
         "x": [
          0,
          1,
          2,
          3,
          4
         ],
         "y": [
          0.6502000093460083,
          0.6992999911308289,
          0.7045999765396118,
          0.635200023651123,
          0.7049000263214111
         ]
        },
        {
         "name": "Best Value",
         "type": "scatter",
         "x": [
          0,
          1,
          2,
          3,
          4
         ],
         "y": [
          0.6502000093460083,
          0.6992999911308289,
          0.7045999765396118,
          0.7045999765396118,
          0.7049000263214111
         ]
        }
       ],
       "layout": {
        "template": {
         "data": {
          "bar": [
           {
            "error_x": {
             "color": "#2a3f5f"
            },
            "error_y": {
             "color": "#2a3f5f"
            },
            "marker": {
             "line": {
              "color": "#E5ECF6",
              "width": 0.5
             },
             "pattern": {
              "fillmode": "overlay",
              "size": 10,
              "solidity": 0.2
             }
            },
            "type": "bar"
           }
          ],
          "barpolar": [
           {
            "marker": {
             "line": {
              "color": "#E5ECF6",
              "width": 0.5
             },
             "pattern": {
              "fillmode": "overlay",
              "size": 10,
              "solidity": 0.2
             }
            },
            "type": "barpolar"
           }
          ],
          "carpet": [
           {
            "aaxis": {
             "endlinecolor": "#2a3f5f",
             "gridcolor": "white",
             "linecolor": "white",
             "minorgridcolor": "white",
             "startlinecolor": "#2a3f5f"
            },
            "baxis": {
             "endlinecolor": "#2a3f5f",
             "gridcolor": "white",
             "linecolor": "white",
             "minorgridcolor": "white",
             "startlinecolor": "#2a3f5f"
            },
            "type": "carpet"
           }
          ],
          "choropleth": [
           {
            "colorbar": {
             "outlinewidth": 0,
             "ticks": ""
            },
            "type": "choropleth"
           }
          ],
          "contour": [
           {
            "colorbar": {
             "outlinewidth": 0,
             "ticks": ""
            },
            "colorscale": [
             [
              0,
              "#0d0887"
             ],
             [
              0.1111111111111111,
              "#46039f"
             ],
             [
              0.2222222222222222,
              "#7201a8"
             ],
             [
              0.3333333333333333,
              "#9c179e"
             ],
             [
              0.4444444444444444,
              "#bd3786"
             ],
             [
              0.5555555555555556,
              "#d8576b"
             ],
             [
              0.6666666666666666,
              "#ed7953"
             ],
             [
              0.7777777777777778,
              "#fb9f3a"
             ],
             [
              0.8888888888888888,
              "#fdca26"
             ],
             [
              1,
              "#f0f921"
             ]
            ],
            "type": "contour"
           }
          ],
          "contourcarpet": [
           {
            "colorbar": {
             "outlinewidth": 0,
             "ticks": ""
            },
            "type": "contourcarpet"
           }
          ],
          "heatmap": [
           {
            "colorbar": {
             "outlinewidth": 0,
             "ticks": ""
            },
            "colorscale": [
             [
              0,
              "#0d0887"
             ],
             [
              0.1111111111111111,
              "#46039f"
             ],
             [
              0.2222222222222222,
              "#7201a8"
             ],
             [
              0.3333333333333333,
              "#9c179e"
             ],
             [
              0.4444444444444444,
              "#bd3786"
             ],
             [
              0.5555555555555556,
              "#d8576b"
             ],
             [
              0.6666666666666666,
              "#ed7953"
             ],
             [
              0.7777777777777778,
              "#fb9f3a"
             ],
             [
              0.8888888888888888,
              "#fdca26"
             ],
             [
              1,
              "#f0f921"
             ]
            ],
            "type": "heatmap"
           }
          ],
          "heatmapgl": [
           {
            "colorbar": {
             "outlinewidth": 0,
             "ticks": ""
            },
            "colorscale": [
             [
              0,
              "#0d0887"
             ],
             [
              0.1111111111111111,
              "#46039f"
             ],
             [
              0.2222222222222222,
              "#7201a8"
             ],
             [
              0.3333333333333333,
              "#9c179e"
             ],
             [
              0.4444444444444444,
              "#bd3786"
             ],
             [
              0.5555555555555556,
              "#d8576b"
             ],
             [
              0.6666666666666666,
              "#ed7953"
             ],
             [
              0.7777777777777778,
              "#fb9f3a"
             ],
             [
              0.8888888888888888,
              "#fdca26"
             ],
             [
              1,
              "#f0f921"
             ]
            ],
            "type": "heatmapgl"
           }
          ],
          "histogram": [
           {
            "marker": {
             "pattern": {
              "fillmode": "overlay",
              "size": 10,
              "solidity": 0.2
             }
            },
            "type": "histogram"
           }
          ],
          "histogram2d": [
           {
            "colorbar": {
             "outlinewidth": 0,
             "ticks": ""
            },
            "colorscale": [
             [
              0,
              "#0d0887"
             ],
             [
              0.1111111111111111,
              "#46039f"
             ],
             [
              0.2222222222222222,
              "#7201a8"
             ],
             [
              0.3333333333333333,
              "#9c179e"
             ],
             [
              0.4444444444444444,
              "#bd3786"
             ],
             [
              0.5555555555555556,
              "#d8576b"
             ],
             [
              0.6666666666666666,
              "#ed7953"
             ],
             [
              0.7777777777777778,
              "#fb9f3a"
             ],
             [
              0.8888888888888888,
              "#fdca26"
             ],
             [
              1,
              "#f0f921"
             ]
            ],
            "type": "histogram2d"
           }
          ],
          "histogram2dcontour": [
           {
            "colorbar": {
             "outlinewidth": 0,
             "ticks": ""
            },
            "colorscale": [
             [
              0,
              "#0d0887"
             ],
             [
              0.1111111111111111,
              "#46039f"
             ],
             [
              0.2222222222222222,
              "#7201a8"
             ],
             [
              0.3333333333333333,
              "#9c179e"
             ],
             [
              0.4444444444444444,
              "#bd3786"
             ],
             [
              0.5555555555555556,
              "#d8576b"
             ],
             [
              0.6666666666666666,
              "#ed7953"
             ],
             [
              0.7777777777777778,
              "#fb9f3a"
             ],
             [
              0.8888888888888888,
              "#fdca26"
             ],
             [
              1,
              "#f0f921"
             ]
            ],
            "type": "histogram2dcontour"
           }
          ],
          "mesh3d": [
           {
            "colorbar": {
             "outlinewidth": 0,
             "ticks": ""
            },
            "type": "mesh3d"
           }
          ],
          "parcoords": [
           {
            "line": {
             "colorbar": {
              "outlinewidth": 0,
              "ticks": ""
             }
            },
            "type": "parcoords"
           }
          ],
          "pie": [
           {
            "automargin": true,
            "type": "pie"
           }
          ],
          "scatter": [
           {
            "fillpattern": {
             "fillmode": "overlay",
             "size": 10,
             "solidity": 0.2
            },
            "type": "scatter"
           }
          ],
          "scatter3d": [
           {
            "line": {
             "colorbar": {
              "outlinewidth": 0,
              "ticks": ""
             }
            },
            "marker": {
             "colorbar": {
              "outlinewidth": 0,
              "ticks": ""
             }
            },
            "type": "scatter3d"
           }
          ],
          "scattercarpet": [
           {
            "marker": {
             "colorbar": {
              "outlinewidth": 0,
              "ticks": ""
             }
            },
            "type": "scattercarpet"
           }
          ],
          "scattergeo": [
           {
            "marker": {
             "colorbar": {
              "outlinewidth": 0,
              "ticks": ""
             }
            },
            "type": "scattergeo"
           }
          ],
          "scattergl": [
           {
            "marker": {
             "colorbar": {
              "outlinewidth": 0,
              "ticks": ""
             }
            },
            "type": "scattergl"
           }
          ],
          "scattermapbox": [
           {
            "marker": {
             "colorbar": {
              "outlinewidth": 0,
              "ticks": ""
             }
            },
            "type": "scattermapbox"
           }
          ],
          "scatterpolar": [
           {
            "marker": {
             "colorbar": {
              "outlinewidth": 0,
              "ticks": ""
             }
            },
            "type": "scatterpolar"
           }
          ],
          "scatterpolargl": [
           {
            "marker": {
             "colorbar": {
              "outlinewidth": 0,
              "ticks": ""
             }
            },
            "type": "scatterpolargl"
           }
          ],
          "scatterternary": [
           {
            "marker": {
             "colorbar": {
              "outlinewidth": 0,
              "ticks": ""
             }
            },
            "type": "scatterternary"
           }
          ],
          "surface": [
           {
            "colorbar": {
             "outlinewidth": 0,
             "ticks": ""
            },
            "colorscale": [
             [
              0,
              "#0d0887"
             ],
             [
              0.1111111111111111,
              "#46039f"
             ],
             [
              0.2222222222222222,
              "#7201a8"
             ],
             [
              0.3333333333333333,
              "#9c179e"
             ],
             [
              0.4444444444444444,
              "#bd3786"
             ],
             [
              0.5555555555555556,
              "#d8576b"
             ],
             [
              0.6666666666666666,
              "#ed7953"
             ],
             [
              0.7777777777777778,
              "#fb9f3a"
             ],
             [
              0.8888888888888888,
              "#fdca26"
             ],
             [
              1,
              "#f0f921"
             ]
            ],
            "type": "surface"
           }
          ],
          "table": [
           {
            "cells": {
             "fill": {
              "color": "#EBF0F8"
             },
             "line": {
              "color": "white"
             }
            },
            "header": {
             "fill": {
              "color": "#C8D4E3"
             },
             "line": {
              "color": "white"
             }
            },
            "type": "table"
           }
          ]
         },
         "layout": {
          "annotationdefaults": {
           "arrowcolor": "#2a3f5f",
           "arrowhead": 0,
           "arrowwidth": 1
          },
          "autotypenumbers": "strict",
          "coloraxis": {
           "colorbar": {
            "outlinewidth": 0,
            "ticks": ""
           }
          },
          "colorscale": {
           "diverging": [
            [
             0,
             "#8e0152"
            ],
            [
             0.1,
             "#c51b7d"
            ],
            [
             0.2,
             "#de77ae"
            ],
            [
             0.3,
             "#f1b6da"
            ],
            [
             0.4,
             "#fde0ef"
            ],
            [
             0.5,
             "#f7f7f7"
            ],
            [
             0.6,
             "#e6f5d0"
            ],
            [
             0.7,
             "#b8e186"
            ],
            [
             0.8,
             "#7fbc41"
            ],
            [
             0.9,
             "#4d9221"
            ],
            [
             1,
             "#276419"
            ]
           ],
           "sequential": [
            [
             0,
             "#0d0887"
            ],
            [
             0.1111111111111111,
             "#46039f"
            ],
            [
             0.2222222222222222,
             "#7201a8"
            ],
            [
             0.3333333333333333,
             "#9c179e"
            ],
            [
             0.4444444444444444,
             "#bd3786"
            ],
            [
             0.5555555555555556,
             "#d8576b"
            ],
            [
             0.6666666666666666,
             "#ed7953"
            ],
            [
             0.7777777777777778,
             "#fb9f3a"
            ],
            [
             0.8888888888888888,
             "#fdca26"
            ],
            [
             1,
             "#f0f921"
            ]
           ],
           "sequentialminus": [
            [
             0,
             "#0d0887"
            ],
            [
             0.1111111111111111,
             "#46039f"
            ],
            [
             0.2222222222222222,
             "#7201a8"
            ],
            [
             0.3333333333333333,
             "#9c179e"
            ],
            [
             0.4444444444444444,
             "#bd3786"
            ],
            [
             0.5555555555555556,
             "#d8576b"
            ],
            [
             0.6666666666666666,
             "#ed7953"
            ],
            [
             0.7777777777777778,
             "#fb9f3a"
            ],
            [
             0.8888888888888888,
             "#fdca26"
            ],
            [
             1,
             "#f0f921"
            ]
           ]
          },
          "colorway": [
           "#636efa",
           "#EF553B",
           "#00cc96",
           "#ab63fa",
           "#FFA15A",
           "#19d3f3",
           "#FF6692",
           "#B6E880",
           "#FF97FF",
           "#FECB52"
          ],
          "font": {
           "color": "#2a3f5f"
          },
          "geo": {
           "bgcolor": "white",
           "lakecolor": "white",
           "landcolor": "#E5ECF6",
           "showlakes": true,
           "showland": true,
           "subunitcolor": "white"
          },
          "hoverlabel": {
           "align": "left"
          },
          "hovermode": "closest",
          "mapbox": {
           "style": "light"
          },
          "paper_bgcolor": "white",
          "plot_bgcolor": "#E5ECF6",
          "polar": {
           "angularaxis": {
            "gridcolor": "white",
            "linecolor": "white",
            "ticks": ""
           },
           "bgcolor": "#E5ECF6",
           "radialaxis": {
            "gridcolor": "white",
            "linecolor": "white",
            "ticks": ""
           }
          },
          "scene": {
           "xaxis": {
            "backgroundcolor": "#E5ECF6",
            "gridcolor": "white",
            "gridwidth": 2,
            "linecolor": "white",
            "showbackground": true,
            "ticks": "",
            "zerolinecolor": "white"
           },
           "yaxis": {
            "backgroundcolor": "#E5ECF6",
            "gridcolor": "white",
            "gridwidth": 2,
            "linecolor": "white",
            "showbackground": true,
            "ticks": "",
            "zerolinecolor": "white"
           },
           "zaxis": {
            "backgroundcolor": "#E5ECF6",
            "gridcolor": "white",
            "gridwidth": 2,
            "linecolor": "white",
            "showbackground": true,
            "ticks": "",
            "zerolinecolor": "white"
           }
          },
          "shapedefaults": {
           "line": {
            "color": "#2a3f5f"
           }
          },
          "ternary": {
           "aaxis": {
            "gridcolor": "white",
            "linecolor": "white",
            "ticks": ""
           },
           "baxis": {
            "gridcolor": "white",
            "linecolor": "white",
            "ticks": ""
           },
           "bgcolor": "#E5ECF6",
           "caxis": {
            "gridcolor": "white",
            "linecolor": "white",
            "ticks": ""
           }
          },
          "title": {
           "x": 0.05
          },
          "xaxis": {
           "automargin": true,
           "gridcolor": "white",
           "linecolor": "white",
           "ticks": "",
           "title": {
            "standoff": 15
           },
           "zerolinecolor": "white",
           "zerolinewidth": 2
          },
          "yaxis": {
           "automargin": true,
           "gridcolor": "white",
           "linecolor": "white",
           "ticks": "",
           "title": {
            "standoff": 15
           },
           "zerolinecolor": "white",
           "zerolinewidth": 2
          }
         }
        },
        "title": {
         "text": "Optimization History Plot"
        },
        "xaxis": {
         "title": {
          "text": "Trial"
         }
        },
        "yaxis": {
         "title": {
          "text": "Objective Value"
         }
        }
       }
      }
     },
     "metadata": {},
     "output_type": "display_data"
    }
   ],
   "source": [
    "# # plot\n",
    "optuna.visualization.plot_optimization_history(study)\n",
    "\n",
    "\n",
    "\n",
    "\n",
    "\n"
   ]
  },
  {
   "cell_type": "code",
   "execution_count": 41,
   "metadata": {},
   "outputs": [
    {
     "name": "stdout",
     "output_type": "stream",
     "text": [
      "    number   value               duration     state\n",
      "0        0  0.6502 0 days 00:07:24.075681  COMPLETE\n",
      "1        1  0.6993 0 days 00:14:01.737837  COMPLETE\n",
      "2        2  0.7046 0 days 00:14:29.840370  COMPLETE\n",
      "3        3  0.6352 0 days 00:05:55.652387  COMPLETE\n",
      "4        4  0.7049 0 days 00:14:12.193862  COMPLETE\n",
      "5        5  0.4074 0 days 00:01:22.842498    PRUNED\n",
      "6        6  0.1490 0 days 00:00:38.677319    PRUNED\n",
      "7        7  0.3260 0 days 00:00:40.534370    PRUNED\n",
      "8        8  0.4666 0 days 00:01:28.855422    PRUNED\n",
      "9        9  0.3702 0 days 00:00:43.034763    PRUNED\n",
      "10      10  0.3910 0 days 00:00:44.156910    PRUNED\n",
      "11      11  0.3696 0 days 00:01:24.320233    PRUNED\n",
      "12      12  0.3674 0 days 00:00:42.147842    PRUNED\n",
      "13      13  0.2882 0 days 00:00:42.946119    PRUNED\n",
      "14      14  0.1188 0 days 00:00:40.818933    PRUNED\n",
      "15      15  0.4813 0 days 00:01:27.200595    PRUNED\n",
      "16      16  0.3517 0 days 00:00:46.042077    PRUNED\n",
      "17      17  0.3497 0 days 00:00:44.533462    PRUNED\n",
      "18      18  0.4997 0 days 00:02:20.611780    PRUNED\n",
      "19      19  0.1057 0 days 00:00:42.582080    PRUNED\n",
      "Total duration of model training:  0 days 01:11:12.804540\n"
     ]
    }
   ],
   "source": [
    "#show result of study like duration, value, state\n",
    "df = study.trials_dataframe(attrs=(\"number\", \"value\",   'duration', 'state'))\n",
    "print(df)\n",
    "\n",
    "#total duration of model training\n",
    "print('Total duration of model training: ', df['duration'].sum())\n"
   ]
  },
  {
   "attachments": {},
   "cell_type": "markdown",
   "metadata": {},
   "source": [
    "### Results Optuna with TPE"
   ]
  },
  {
   "cell_type": "code",
   "execution_count": 42,
   "metadata": {},
   "outputs": [
    {
     "name": "stdout",
     "output_type": "stream",
     "text": [
      "Beste trial was:  4\n",
      "Best value is:  0.7049000263214111\n",
      "Time to train the best model:  0 days 00:14:29.840370\n",
      "Total time to train all models:  0 days 01:11:12.804540\n"
     ]
    }
   ],
   "source": [
    "print('Beste trial was: ', study.best_trial.number)\n",
    "\n",
    "# de beste value is\n",
    "print('Best value is: ', df['value'].max())\n",
    "# time to train the best model\n",
    "print('Time to train the best model: ', df['duration'].max())\n",
    "# total time to train all models\n",
    "print('Total time to train all models: ', df['duration'].sum())"
   ]
  },
  {
   "attachments": {},
   "cell_type": "markdown",
   "metadata": {},
   "source": [
    "### Random search with Optuna\n",
    "\n",
    "We now use optuna to search for the best hyperparameters for the model using random search.\n",
    "\n",
    " 1) Define the cnn model (model_random)<br>\n",
    " 2) In the objective function we define the hyperparameters/search space we want to optimize and the model we want to optimize<br>\n",
    " 2.1  Save the best model_weights and use pruning to stop the training if the accuracy is not improving to save time and resources<br>\n",
    " 3) Run the optuna study and print the best parameters and the best accuracy, as sampler we use RandomSampler to indicate we want to use random search\n",
    " 4)  Load the best model weights and evaluate the model"
   ]
  },
  {
   "cell_type": "code",
   "execution_count": 60,
   "metadata": {},
   "outputs": [],
   "source": [
    "\n",
    "# \n",
    "\n",
    "def model_randomsearch():\n",
    "\n",
    "    # batch_size = 32\n",
    "    num_classes = 10\n",
    "    # epochs = 10\n",
    "\n",
    "    model = Sequential()\n",
    "    model.add(Conv2D(64, kernel_size=(3, 3), activation='relu', input_shape=X_train.shape[1:]))\n",
    "    model.add(MaxPooling2D(pool_size=(2, 2)))\n",
    "    model.add(BatchNormalization())\n",
    "    model.add(Dropout(0.3))\n",
    "\n",
    "    model.add(Conv2D(64, (3, 3), activation='relu'))\n",
    "    model.add(MaxPooling2D(pool_size=(2, 2)))\n",
    "    model.add(BatchNormalization())\n",
    "    model.add(Dropout(0.3))\n",
    "\n",
    "    model.add(Conv2D(64, (3, 3), activation='relu'))\n",
    "    model.add(Flatten())\n",
    "    model.add(Dropout(0.3))\n",
    "\n",
    "    model.add(Dense(128, activation='relu'))\n",
    "    model.add(Dropout(0.3))\n",
    "\n",
    "    model.add(Dense(128, activation='relu'))\n",
    "    model.add(Dropout(0.3))\n",
    "\n",
    "    model.add(Dense(128, activation='relu'))\n",
    "    model.add(Dropout(0.3))\n",
    "\n",
    "\n",
    "\n",
    "    model.add(Dense(128, activation='relu'))\n",
    "    model.add(Dropout(0.3))\n",
    "    model.add(Dense(num_classes, activation='softmax'))\n",
    "    return model\n",
    "\n",
    "\n",
    "\n",
    "\n",
    "\n",
    "\n",
    "\n"
   ]
  },
  {
   "cell_type": "code",
   "execution_count": 61,
   "metadata": {},
   "outputs": [],
   "source": [
    "#optuna\n",
    "def objective(trial):\n",
    "    batch_size = trial.suggest_categorical('batch_size', [32, 64, 128])\n",
    "    epochs = trial.suggest_categorical('epochs', [10, 20, 30])\n",
    "    dense_nodes = trial.suggest_categorical('dense_nodes', [32,64,128,256])\n",
    "    conv_nodes = trial.suggest_categorical('conv_nodes', [8,16,32,64])\n",
    "    conv_layer = trial.suggest_categorical('conv_layer', [1,2,3,4,5])\n",
    "    dense_layer = trial.suggest_categorical('dense_layer', [1,2,3,4,5,6])\n",
    "    dropout = trial.suggest_categorical('dropout', [0.1, 0.2, 0.3, 0.4, 0.5])\n",
    "\n",
    "\n",
    "\n",
    "    model = model_randomsearch()\n",
    "\n",
    "    pruning_callback = optuna.integration.KerasPruningCallback(trial, 'val_accuracy')\n",
    "    \n",
    "     #checkpoint\n",
    "    mc = ModelCheckpoint('best_model_optuna_randomsearch.h5', monitor='val_accuracy', mode='max', verbose=1, save_best_only=True)\n",
    "\n",
    "    model.compile(loss='categorical_crossentropy', optimizer=Adam(), metrics=['accuracy'])\n",
    "    history = model.fit(X_train, y_train, batch_size=batch_size, epochs=epochs,  validation_data=(X_test, y_test) , shuffle=True, callbacks=[pruning_callback, mc])\n",
    "\n",
    "\n",
    "    #save model weights\n",
    "    model.save('best_model_optuna_randomsearch_saved')\n",
    "\n",
    "    \n",
    "    #save model weight\n",
    "    model.save_weights('best_model_randomsearch_weights')\n",
    "\n",
    "    \n",
    "\n",
    "    return history.history['val_accuracy'][-1]\n",
    "\n",
    "   \n",
    "   \n",
    "   "
   ]
  },
  {
   "cell_type": "code",
   "execution_count": 62,
   "metadata": {},
   "outputs": [
    {
     "name": "stderr",
     "output_type": "stream",
     "text": [
      "\u001b[32m[I 2023-01-24 16:25:01,033]\u001b[0m A new study created in RDB with name: optuna_randomsearch\u001b[0m\n",
      "C:\\Users\\domin\\AppData\\Local\\Temp\\ipykernel_25900\\2662525855.py:15: FutureWarning:\n",
      "\n",
      "KerasPruningCallback has been deprecated in v2.1.0. This feature will be removed in v4.0.0. See https://github.com/optuna/optuna/releases/tag/v2.1.0. Recent Keras release (2.4.0) simply redirects all APIs in the standalone keras package to point to tf.keras. There is now only one Keras: tf.keras. There may be some breaking changes for some workflows by upgrading to keras 2.4.0. Test before upgrading. REF: https://github.com/keras-team/keras/releases/tag/2.4.0. There is an alternative callback function that can be used instead: :class:`~optuna.integration.TFKerasPruningCallback`\n",
      "\n"
     ]
    },
    {
     "name": "stdout",
     "output_type": "stream",
     "text": [
      "Epoch 1/20\n",
      "1249/1250 [============================>.] - ETA: 0s - loss: 1.8692 - accuracy: 0.2953\n",
      "Epoch 1: val_accuracy improved from -inf to 0.38080, saving model to best_model_optuna_randomsearch.h5\n",
      "1250/1250 [==============================] - 48s 38ms/step - loss: 1.8693 - accuracy: 0.2955 - val_loss: 1.6424 - val_accuracy: 0.3808\n",
      "Epoch 2/20\n",
      "1250/1250 [==============================] - ETA: 0s - loss: 1.5701 - accuracy: 0.4260\n",
      "Epoch 2: val_accuracy improved from 0.38080 to 0.46210, saving model to best_model_optuna_randomsearch.h5\n",
      "1250/1250 [==============================] - 41s 33ms/step - loss: 1.5701 - accuracy: 0.4260 - val_loss: 1.4930 - val_accuracy: 0.4621\n",
      "Epoch 3/20\n",
      "1249/1250 [============================>.] - ETA: 0s - loss: 1.4436 - accuracy: 0.4888\n",
      "Epoch 3: val_accuracy improved from 0.46210 to 0.54230, saving model to best_model_optuna_randomsearch.h5\n",
      "1250/1250 [==============================] - 40s 32ms/step - loss: 1.4435 - accuracy: 0.4888 - val_loss: 1.3209 - val_accuracy: 0.5423\n",
      "Epoch 4/20\n",
      "1249/1250 [============================>.] - ETA: 0s - loss: 1.3566 - accuracy: 0.5257\n",
      "Epoch 4: val_accuracy improved from 0.54230 to 0.57490, saving model to best_model_optuna_randomsearch.h5\n",
      "1250/1250 [==============================] - 40s 32ms/step - loss: 1.3565 - accuracy: 0.5257 - val_loss: 1.2151 - val_accuracy: 0.5749\n",
      "Epoch 5/20\n",
      "1249/1250 [============================>.] - ETA: 0s - loss: 1.2912 - accuracy: 0.5540\n",
      "Epoch 5: val_accuracy improved from 0.57490 to 0.59220, saving model to best_model_optuna_randomsearch.h5\n",
      "1250/1250 [==============================] - 40s 32ms/step - loss: 1.2910 - accuracy: 0.5541 - val_loss: 1.1968 - val_accuracy: 0.5922\n",
      "Epoch 6/20\n",
      "1249/1250 [============================>.] - ETA: 0s - loss: 1.2365 - accuracy: 0.5761\n",
      "Epoch 6: val_accuracy improved from 0.59220 to 0.61710, saving model to best_model_optuna_randomsearch.h5\n",
      "1250/1250 [==============================] - 40s 32ms/step - loss: 1.2364 - accuracy: 0.5760 - val_loss: 1.1428 - val_accuracy: 0.6171\n",
      "Epoch 7/20\n",
      "1250/1250 [==============================] - ETA: 0s - loss: 1.2021 - accuracy: 0.5937\n",
      "Epoch 7: val_accuracy did not improve from 0.61710\n",
      "1250/1250 [==============================] - 40s 32ms/step - loss: 1.2021 - accuracy: 0.5937 - val_loss: 1.3003 - val_accuracy: 0.5710\n",
      "Epoch 8/20\n",
      "1250/1250 [==============================] - ETA: 0s - loss: 1.1735 - accuracy: 0.6017\n",
      "Epoch 8: val_accuracy improved from 0.61710 to 0.62770, saving model to best_model_optuna_randomsearch.h5\n",
      "1250/1250 [==============================] - 41s 33ms/step - loss: 1.1735 - accuracy: 0.6017 - val_loss: 1.0641 - val_accuracy: 0.6277\n",
      "Epoch 9/20\n",
      "1250/1250 [==============================] - ETA: 0s - loss: 1.1408 - accuracy: 0.6155\n",
      "Epoch 9: val_accuracy improved from 0.62770 to 0.65110, saving model to best_model_optuna_randomsearch.h5\n",
      "1250/1250 [==============================] - 40s 32ms/step - loss: 1.1408 - accuracy: 0.6155 - val_loss: 1.0328 - val_accuracy: 0.6511\n",
      "Epoch 10/20\n",
      "1250/1250 [==============================] - ETA: 0s - loss: 1.1217 - accuracy: 0.6215\n",
      "Epoch 10: val_accuracy improved from 0.65110 to 0.66630, saving model to best_model_optuna_randomsearch.h5\n",
      "1250/1250 [==============================] - 40s 32ms/step - loss: 1.1217 - accuracy: 0.6215 - val_loss: 0.9673 - val_accuracy: 0.6663\n",
      "Epoch 11/20\n",
      "1249/1250 [============================>.] - ETA: 0s - loss: 1.1120 - accuracy: 0.6283\n",
      "Epoch 11: val_accuracy improved from 0.66630 to 0.67110, saving model to best_model_optuna_randomsearch.h5\n",
      "1250/1250 [==============================] - 41s 33ms/step - loss: 1.1118 - accuracy: 0.6284 - val_loss: 0.9778 - val_accuracy: 0.6711\n",
      "Epoch 12/20\n",
      "1249/1250 [============================>.] - ETA: 0s - loss: 1.0864 - accuracy: 0.6359\n",
      "Epoch 12: val_accuracy did not improve from 0.67110\n",
      "1250/1250 [==============================] - 40s 32ms/step - loss: 1.0861 - accuracy: 0.6360 - val_loss: 1.0474 - val_accuracy: 0.6392\n",
      "Epoch 13/20\n",
      "1249/1250 [============================>.] - ETA: 0s - loss: 1.0687 - accuracy: 0.6403\n",
      "Epoch 13: val_accuracy did not improve from 0.67110\n",
      "1250/1250 [==============================] - 40s 32ms/step - loss: 1.0688 - accuracy: 0.6403 - val_loss: 1.0411 - val_accuracy: 0.6481\n",
      "Epoch 14/20\n",
      "1249/1250 [============================>.] - ETA: 0s - loss: 1.0513 - accuracy: 0.6479\n",
      "Epoch 14: val_accuracy did not improve from 0.67110\n",
      "1250/1250 [==============================] - 40s 32ms/step - loss: 1.0512 - accuracy: 0.6479 - val_loss: 1.0507 - val_accuracy: 0.6280\n",
      "Epoch 15/20\n",
      "1250/1250 [==============================] - ETA: 0s - loss: 1.0441 - accuracy: 0.6528\n",
      "Epoch 15: val_accuracy did not improve from 0.67110\n",
      "1250/1250 [==============================] - 41s 33ms/step - loss: 1.0441 - accuracy: 0.6528 - val_loss: 0.9951 - val_accuracy: 0.6701\n",
      "Epoch 16/20\n",
      "1249/1250 [============================>.] - ETA: 0s - loss: 1.0288 - accuracy: 0.6569\n",
      "Epoch 16: val_accuracy did not improve from 0.67110\n",
      "1250/1250 [==============================] - 41s 32ms/step - loss: 1.0289 - accuracy: 0.6568 - val_loss: 1.0698 - val_accuracy: 0.6480\n",
      "Epoch 17/20\n",
      "1249/1250 [============================>.] - ETA: 0s - loss: 1.0231 - accuracy: 0.6570\n",
      "Epoch 17: val_accuracy did not improve from 0.67110\n",
      "1250/1250 [==============================] - 40s 32ms/step - loss: 1.0227 - accuracy: 0.6572 - val_loss: 1.0726 - val_accuracy: 0.6362\n",
      "Epoch 18/20\n",
      "1249/1250 [============================>.] - ETA: 0s - loss: 1.0150 - accuracy: 0.6616\n",
      "Epoch 18: val_accuracy improved from 0.67110 to 0.69130, saving model to best_model_optuna_randomsearch.h5\n",
      "1250/1250 [==============================] - 40s 32ms/step - loss: 1.0150 - accuracy: 0.6616 - val_loss: 0.9169 - val_accuracy: 0.6913\n",
      "Epoch 19/20\n",
      "1249/1250 [============================>.] - ETA: 0s - loss: 1.0052 - accuracy: 0.6669\n",
      "Epoch 19: val_accuracy did not improve from 0.69130\n",
      "1250/1250 [==============================] - 40s 32ms/step - loss: 1.0050 - accuracy: 0.6669 - val_loss: 0.9301 - val_accuracy: 0.6853\n",
      "Epoch 20/20\n",
      "1250/1250 [==============================] - ETA: 0s - loss: 0.9904 - accuracy: 0.6705\n",
      "Epoch 20: val_accuracy did not improve from 0.69130\n",
      "1250/1250 [==============================] - 39s 32ms/step - loss: 0.9904 - accuracy: 0.6705 - val_loss: 0.9762 - val_accuracy: 0.6711\n"
     ]
    },
    {
     "name": "stderr",
     "output_type": "stream",
     "text": [
      "WARNING:absl:Found untraced functions such as _jit_compiled_convolution_op, _jit_compiled_convolution_op, _jit_compiled_convolution_op while saving (showing 3 of 3). These functions will not be directly callable after loading.\n"
     ]
    },
    {
     "name": "stdout",
     "output_type": "stream",
     "text": [
      "INFO:tensorflow:Assets written to: best_model_optuna_randomsearch_saved\\assets\n"
     ]
    },
    {
     "name": "stderr",
     "output_type": "stream",
     "text": [
      "INFO:tensorflow:Assets written to: best_model_optuna_randomsearch_saved\\assets\n",
      "\u001b[32m[I 2023-01-24 16:38:32,424]\u001b[0m Trial 0 finished with value: 0.6711000204086304 and parameters: {'batch_size': 32, 'epochs': 20, 'dense_nodes': 128, 'conv_nodes': 64, 'conv_layer': 2, 'dense_layer': 4, 'dropout': 0.2}. Best is trial 0 with value: 0.6711000204086304.\u001b[0m\n",
      "C:\\Users\\domin\\AppData\\Local\\Temp\\ipykernel_25900\\2662525855.py:15: FutureWarning:\n",
      "\n",
      "KerasPruningCallback has been deprecated in v2.1.0. This feature will be removed in v4.0.0. See https://github.com/optuna/optuna/releases/tag/v2.1.0. Recent Keras release (2.4.0) simply redirects all APIs in the standalone keras package to point to tf.keras. There is now only one Keras: tf.keras. There may be some breaking changes for some workflows by upgrading to keras 2.4.0. Test before upgrading. REF: https://github.com/keras-team/keras/releases/tag/2.4.0. There is an alternative callback function that can be used instead: :class:`~optuna.integration.TFKerasPruningCallback`\n",
      "\n"
     ]
    },
    {
     "name": "stdout",
     "output_type": "stream",
     "text": [
      "Epoch 1/20\n",
      "625/625 [==============================] - ETA: 0s - loss: 1.9051 - accuracy: 0.2695\n",
      "Epoch 1: val_accuracy improved from -inf to 0.38600, saving model to best_model_optuna_randomsearch.h5\n",
      "625/625 [==============================] - 37s 58ms/step - loss: 1.9051 - accuracy: 0.2695 - val_loss: 1.6366 - val_accuracy: 0.3860\n",
      "Epoch 2/20\n",
      "625/625 [==============================] - ETA: 0s - loss: 1.5827 - accuracy: 0.4112\n",
      "Epoch 2: val_accuracy improved from 0.38600 to 0.45690, saving model to best_model_optuna_randomsearch.h5\n",
      "625/625 [==============================] - 36s 58ms/step - loss: 1.5827 - accuracy: 0.4112 - val_loss: 1.4582 - val_accuracy: 0.4569\n",
      "Epoch 3/20\n",
      "625/625 [==============================] - ETA: 0s - loss: 1.4466 - accuracy: 0.4780\n",
      "Epoch 3: val_accuracy did not improve from 0.45690\n",
      "625/625 [==============================] - 36s 58ms/step - loss: 1.4466 - accuracy: 0.4780 - val_loss: 1.5282 - val_accuracy: 0.4506\n",
      "Epoch 4/20\n",
      "625/625 [==============================] - ETA: 0s - loss: 1.3541 - accuracy: 0.5248\n",
      "Epoch 4: val_accuracy improved from 0.45690 to 0.56780, saving model to best_model_optuna_randomsearch.h5\n",
      "625/625 [==============================] - 36s 58ms/step - loss: 1.3541 - accuracy: 0.5248 - val_loss: 1.2422 - val_accuracy: 0.5678\n",
      "Epoch 5/20\n",
      "625/625 [==============================] - ETA: 0s - loss: 1.2753 - accuracy: 0.5602\n",
      "Epoch 5: val_accuracy improved from 0.56780 to 0.58130, saving model to best_model_optuna_randomsearch.h5\n",
      "625/625 [==============================] - 36s 58ms/step - loss: 1.2753 - accuracy: 0.5602 - val_loss: 1.1741 - val_accuracy: 0.5813\n",
      "Epoch 6/20\n",
      "625/625 [==============================] - ETA: 0s - loss: 1.2171 - accuracy: 0.5840\n",
      "Epoch 6: val_accuracy improved from 0.58130 to 0.60160, saving model to best_model_optuna_randomsearch.h5\n",
      "625/625 [==============================] - 36s 58ms/step - loss: 1.2171 - accuracy: 0.5840 - val_loss: 1.1286 - val_accuracy: 0.6016\n",
      "Epoch 7/20\n",
      "625/625 [==============================] - ETA: 0s - loss: 1.1824 - accuracy: 0.5990\n",
      "Epoch 7: val_accuracy did not improve from 0.60160\n",
      "625/625 [==============================] - 36s 58ms/step - loss: 1.1824 - accuracy: 0.5990 - val_loss: 1.2140 - val_accuracy: 0.5813\n",
      "Epoch 8/20\n",
      "625/625 [==============================] - ETA: 0s - loss: 1.1415 - accuracy: 0.6124\n",
      "Epoch 8: val_accuracy did not improve from 0.60160\n",
      "625/625 [==============================] - 36s 58ms/step - loss: 1.1415 - accuracy: 0.6124 - val_loss: 1.1609 - val_accuracy: 0.6003\n",
      "Epoch 9/20\n",
      "625/625 [==============================] - ETA: 0s - loss: 1.1042 - accuracy: 0.6281\n",
      "Epoch 9: val_accuracy improved from 0.60160 to 0.68120, saving model to best_model_optuna_randomsearch.h5\n",
      "625/625 [==============================] - 36s 58ms/step - loss: 1.1042 - accuracy: 0.6281 - val_loss: 0.9411 - val_accuracy: 0.6812\n",
      "Epoch 10/20\n",
      "625/625 [==============================] - ETA: 0s - loss: 1.0746 - accuracy: 0.6368\n",
      "Epoch 10: val_accuracy did not improve from 0.68120\n",
      "625/625 [==============================] - 37s 59ms/step - loss: 1.0746 - accuracy: 0.6368 - val_loss: 1.0309 - val_accuracy: 0.6560\n",
      "Epoch 11/20\n",
      "625/625 [==============================] - ETA: 0s - loss: 1.0578 - accuracy: 0.6416\n",
      "Epoch 11: val_accuracy did not improve from 0.68120\n",
      "625/625 [==============================] - 37s 58ms/step - loss: 1.0578 - accuracy: 0.6416 - val_loss: 0.9020 - val_accuracy: 0.6790\n",
      "Epoch 12/20\n",
      "625/625 [==============================] - ETA: 0s - loss: 1.0373 - accuracy: 0.6521\n",
      "Epoch 12: val_accuracy did not improve from 0.68120\n",
      "625/625 [==============================] - 37s 59ms/step - loss: 1.0373 - accuracy: 0.6521 - val_loss: 1.0405 - val_accuracy: 0.6339\n",
      "Epoch 13/20\n",
      "625/625 [==============================] - ETA: 0s - loss: 1.0151 - accuracy: 0.6617\n",
      "Epoch 13: val_accuracy did not improve from 0.68120\n",
      "625/625 [==============================] - 37s 59ms/step - loss: 1.0151 - accuracy: 0.6617 - val_loss: 0.9827 - val_accuracy: 0.6668\n",
      "Epoch 14/20\n",
      "625/625 [==============================] - ETA: 0s - loss: 1.0070 - accuracy: 0.6633\n",
      "Epoch 14: val_accuracy did not improve from 0.68120\n",
      "625/625 [==============================] - 41s 66ms/step - loss: 1.0070 - accuracy: 0.6633 - val_loss: 1.1396 - val_accuracy: 0.6218\n",
      "Epoch 15/20\n",
      "625/625 [==============================] - ETA: 0s - loss: 0.9815 - accuracy: 0.6689\n",
      "Epoch 15: val_accuracy improved from 0.68120 to 0.68510, saving model to best_model_optuna_randomsearch.h5\n",
      "625/625 [==============================] - 40s 63ms/step - loss: 0.9815 - accuracy: 0.6689 - val_loss: 0.9534 - val_accuracy: 0.6851\n",
      "Epoch 16/20\n",
      "625/625 [==============================] - ETA: 0s - loss: 0.9721 - accuracy: 0.6756\n",
      "Epoch 16: val_accuracy improved from 0.68510 to 0.70110, saving model to best_model_optuna_randomsearch.h5\n",
      "625/625 [==============================] - 40s 63ms/step - loss: 0.9721 - accuracy: 0.6756 - val_loss: 0.8640 - val_accuracy: 0.7011\n",
      "Epoch 17/20\n",
      "625/625 [==============================] - ETA: 0s - loss: 0.9559 - accuracy: 0.6797\n",
      "Epoch 17: val_accuracy improved from 0.70110 to 0.70750, saving model to best_model_optuna_randomsearch.h5\n",
      "625/625 [==============================] - 44s 71ms/step - loss: 0.9559 - accuracy: 0.6797 - val_loss: 0.8518 - val_accuracy: 0.7075\n",
      "Epoch 18/20\n",
      "625/625 [==============================] - ETA: 0s - loss: 0.9564 - accuracy: 0.6820\n",
      "Epoch 18: val_accuracy did not improve from 0.70750\n",
      "625/625 [==============================] - 41s 65ms/step - loss: 0.9564 - accuracy: 0.6820 - val_loss: 0.8852 - val_accuracy: 0.7044\n",
      "Epoch 19/20\n",
      "625/625 [==============================] - ETA: 0s - loss: 0.9388 - accuracy: 0.6854\n",
      "Epoch 19: val_accuracy improved from 0.70750 to 0.71370, saving model to best_model_optuna_randomsearch.h5\n",
      "625/625 [==============================] - 41s 65ms/step - loss: 0.9388 - accuracy: 0.6854 - val_loss: 0.8486 - val_accuracy: 0.7137\n",
      "Epoch 20/20\n",
      "625/625 [==============================] - ETA: 0s - loss: 0.9301 - accuracy: 0.6920\n",
      "Epoch 20: val_accuracy did not improve from 0.71370\n",
      "625/625 [==============================] - 41s 66ms/step - loss: 0.9301 - accuracy: 0.6920 - val_loss: 0.9666 - val_accuracy: 0.6615\n"
     ]
    },
    {
     "name": "stderr",
     "output_type": "stream",
     "text": [
      "WARNING:absl:Found untraced functions such as _jit_compiled_convolution_op, _jit_compiled_convolution_op, _jit_compiled_convolution_op while saving (showing 3 of 3). These functions will not be directly callable after loading.\n"
     ]
    },
    {
     "name": "stdout",
     "output_type": "stream",
     "text": [
      "INFO:tensorflow:Assets written to: best_model_optuna_randomsearch_saved\\assets\n"
     ]
    },
    {
     "name": "stderr",
     "output_type": "stream",
     "text": [
      "INFO:tensorflow:Assets written to: best_model_optuna_randomsearch_saved\\assets\n",
      "\u001b[32m[I 2023-01-24 16:51:16,992]\u001b[0m Trial 1 finished with value: 0.6614999771118164 and parameters: {'batch_size': 64, 'epochs': 20, 'dense_nodes': 128, 'conv_nodes': 8, 'conv_layer': 3, 'dense_layer': 1, 'dropout': 0.2}. Best is trial 0 with value: 0.6711000204086304.\u001b[0m\n",
      "C:\\Users\\domin\\AppData\\Local\\Temp\\ipykernel_25900\\2662525855.py:15: FutureWarning:\n",
      "\n",
      "KerasPruningCallback has been deprecated in v2.1.0. This feature will be removed in v4.0.0. See https://github.com/optuna/optuna/releases/tag/v2.1.0. Recent Keras release (2.4.0) simply redirects all APIs in the standalone keras package to point to tf.keras. There is now only one Keras: tf.keras. There may be some breaking changes for some workflows by upgrading to keras 2.4.0. Test before upgrading. REF: https://github.com/keras-team/keras/releases/tag/2.4.0. There is an alternative callback function that can be used instead: :class:`~optuna.integration.TFKerasPruningCallback`\n",
      "\n"
     ]
    },
    {
     "name": "stdout",
     "output_type": "stream",
     "text": [
      "Epoch 1/10\n",
      "1250/1250 [==============================] - ETA: 0s - loss: 1.9079 - accuracy: 0.2779\n",
      "Epoch 1: val_accuracy improved from -inf to 0.26720, saving model to best_model_optuna_randomsearch.h5\n",
      "1250/1250 [==============================] - 46s 36ms/step - loss: 1.9079 - accuracy: 0.2779 - val_loss: 2.1397 - val_accuracy: 0.2672\n",
      "Epoch 2/10\n",
      "1249/1250 [============================>.] - ETA: 0s - loss: 1.5827 - accuracy: 0.4219\n",
      "Epoch 2: val_accuracy improved from 0.26720 to 0.48270, saving model to best_model_optuna_randomsearch.h5\n",
      "1250/1250 [==============================] - 47s 37ms/step - loss: 1.5827 - accuracy: 0.4220 - val_loss: 1.4324 - val_accuracy: 0.4827\n",
      "Epoch 3/10\n",
      "1249/1250 [============================>.] - ETA: 0s - loss: 1.4571 - accuracy: 0.4841\n",
      "Epoch 3: val_accuracy improved from 0.48270 to 0.55850, saving model to best_model_optuna_randomsearch.h5\n",
      "1250/1250 [==============================] - 44s 35ms/step - loss: 1.4571 - accuracy: 0.4841 - val_loss: 1.2342 - val_accuracy: 0.5585\n",
      "Epoch 4/10\n",
      "1250/1250 [==============================] - ETA: 0s - loss: 1.3604 - accuracy: 0.5243\n",
      "Epoch 4: val_accuracy did not improve from 0.55850\n",
      "1250/1250 [==============================] - 43s 35ms/step - loss: 1.3604 - accuracy: 0.5243 - val_loss: 1.4738 - val_accuracy: 0.4756\n",
      "Epoch 5/10\n",
      "1249/1250 [============================>.] - ETA: 0s - loss: 1.2978 - accuracy: 0.5548\n",
      "Epoch 5: val_accuracy improved from 0.55850 to 0.58540, saving model to best_model_optuna_randomsearch.h5\n",
      "1250/1250 [==============================] - 44s 35ms/step - loss: 1.2974 - accuracy: 0.5550 - val_loss: 1.1752 - val_accuracy: 0.5854\n",
      "Epoch 6/10\n",
      "1249/1250 [============================>.] - ETA: 0s - loss: 1.2401 - accuracy: 0.5757\n",
      "Epoch 6: val_accuracy improved from 0.58540 to 0.62310, saving model to best_model_optuna_randomsearch.h5\n",
      "1250/1250 [==============================] - 42s 34ms/step - loss: 1.2403 - accuracy: 0.5756 - val_loss: 1.0918 - val_accuracy: 0.6231\n",
      "Epoch 7/10\n",
      "1250/1250 [==============================] - ETA: 0s - loss: 1.2037 - accuracy: 0.5924\n",
      "Epoch 7: val_accuracy did not improve from 0.62310\n",
      "1250/1250 [==============================] - 42s 34ms/step - loss: 1.2037 - accuracy: 0.5924 - val_loss: 1.3359 - val_accuracy: 0.5295\n",
      "Epoch 8/10\n",
      "1250/1250 [==============================] - ETA: 0s - loss: 1.1668 - accuracy: 0.6042\n",
      "Epoch 8: val_accuracy improved from 0.62310 to 0.62610, saving model to best_model_optuna_randomsearch.h5\n",
      "1250/1250 [==============================] - 42s 34ms/step - loss: 1.1668 - accuracy: 0.6042 - val_loss: 1.0811 - val_accuracy: 0.6261\n",
      "Epoch 9/10\n",
      "1249/1250 [============================>.] - ETA: 0s - loss: 1.1364 - accuracy: 0.6175\n",
      "Epoch 9: val_accuracy did not improve from 0.62610\n",
      "1250/1250 [==============================] - 41s 32ms/step - loss: 1.1367 - accuracy: 0.6175 - val_loss: 1.0706 - val_accuracy: 0.6219\n",
      "Epoch 10/10\n",
      "1249/1250 [============================>.] - ETA: 0s - loss: 1.1220 - accuracy: 0.6242\n",
      "Epoch 10: val_accuracy improved from 0.62610 to 0.62700, saving model to best_model_optuna_randomsearch.h5\n",
      "1250/1250 [==============================] - 40s 32ms/step - loss: 1.1219 - accuracy: 0.6241 - val_loss: 1.1153 - val_accuracy: 0.6270\n"
     ]
    },
    {
     "name": "stderr",
     "output_type": "stream",
     "text": [
      "WARNING:absl:Found untraced functions such as _jit_compiled_convolution_op, _jit_compiled_convolution_op, _jit_compiled_convolution_op while saving (showing 3 of 3). These functions will not be directly callable after loading.\n"
     ]
    },
    {
     "name": "stdout",
     "output_type": "stream",
     "text": [
      "INFO:tensorflow:Assets written to: best_model_optuna_randomsearch_saved\\assets\n"
     ]
    },
    {
     "name": "stderr",
     "output_type": "stream",
     "text": [
      "INFO:tensorflow:Assets written to: best_model_optuna_randomsearch_saved\\assets\n",
      "\u001b[32m[I 2023-01-24 16:58:31,110]\u001b[0m Trial 2 finished with value: 0.6269999742507935 and parameters: {'batch_size': 32, 'epochs': 10, 'dense_nodes': 32, 'conv_nodes': 32, 'conv_layer': 3, 'dense_layer': 6, 'dropout': 0.2}. Best is trial 0 with value: 0.6711000204086304.\u001b[0m\n",
      "C:\\Users\\domin\\AppData\\Local\\Temp\\ipykernel_25900\\2662525855.py:15: FutureWarning:\n",
      "\n",
      "KerasPruningCallback has been deprecated in v2.1.0. This feature will be removed in v4.0.0. See https://github.com/optuna/optuna/releases/tag/v2.1.0. Recent Keras release (2.4.0) simply redirects all APIs in the standalone keras package to point to tf.keras. There is now only one Keras: tf.keras. There may be some breaking changes for some workflows by upgrading to keras 2.4.0. Test before upgrading. REF: https://github.com/keras-team/keras/releases/tag/2.4.0. There is an alternative callback function that can be used instead: :class:`~optuna.integration.TFKerasPruningCallback`\n",
      "\n"
     ]
    },
    {
     "name": "stdout",
     "output_type": "stream",
     "text": [
      "Epoch 1/20\n",
      "1250/1250 [==============================] - ETA: 0s - loss: 1.9020 - accuracy: 0.2789\n",
      "Epoch 1: val_accuracy improved from -inf to 0.35780, saving model to best_model_optuna_randomsearch.h5\n",
      "1250/1250 [==============================] - 43s 34ms/step - loss: 1.9020 - accuracy: 0.2789 - val_loss: 1.7968 - val_accuracy: 0.3578\n",
      "Epoch 2/20\n",
      "1250/1250 [==============================] - ETA: 0s - loss: 1.5927 - accuracy: 0.4180\n",
      "Epoch 2: val_accuracy improved from 0.35780 to 0.46970, saving model to best_model_optuna_randomsearch.h5\n",
      "1250/1250 [==============================] - 43s 34ms/step - loss: 1.5927 - accuracy: 0.4180 - val_loss: 1.4359 - val_accuracy: 0.4697\n",
      "Epoch 3/20\n",
      "1249/1250 [============================>.] - ETA: 0s - loss: 1.4544 - accuracy: 0.4819\n",
      "Epoch 3: val_accuracy did not improve from 0.46970\n",
      "1250/1250 [==============================] - 47s 37ms/step - loss: 1.4545 - accuracy: 0.4819 - val_loss: 1.5803 - val_accuracy: 0.4674\n",
      "Epoch 4/20\n",
      "1249/1250 [============================>.] - ETA: 0s - loss: 1.3537 - accuracy: 0.5295\n",
      "Epoch 4: val_accuracy improved from 0.46970 to 0.52400, saving model to best_model_optuna_randomsearch.h5\n",
      "1250/1250 [==============================] - 46s 37ms/step - loss: 1.3540 - accuracy: 0.5294 - val_loss: 1.3354 - val_accuracy: 0.5240\n",
      "Epoch 5/20\n",
      "1250/1250 [==============================] - ETA: 0s - loss: 1.2820 - accuracy: 0.5566\n",
      "Epoch 5: val_accuracy improved from 0.52400 to 0.59440, saving model to best_model_optuna_randomsearch.h5\n",
      "1250/1250 [==============================] - 47s 37ms/step - loss: 1.2820 - accuracy: 0.5566 - val_loss: 1.1688 - val_accuracy: 0.5944\n",
      "Epoch 6/20\n",
      "1250/1250 [==============================] - ETA: 0s - loss: 1.2373 - accuracy: 0.5820\n",
      "Epoch 6: val_accuracy improved from 0.59440 to 0.61420, saving model to best_model_optuna_randomsearch.h5\n",
      "1250/1250 [==============================] - 44s 35ms/step - loss: 1.2373 - accuracy: 0.5820 - val_loss: 1.1725 - val_accuracy: 0.6142\n",
      "Epoch 7/20\n",
      "1250/1250 [==============================] - ETA: 0s - loss: 1.1895 - accuracy: 0.5958\n",
      "Epoch 7: val_accuracy improved from 0.61420 to 0.61970, saving model to best_model_optuna_randomsearch.h5\n",
      "1250/1250 [==============================] - 46s 37ms/step - loss: 1.1895 - accuracy: 0.5958 - val_loss: 1.0654 - val_accuracy: 0.6197\n",
      "Epoch 8/20\n",
      "1249/1250 [============================>.] - ETA: 0s - loss: 1.1509 - accuracy: 0.6110\n",
      "Epoch 8: val_accuracy did not improve from 0.61970\n",
      "1250/1250 [==============================] - 46s 36ms/step - loss: 1.1508 - accuracy: 0.6110 - val_loss: 1.4099 - val_accuracy: 0.5223\n",
      "Epoch 9/20\n",
      "1250/1250 [==============================] - ETA: 0s - loss: 1.1369 - accuracy: 0.6149\n",
      "Epoch 9: val_accuracy improved from 0.61970 to 0.64290, saving model to best_model_optuna_randomsearch.h5\n",
      "1250/1250 [==============================] - 46s 37ms/step - loss: 1.1369 - accuracy: 0.6149 - val_loss: 1.0231 - val_accuracy: 0.6429\n",
      "Epoch 10/20\n",
      "1250/1250 [==============================] - ETA: 0s - loss: 1.1097 - accuracy: 0.6245\n",
      "Epoch 10: val_accuracy did not improve from 0.64290\n",
      "1250/1250 [==============================] - 45s 36ms/step - loss: 1.1097 - accuracy: 0.6245 - val_loss: 1.1347 - val_accuracy: 0.6058\n",
      "Epoch 11/20\n",
      "1250/1250 [==============================] - ETA: 0s - loss: 1.0889 - accuracy: 0.6373\n",
      "Epoch 11: val_accuracy did not improve from 0.64290\n",
      "1250/1250 [==============================] - 46s 37ms/step - loss: 1.0889 - accuracy: 0.6373 - val_loss: 1.1391 - val_accuracy: 0.6220\n",
      "Epoch 12/20\n",
      "1249/1250 [============================>.] - ETA: 0s - loss: 1.0686 - accuracy: 0.6428\n",
      "Epoch 12: val_accuracy did not improve from 0.64290\n",
      "1250/1250 [==============================] - 42s 34ms/step - loss: 1.0686 - accuracy: 0.6428 - val_loss: 1.0187 - val_accuracy: 0.6392\n",
      "Epoch 13/20\n",
      "1250/1250 [==============================] - ETA: 0s - loss: 1.0576 - accuracy: 0.6472\n",
      "Epoch 13: val_accuracy improved from 0.64290 to 0.69250, saving model to best_model_optuna_randomsearch.h5\n",
      "1250/1250 [==============================] - 43s 34ms/step - loss: 1.0576 - accuracy: 0.6472 - val_loss: 0.9211 - val_accuracy: 0.6925\n",
      "Epoch 14/20\n",
      "1250/1250 [==============================] - ETA: 0s - loss: 1.0440 - accuracy: 0.6518\n",
      "Epoch 14: val_accuracy did not improve from 0.69250\n",
      "1250/1250 [==============================] - 42s 34ms/step - loss: 1.0440 - accuracy: 0.6518 - val_loss: 0.9051 - val_accuracy: 0.6898\n",
      "Epoch 15/20\n",
      "1250/1250 [==============================] - ETA: 0s - loss: 1.0295 - accuracy: 0.6593\n",
      "Epoch 15: val_accuracy did not improve from 0.69250\n",
      "1250/1250 [==============================] - 42s 34ms/step - loss: 1.0295 - accuracy: 0.6593 - val_loss: 1.0405 - val_accuracy: 0.6432\n",
      "Epoch 16/20\n",
      "1250/1250 [==============================] - ETA: 0s - loss: 1.0122 - accuracy: 0.6658\n",
      "Epoch 16: val_accuracy improved from 0.69250 to 0.70540, saving model to best_model_optuna_randomsearch.h5\n",
      "1250/1250 [==============================] - 42s 34ms/step - loss: 1.0122 - accuracy: 0.6658 - val_loss: 0.8764 - val_accuracy: 0.7054\n",
      "Epoch 17/20\n",
      "1249/1250 [============================>.] - ETA: 0s - loss: 1.0054 - accuracy: 0.6670\n",
      "Epoch 17: val_accuracy did not improve from 0.70540\n",
      "1250/1250 [==============================] - 45s 36ms/step - loss: 1.0052 - accuracy: 0.6670 - val_loss: 1.1845 - val_accuracy: 0.6014\n",
      "Epoch 18/20\n",
      "1249/1250 [============================>.] - ETA: 0s - loss: 0.9966 - accuracy: 0.6679\n",
      "Epoch 18: val_accuracy did not improve from 0.70540\n",
      "1250/1250 [==============================] - 47s 37ms/step - loss: 0.9967 - accuracy: 0.6678 - val_loss: 0.9254 - val_accuracy: 0.6826\n",
      "Epoch 19/20\n",
      "1249/1250 [============================>.] - ETA: 0s - loss: 0.9878 - accuracy: 0.6723\n",
      "Epoch 19: val_accuracy did not improve from 0.70540\n",
      "1250/1250 [==============================] - 45s 36ms/step - loss: 0.9875 - accuracy: 0.6724 - val_loss: 1.0137 - val_accuracy: 0.6484\n",
      "Epoch 20/20\n",
      "1249/1250 [============================>.] - ETA: 0s - loss: 0.9763 - accuracy: 0.6766\n",
      "Epoch 20: val_accuracy did not improve from 0.70540\n",
      "1250/1250 [==============================] - 43s 34ms/step - loss: 0.9763 - accuracy: 0.6766 - val_loss: 1.0522 - val_accuracy: 0.6346\n"
     ]
    },
    {
     "name": "stderr",
     "output_type": "stream",
     "text": [
      "WARNING:absl:Found untraced functions such as _jit_compiled_convolution_op, _jit_compiled_convolution_op, _jit_compiled_convolution_op while saving (showing 3 of 3). These functions will not be directly callable after loading.\n"
     ]
    },
    {
     "name": "stdout",
     "output_type": "stream",
     "text": [
      "INFO:tensorflow:Assets written to: best_model_optuna_randomsearch_saved\\assets\n"
     ]
    },
    {
     "name": "stderr",
     "output_type": "stream",
     "text": [
      "INFO:tensorflow:Assets written to: best_model_optuna_randomsearch_saved\\assets\n",
      "\u001b[32m[I 2023-01-24 17:13:23,097]\u001b[0m Trial 3 finished with value: 0.6345999836921692 and parameters: {'batch_size': 32, 'epochs': 20, 'dense_nodes': 128, 'conv_nodes': 64, 'conv_layer': 2, 'dense_layer': 2, 'dropout': 0.2}. Best is trial 0 with value: 0.6711000204086304.\u001b[0m\n",
      "C:\\Users\\domin\\AppData\\Local\\Temp\\ipykernel_25900\\2662525855.py:15: FutureWarning:\n",
      "\n",
      "KerasPruningCallback has been deprecated in v2.1.0. This feature will be removed in v4.0.0. See https://github.com/optuna/optuna/releases/tag/v2.1.0. Recent Keras release (2.4.0) simply redirects all APIs in the standalone keras package to point to tf.keras. There is now only one Keras: tf.keras. There may be some breaking changes for some workflows by upgrading to keras 2.4.0. Test before upgrading. REF: https://github.com/keras-team/keras/releases/tag/2.4.0. There is an alternative callback function that can be used instead: :class:`~optuna.integration.TFKerasPruningCallback`\n",
      "\n"
     ]
    },
    {
     "name": "stdout",
     "output_type": "stream",
     "text": [
      "Epoch 1/10\n",
      "313/313 [==============================] - ETA: 0s - loss: 1.9603 - accuracy: 0.2438\n",
      "Epoch 1: val_accuracy improved from -inf to 0.12700, saving model to best_model_optuna_randomsearch.h5\n",
      "313/313 [==============================] - 38s 120ms/step - loss: 1.9603 - accuracy: 0.2438 - val_loss: 2.7980 - val_accuracy: 0.1270\n",
      "Epoch 2/10\n",
      "313/313 [==============================] - ETA: 0s - loss: 1.6229 - accuracy: 0.3938\n",
      "Epoch 2: val_accuracy improved from 0.12700 to 0.39190, saving model to best_model_optuna_randomsearch.h5\n",
      "313/313 [==============================] - 37s 119ms/step - loss: 1.6229 - accuracy: 0.3938 - val_loss: 1.7020 - val_accuracy: 0.3919\n",
      "Epoch 3/10\n",
      "313/313 [==============================] - ETA: 0s - loss: 1.4741 - accuracy: 0.4697\n",
      "Epoch 3: val_accuracy improved from 0.39190 to 0.50520, saving model to best_model_optuna_randomsearch.h5\n",
      "313/313 [==============================] - 36s 115ms/step - loss: 1.4741 - accuracy: 0.4697 - val_loss: 1.3222 - val_accuracy: 0.5052\n",
      "Epoch 4/10\n",
      "313/313 [==============================] - ETA: 0s - loss: 1.3799 - accuracy: 0.5130\n",
      "Epoch 4: val_accuracy improved from 0.50520 to 0.54730, saving model to best_model_optuna_randomsearch.h5\n",
      "313/313 [==============================] - 35s 112ms/step - loss: 1.3799 - accuracy: 0.5130 - val_loss: 1.2701 - val_accuracy: 0.5473\n",
      "Epoch 5/10\n",
      "313/313 [==============================] - ETA: 0s - loss: 1.2972 - accuracy: 0.5446\n",
      "Epoch 5: val_accuracy did not improve from 0.54730\n",
      "313/313 [==============================] - 37s 118ms/step - loss: 1.2972 - accuracy: 0.5446 - val_loss: 1.6092 - val_accuracy: 0.4422\n",
      "Epoch 6/10\n",
      "313/313 [==============================] - ETA: 0s - loss: 1.2364 - accuracy: 0.5690\n",
      "Epoch 6: val_accuracy did not improve from 0.54730\n",
      "313/313 [==============================] - 39s 126ms/step - loss: 1.2364 - accuracy: 0.5690 - val_loss: 1.3001 - val_accuracy: 0.5398\n",
      "Epoch 7/10\n",
      "313/313 [==============================] - ETA: 0s - loss: 1.1816 - accuracy: 0.5915\n",
      "Epoch 7: val_accuracy improved from 0.54730 to 0.60110, saving model to best_model_optuna_randomsearch.h5\n",
      "313/313 [==============================] - 39s 126ms/step - loss: 1.1816 - accuracy: 0.5915 - val_loss: 1.1361 - val_accuracy: 0.6011\n",
      "Epoch 8/10\n",
      "313/313 [==============================] - ETA: 0s - loss: 1.1415 - accuracy: 0.6095\n",
      "Epoch 8: val_accuracy improved from 0.60110 to 0.61570, saving model to best_model_optuna_randomsearch.h5\n",
      "313/313 [==============================] - 40s 127ms/step - loss: 1.1415 - accuracy: 0.6095 - val_loss: 1.0767 - val_accuracy: 0.6157\n",
      "Epoch 9/10\n",
      "313/313 [==============================] - ETA: 0s - loss: 1.1000 - accuracy: 0.6231\n",
      "Epoch 9: val_accuracy improved from 0.61570 to 0.61600, saving model to best_model_optuna_randomsearch.h5\n",
      "313/313 [==============================] - 38s 121ms/step - loss: 1.1000 - accuracy: 0.6231 - val_loss: 1.1146 - val_accuracy: 0.6160\n",
      "Epoch 10/10\n",
      "313/313 [==============================] - ETA: 0s - loss: 1.0807 - accuracy: 0.6325\n",
      "Epoch 10: val_accuracy improved from 0.61600 to 0.63070, saving model to best_model_optuna_randomsearch.h5\n",
      "313/313 [==============================] - 38s 122ms/step - loss: 1.0807 - accuracy: 0.6325 - val_loss: 1.0624 - val_accuracy: 0.6307\n"
     ]
    },
    {
     "name": "stderr",
     "output_type": "stream",
     "text": [
      "WARNING:absl:Found untraced functions such as _jit_compiled_convolution_op, _jit_compiled_convolution_op, _jit_compiled_convolution_op while saving (showing 3 of 3). These functions will not be directly callable after loading.\n"
     ]
    },
    {
     "name": "stdout",
     "output_type": "stream",
     "text": [
      "INFO:tensorflow:Assets written to: best_model_optuna_randomsearch_saved\\assets\n"
     ]
    },
    {
     "name": "stderr",
     "output_type": "stream",
     "text": [
      "INFO:tensorflow:Assets written to: best_model_optuna_randomsearch_saved\\assets\n",
      "\u001b[32m[I 2023-01-24 17:19:44,018]\u001b[0m Trial 4 finished with value: 0.6306999921798706 and parameters: {'batch_size': 128, 'epochs': 10, 'dense_nodes': 128, 'conv_nodes': 64, 'conv_layer': 4, 'dense_layer': 2, 'dropout': 0.1}. Best is trial 0 with value: 0.6711000204086304.\u001b[0m\n",
      "C:\\Users\\domin\\AppData\\Local\\Temp\\ipykernel_25900\\2662525855.py:15: FutureWarning:\n",
      "\n",
      "KerasPruningCallback has been deprecated in v2.1.0. This feature will be removed in v4.0.0. See https://github.com/optuna/optuna/releases/tag/v2.1.0. Recent Keras release (2.4.0) simply redirects all APIs in the standalone keras package to point to tf.keras. There is now only one Keras: tf.keras. There may be some breaking changes for some workflows by upgrading to keras 2.4.0. Test before upgrading. REF: https://github.com/keras-team/keras/releases/tag/2.4.0. There is an alternative callback function that can be used instead: :class:`~optuna.integration.TFKerasPruningCallback`\n",
      "\n"
     ]
    },
    {
     "name": "stdout",
     "output_type": "stream",
     "text": [
      "Epoch 1/10\n",
      "625/625 [==============================] - ETA: 0s - loss: 1.8990 - accuracy: 0.2796\n",
      "Epoch 1: val_accuracy improved from -inf to 0.39810, saving model to best_model_optuna_randomsearch.h5\n",
      "625/625 [==============================] - 40s 62ms/step - loss: 1.8990 - accuracy: 0.2796 - val_loss: 1.6659 - val_accuracy: 0.3981\n",
      "Epoch 2/10\n",
      "625/625 [==============================] - ETA: 0s - loss: 1.5671 - accuracy: 0.4283"
     ]
    },
    {
     "name": "stderr",
     "output_type": "stream",
     "text": [
      "\u001b[32m[I 2023-01-24 17:21:04,891]\u001b[0m Trial 5 pruned. Trial was pruned at epoch 1.\u001b[0m\n"
     ]
    },
    {
     "name": "stdout",
     "output_type": "stream",
     "text": [
      "Epoch 1/10\n",
      "313/313 [==============================] - ETA: 0s - loss: 1.9576 - accuracy: 0.2473"
     ]
    },
    {
     "name": "stderr",
     "output_type": "stream",
     "text": [
      "\u001b[32m[I 2023-01-24 17:21:42,918]\u001b[0m Trial 6 pruned. Trial was pruned at epoch 0.\u001b[0m\n"
     ]
    },
    {
     "name": "stdout",
     "output_type": "stream",
     "text": [
      "Epoch 1/20\n",
      "625/625 [==============================] - ETA: 0s - loss: 1.9217 - accuracy: 0.2644"
     ]
    },
    {
     "name": "stderr",
     "output_type": "stream",
     "text": [
      "\u001b[32m[I 2023-01-24 17:22:22,914]\u001b[0m Trial 7 pruned. Trial was pruned at epoch 0.\u001b[0m\n"
     ]
    },
    {
     "name": "stdout",
     "output_type": "stream",
     "text": [
      "Epoch 1/20\n",
      "625/625 [==============================] - ETA: 0s - loss: 1.9137 - accuracy: 0.2715"
     ]
    },
    {
     "name": "stderr",
     "output_type": "stream",
     "text": [
      "\u001b[32m[I 2023-01-24 17:23:03,365]\u001b[0m Trial 8 pruned. Trial was pruned at epoch 0.\u001b[0m\n"
     ]
    },
    {
     "name": "stdout",
     "output_type": "stream",
     "text": [
      "Epoch 1/20\n",
      "625/625 [==============================] - ETA: 0s - loss: 1.9186 - accuracy: 0.2702\n",
      "Epoch 1: val_accuracy improved from -inf to 0.36290, saving model to best_model_optuna_randomsearch.h5\n",
      "625/625 [==============================] - 42s 66ms/step - loss: 1.9186 - accuracy: 0.2702 - val_loss: 1.7222 - val_accuracy: 0.3629\n",
      "Epoch 2/20\n",
      "625/625 [==============================] - ETA: 0s - loss: 1.5898 - accuracy: 0.4175"
     ]
    },
    {
     "name": "stderr",
     "output_type": "stream",
     "text": [
      "\u001b[32m[I 2023-01-24 17:24:23,842]\u001b[0m Trial 9 pruned. Trial was pruned at epoch 1.\u001b[0m\n"
     ]
    },
    {
     "name": "stdout",
     "output_type": "stream",
     "text": [
      "Epoch 1/30\n",
      "625/625 [==============================] - ETA: 0s - loss: 1.9043 - accuracy: 0.2715\n",
      "Epoch 1: val_accuracy improved from -inf to 0.38310, saving model to best_model_optuna_randomsearch.h5\n",
      "625/625 [==============================] - 40s 63ms/step - loss: 1.9043 - accuracy: 0.2715 - val_loss: 1.7281 - val_accuracy: 0.3831\n",
      "Epoch 2/30\n",
      "625/625 [==============================] - ETA: 0s - loss: 1.5777 - accuracy: 0.4175\n",
      "Epoch 2: val_accuracy improved from 0.38310 to 0.49910, saving model to best_model_optuna_randomsearch.h5\n",
      "625/625 [==============================] - 38s 61ms/step - loss: 1.5777 - accuracy: 0.4175 - val_loss: 1.3692 - val_accuracy: 0.4991\n",
      "Epoch 3/30\n",
      "625/625 [==============================] - ETA: 0s - loss: 1.4434 - accuracy: 0.4815"
     ]
    },
    {
     "name": "stderr",
     "output_type": "stream",
     "text": [
      "\u001b[32m[I 2023-01-24 17:26:20,747]\u001b[0m Trial 10 pruned. Trial was pruned at epoch 2.\u001b[0m\n"
     ]
    },
    {
     "name": "stdout",
     "output_type": "stream",
     "text": [
      "Epoch 1/10\n",
      "313/313 [==============================] - ETA: 0s - loss: 1.9877 - accuracy: 0.2377"
     ]
    },
    {
     "name": "stderr",
     "output_type": "stream",
     "text": [
      "\u001b[32m[I 2023-01-24 17:26:58,708]\u001b[0m Trial 11 pruned. Trial was pruned at epoch 0.\u001b[0m\n"
     ]
    },
    {
     "name": "stdout",
     "output_type": "stream",
     "text": [
      "Epoch 1/30\n",
      "625/625 [==============================] - ETA: 0s - loss: 1.9028 - accuracy: 0.2752\n",
      "Epoch 1: val_accuracy improved from -inf to 0.36170, saving model to best_model_optuna_randomsearch.h5\n",
      "625/625 [==============================] - 41s 64ms/step - loss: 1.9028 - accuracy: 0.2752 - val_loss: 1.7917 - val_accuracy: 0.3617\n",
      "Epoch 2/30\n",
      "625/625 [==============================] - ETA: 0s - loss: 1.5749 - accuracy: 0.4211\n",
      "Epoch 2: val_accuracy improved from 0.36170 to 0.47800, saving model to best_model_optuna_randomsearch.h5\n",
      "625/625 [==============================] - 42s 66ms/step - loss: 1.5749 - accuracy: 0.4211 - val_loss: 1.4591 - val_accuracy: 0.4780\n",
      "Epoch 3/30\n",
      "625/625 [==============================] - ETA: 0s - loss: 1.4211 - accuracy: 0.4992\n",
      "Epoch 3: val_accuracy improved from 0.47800 to 0.55700, saving model to best_model_optuna_randomsearch.h5\n",
      "625/625 [==============================] - 42s 66ms/step - loss: 1.4211 - accuracy: 0.4992 - val_loss: 1.2653 - val_accuracy: 0.5570\n",
      "Epoch 4/30\n",
      "625/625 [==============================] - ETA: 0s - loss: 1.3211 - accuracy: 0.5394\n",
      "Epoch 4: val_accuracy improved from 0.55700 to 0.58940, saving model to best_model_optuna_randomsearch.h5\n",
      "625/625 [==============================] - 44s 70ms/step - loss: 1.3211 - accuracy: 0.5394 - val_loss: 1.1486 - val_accuracy: 0.5894\n",
      "Epoch 5/30\n",
      "625/625 [==============================] - ETA: 0s - loss: 1.2340 - accuracy: 0.5738\n",
      "Epoch 5: val_accuracy did not improve from 0.58940\n",
      "625/625 [==============================] - 45s 72ms/step - loss: 1.2340 - accuracy: 0.5738 - val_loss: 1.1565 - val_accuracy: 0.5857\n",
      "Epoch 6/30\n",
      "625/625 [==============================] - ETA: 0s - loss: 1.1936 - accuracy: 0.5895\n",
      "Epoch 6: val_accuracy improved from 0.58940 to 0.62560, saving model to best_model_optuna_randomsearch.h5\n",
      "625/625 [==============================] - 45s 73ms/step - loss: 1.1936 - accuracy: 0.5895 - val_loss: 1.0505 - val_accuracy: 0.6256\n",
      "Epoch 7/30\n",
      "625/625 [==============================] - ETA: 0s - loss: 1.1398 - accuracy: 0.6124\n",
      "Epoch 7: val_accuracy did not improve from 0.62560\n",
      "625/625 [==============================] - 48s 77ms/step - loss: 1.1398 - accuracy: 0.6124 - val_loss: 1.1780 - val_accuracy: 0.5985\n",
      "Epoch 8/30\n",
      "625/625 [==============================] - ETA: 0s - loss: 1.1091 - accuracy: 0.6238\n",
      "Epoch 8: val_accuracy improved from 0.62560 to 0.65380, saving model to best_model_optuna_randomsearch.h5\n",
      "625/625 [==============================] - 47s 76ms/step - loss: 1.1091 - accuracy: 0.6238 - val_loss: 0.9995 - val_accuracy: 0.6538\n",
      "Epoch 9/30\n",
      "625/625 [==============================] - ETA: 0s - loss: 1.0794 - accuracy: 0.6364\n",
      "Epoch 9: val_accuracy did not improve from 0.65380\n",
      "625/625 [==============================] - 46s 73ms/step - loss: 1.0794 - accuracy: 0.6364 - val_loss: 0.9818 - val_accuracy: 0.6487\n",
      "Epoch 10/30\n",
      "625/625 [==============================] - ETA: 0s - loss: 1.0446 - accuracy: 0.6470\n",
      "Epoch 10: val_accuracy improved from 0.65380 to 0.66440, saving model to best_model_optuna_randomsearch.h5\n",
      "625/625 [==============================] - 47s 75ms/step - loss: 1.0446 - accuracy: 0.6470 - val_loss: 1.0108 - val_accuracy: 0.6644\n",
      "Epoch 11/30\n",
      "625/625 [==============================] - ETA: 0s - loss: 1.0280 - accuracy: 0.6527"
     ]
    },
    {
     "name": "stderr",
     "output_type": "stream",
     "text": [
      "\u001b[32m[I 2023-01-24 17:35:09,655]\u001b[0m Trial 12 pruned. Trial was pruned at epoch 10.\u001b[0m\n"
     ]
    },
    {
     "name": "stdout",
     "output_type": "stream",
     "text": [
      "Epoch 1/10\n",
      "1250/1250 [==============================] - ETA: 0s - loss: 1.8834 - accuracy: 0.2864\n",
      "Epoch 1: val_accuracy improved from -inf to 0.41870, saving model to best_model_optuna_randomsearch.h5\n",
      "1250/1250 [==============================] - 45s 36ms/step - loss: 1.8834 - accuracy: 0.2864 - val_loss: 1.6265 - val_accuracy: 0.4187\n",
      "Epoch 2/10\n",
      "1249/1250 [============================>.] - ETA: 0s - loss: 1.5829 - accuracy: 0.4216\n",
      "Epoch 2: val_accuracy improved from 0.41870 to 0.47990, saving model to best_model_optuna_randomsearch.h5\n",
      "1250/1250 [==============================] - 46s 37ms/step - loss: 1.5828 - accuracy: 0.4216 - val_loss: 1.4050 - val_accuracy: 0.4799\n",
      "Epoch 3/10\n",
      "1250/1250 [==============================] - ETA: 0s - loss: 1.4526 - accuracy: 0.4857\n",
      "Epoch 3: val_accuracy improved from 0.47990 to 0.52150, saving model to best_model_optuna_randomsearch.h5\n",
      "1250/1250 [==============================] - 41s 33ms/step - loss: 1.4526 - accuracy: 0.4857 - val_loss: 1.3481 - val_accuracy: 0.5215\n",
      "Epoch 4/10\n",
      "1249/1250 [============================>.] - ETA: 0s - loss: 1.3537 - accuracy: 0.5247\n",
      "Epoch 4: val_accuracy improved from 0.52150 to 0.58520, saving model to best_model_optuna_randomsearch.h5\n",
      "1250/1250 [==============================] - 41s 33ms/step - loss: 1.3538 - accuracy: 0.5247 - val_loss: 1.1971 - val_accuracy: 0.5852\n",
      "Epoch 5/10\n",
      "1249/1250 [============================>.] - ETA: 0s - loss: 1.2918 - accuracy: 0.5530\n",
      "Epoch 5: val_accuracy improved from 0.58520 to 0.58850, saving model to best_model_optuna_randomsearch.h5\n",
      "1250/1250 [==============================] - 41s 33ms/step - loss: 1.2922 - accuracy: 0.5529 - val_loss: 1.1835 - val_accuracy: 0.5885\n",
      "Epoch 6/10\n",
      "1250/1250 [==============================] - ETA: 0s - loss: 1.2358 - accuracy: 0.5763"
     ]
    },
    {
     "name": "stderr",
     "output_type": "stream",
     "text": [
      "\u001b[32m[I 2023-01-24 17:39:27,531]\u001b[0m Trial 13 pruned. Trial was pruned at epoch 5.\u001b[0m\n"
     ]
    },
    {
     "name": "stdout",
     "output_type": "stream",
     "text": [
      "Epoch 1/10\n",
      "313/313 [==============================] - ETA: 0s - loss: 1.9744 - accuracy: 0.2408"
     ]
    },
    {
     "name": "stderr",
     "output_type": "stream",
     "text": [
      "\u001b[32m[I 2023-01-24 17:40:09,684]\u001b[0m Trial 14 pruned. Trial was pruned at epoch 0.\u001b[0m\n"
     ]
    },
    {
     "name": "stdout",
     "output_type": "stream",
     "text": [
      "Epoch 1/20\n",
      "313/313 [==============================] - ETA: 0s - loss: 1.9574 - accuracy: 0.2510"
     ]
    },
    {
     "name": "stderr",
     "output_type": "stream",
     "text": [
      "\u001b[32m[I 2023-01-24 17:40:56,901]\u001b[0m Trial 15 pruned. Trial was pruned at epoch 0.\u001b[0m\n"
     ]
    },
    {
     "name": "stdout",
     "output_type": "stream",
     "text": [
      "Epoch 1/30\n",
      "313/313 [==============================] - ETA: 0s - loss: 1.9664 - accuracy: 0.2496"
     ]
    },
    {
     "name": "stderr",
     "output_type": "stream",
     "text": [
      "\u001b[32m[I 2023-01-24 17:41:36,166]\u001b[0m Trial 16 pruned. Trial was pruned at epoch 0.\u001b[0m\n"
     ]
    },
    {
     "name": "stdout",
     "output_type": "stream",
     "text": [
      "Epoch 1/30\n",
      "313/313 [==============================] - ETA: 0s - loss: 1.9731 - accuracy: 0.2412"
     ]
    },
    {
     "name": "stderr",
     "output_type": "stream",
     "text": [
      "\u001b[32m[I 2023-01-24 17:42:16,197]\u001b[0m Trial 17 pruned. Trial was pruned at epoch 0.\u001b[0m\n"
     ]
    },
    {
     "name": "stdout",
     "output_type": "stream",
     "text": [
      "Epoch 1/10\n",
      "625/625 [==============================] - ETA: 0s - loss: 1.9011 - accuracy: 0.2715"
     ]
    },
    {
     "name": "stderr",
     "output_type": "stream",
     "text": [
      "\u001b[32m[I 2023-01-24 17:42:57,497]\u001b[0m Trial 18 pruned. Trial was pruned at epoch 0.\u001b[0m\n"
     ]
    },
    {
     "name": "stdout",
     "output_type": "stream",
     "text": [
      "Epoch 1/20\n",
      "1249/1250 [============================>.] - ETA: 0s - loss: 1.8927 - accuracy: 0.2802\n",
      "Epoch 1: val_accuracy improved from -inf to 0.39730, saving model to best_model_optuna_randomsearch.h5\n",
      "1250/1250 [==============================] - 45s 35ms/step - loss: 1.8924 - accuracy: 0.2803 - val_loss: 1.6693 - val_accuracy: 0.3973\n",
      "Epoch 2/20\n",
      "1250/1250 [==============================] - ETA: 0s - loss: 1.5907 - accuracy: 0.4198\n",
      "Epoch 2: val_accuracy improved from 0.39730 to 0.47890, saving model to best_model_optuna_randomsearch.h5\n",
      "1250/1250 [==============================] - 41s 33ms/step - loss: 1.5907 - accuracy: 0.4198 - val_loss: 1.4411 - val_accuracy: 0.4789\n",
      "Epoch 3/20\n",
      "1250/1250 [==============================] - ETA: 0s - loss: 1.4534 - accuracy: 0.4806"
     ]
    },
    {
     "name": "stderr",
     "output_type": "stream",
     "text": [
      "\u001b[32m[I 2023-01-24 17:45:08,519]\u001b[0m Trial 19 pruned. Trial was pruned at epoch 2.\u001b[0m\n"
     ]
    },
    {
     "name": "stdout",
     "output_type": "stream",
     "text": [
      "Number of finished trials: 20\n",
      "Best trial: {'batch_size': 32, 'conv_layer': 2, 'conv_nodes': 64, 'dense_layer': 4, 'dense_nodes': 128, 'dropout': 0.2, 'epochs': 20}\n"
     ]
    }
   ],
   "source": [
    "#start optuna\n",
    "study = optuna.create_study(direction='maximize', study_name='optuna_randomsearch', storage='sqlite:///optuna_randomsearch.db', load_if_exists=True, sampler= optuna.samplers.RandomSampler())\n",
    "study.optimize(objective, n_trials=20)\n",
    "\n",
    "\n",
    "# print best parameters\n",
    "print('Number of finished trials:', len(study.trials))\n",
    "print('Best trial:', study.best_trial.params)\n",
    "\n",
    "\n"
   ]
  },
  {
   "cell_type": "code",
   "execution_count": 63,
   "metadata": {},
   "outputs": [],
   "source": [
    "# # plot\n",
    "# optuna.visualization.plot_optimization_history(study)\n",
    "# optuna.visualization.plot_slice(study)\n",
    "# optuna.visualization.plot_param_importances(study)\n",
    "\n",
    "def show_result(study):\n",
    "\n",
    "    pruned_trials = study.get_trials(deepcopy=False, states=[TrialState.PRUNED])\n",
    "    complete_trials = study.get_trials(deepcopy=False, states=[TrialState.COMPLETE])\n",
    "\n",
    "    print(\"Study statistics: \")\n",
    "    print(\"  Number of finished trials: \", len(study.trials))\n",
    "    print(\"  Number of pruned trials: \", len(pruned_trials))\n",
    "    print(\"  Number of complete trials: \", len(complete_trials))\n",
    "\n",
    "    \n",
    "\n",
    "    print(\"Best trial:\")\n",
    "    trial = study.best_trial\n",
    "\n",
    "    print(\"  Value: \", trial.value)\n",
    "\n",
    "    print(\"  Params: \")\n",
    "    for key, value in trial.params.items():\n",
    "        print(\"    {}: {}\".format(key, value))\n",
    "\n"
   ]
  },
  {
   "cell_type": "code",
   "execution_count": 64,
   "metadata": {},
   "outputs": [
    {
     "name": "stdout",
     "output_type": "stream",
     "text": [
      "Study statistics: \n",
      "  Number of finished trials:  20\n",
      "  Number of pruned trials:  15\n",
      "  Number of complete trials:  5\n",
      "Best trial:\n",
      "  Value:  0.6711000204086304\n",
      "  Params: \n",
      "    batch_size: 32\n",
      "    conv_layer: 2\n",
      "    conv_nodes: 64\n",
      "    dense_layer: 4\n",
      "    dense_nodes: 128\n",
      "    dropout: 0.2\n",
      "    epochs: 20\n"
     ]
    }
   ],
   "source": [
    "show_result(study)"
   ]
  },
  {
   "cell_type": "code",
   "execution_count": 70,
   "metadata": {},
   "outputs": [
    {
     "data": {
      "application/vnd.plotly.v1+json": {
       "config": {
        "plotlyServerURL": "https://plot.ly"
       },
       "data": [
        {
         "mode": "markers",
         "name": "Objective Value",
         "type": "scatter",
         "x": [
          0,
          1,
          2,
          3,
          4
         ],
         "y": [
          0.6711000204086304,
          0.6614999771118164,
          0.6269999742507935,
          0.6345999836921692,
          0.6306999921798706
         ]
        },
        {
         "name": "Best Value",
         "type": "scatter",
         "x": [
          0,
          1,
          2,
          3,
          4
         ],
         "y": [
          0.6711000204086304,
          0.6711000204086304,
          0.6711000204086304,
          0.6711000204086304,
          0.6711000204086304
         ]
        }
       ],
       "layout": {
        "template": {
         "data": {
          "bar": [
           {
            "error_x": {
             "color": "#2a3f5f"
            },
            "error_y": {
             "color": "#2a3f5f"
            },
            "marker": {
             "line": {
              "color": "#E5ECF6",
              "width": 0.5
             },
             "pattern": {
              "fillmode": "overlay",
              "size": 10,
              "solidity": 0.2
             }
            },
            "type": "bar"
           }
          ],
          "barpolar": [
           {
            "marker": {
             "line": {
              "color": "#E5ECF6",
              "width": 0.5
             },
             "pattern": {
              "fillmode": "overlay",
              "size": 10,
              "solidity": 0.2
             }
            },
            "type": "barpolar"
           }
          ],
          "carpet": [
           {
            "aaxis": {
             "endlinecolor": "#2a3f5f",
             "gridcolor": "white",
             "linecolor": "white",
             "minorgridcolor": "white",
             "startlinecolor": "#2a3f5f"
            },
            "baxis": {
             "endlinecolor": "#2a3f5f",
             "gridcolor": "white",
             "linecolor": "white",
             "minorgridcolor": "white",
             "startlinecolor": "#2a3f5f"
            },
            "type": "carpet"
           }
          ],
          "choropleth": [
           {
            "colorbar": {
             "outlinewidth": 0,
             "ticks": ""
            },
            "type": "choropleth"
           }
          ],
          "contour": [
           {
            "colorbar": {
             "outlinewidth": 0,
             "ticks": ""
            },
            "colorscale": [
             [
              0,
              "#0d0887"
             ],
             [
              0.1111111111111111,
              "#46039f"
             ],
             [
              0.2222222222222222,
              "#7201a8"
             ],
             [
              0.3333333333333333,
              "#9c179e"
             ],
             [
              0.4444444444444444,
              "#bd3786"
             ],
             [
              0.5555555555555556,
              "#d8576b"
             ],
             [
              0.6666666666666666,
              "#ed7953"
             ],
             [
              0.7777777777777778,
              "#fb9f3a"
             ],
             [
              0.8888888888888888,
              "#fdca26"
             ],
             [
              1,
              "#f0f921"
             ]
            ],
            "type": "contour"
           }
          ],
          "contourcarpet": [
           {
            "colorbar": {
             "outlinewidth": 0,
             "ticks": ""
            },
            "type": "contourcarpet"
           }
          ],
          "heatmap": [
           {
            "colorbar": {
             "outlinewidth": 0,
             "ticks": ""
            },
            "colorscale": [
             [
              0,
              "#0d0887"
             ],
             [
              0.1111111111111111,
              "#46039f"
             ],
             [
              0.2222222222222222,
              "#7201a8"
             ],
             [
              0.3333333333333333,
              "#9c179e"
             ],
             [
              0.4444444444444444,
              "#bd3786"
             ],
             [
              0.5555555555555556,
              "#d8576b"
             ],
             [
              0.6666666666666666,
              "#ed7953"
             ],
             [
              0.7777777777777778,
              "#fb9f3a"
             ],
             [
              0.8888888888888888,
              "#fdca26"
             ],
             [
              1,
              "#f0f921"
             ]
            ],
            "type": "heatmap"
           }
          ],
          "heatmapgl": [
           {
            "colorbar": {
             "outlinewidth": 0,
             "ticks": ""
            },
            "colorscale": [
             [
              0,
              "#0d0887"
             ],
             [
              0.1111111111111111,
              "#46039f"
             ],
             [
              0.2222222222222222,
              "#7201a8"
             ],
             [
              0.3333333333333333,
              "#9c179e"
             ],
             [
              0.4444444444444444,
              "#bd3786"
             ],
             [
              0.5555555555555556,
              "#d8576b"
             ],
             [
              0.6666666666666666,
              "#ed7953"
             ],
             [
              0.7777777777777778,
              "#fb9f3a"
             ],
             [
              0.8888888888888888,
              "#fdca26"
             ],
             [
              1,
              "#f0f921"
             ]
            ],
            "type": "heatmapgl"
           }
          ],
          "histogram": [
           {
            "marker": {
             "pattern": {
              "fillmode": "overlay",
              "size": 10,
              "solidity": 0.2
             }
            },
            "type": "histogram"
           }
          ],
          "histogram2d": [
           {
            "colorbar": {
             "outlinewidth": 0,
             "ticks": ""
            },
            "colorscale": [
             [
              0,
              "#0d0887"
             ],
             [
              0.1111111111111111,
              "#46039f"
             ],
             [
              0.2222222222222222,
              "#7201a8"
             ],
             [
              0.3333333333333333,
              "#9c179e"
             ],
             [
              0.4444444444444444,
              "#bd3786"
             ],
             [
              0.5555555555555556,
              "#d8576b"
             ],
             [
              0.6666666666666666,
              "#ed7953"
             ],
             [
              0.7777777777777778,
              "#fb9f3a"
             ],
             [
              0.8888888888888888,
              "#fdca26"
             ],
             [
              1,
              "#f0f921"
             ]
            ],
            "type": "histogram2d"
           }
          ],
          "histogram2dcontour": [
           {
            "colorbar": {
             "outlinewidth": 0,
             "ticks": ""
            },
            "colorscale": [
             [
              0,
              "#0d0887"
             ],
             [
              0.1111111111111111,
              "#46039f"
             ],
             [
              0.2222222222222222,
              "#7201a8"
             ],
             [
              0.3333333333333333,
              "#9c179e"
             ],
             [
              0.4444444444444444,
              "#bd3786"
             ],
             [
              0.5555555555555556,
              "#d8576b"
             ],
             [
              0.6666666666666666,
              "#ed7953"
             ],
             [
              0.7777777777777778,
              "#fb9f3a"
             ],
             [
              0.8888888888888888,
              "#fdca26"
             ],
             [
              1,
              "#f0f921"
             ]
            ],
            "type": "histogram2dcontour"
           }
          ],
          "mesh3d": [
           {
            "colorbar": {
             "outlinewidth": 0,
             "ticks": ""
            },
            "type": "mesh3d"
           }
          ],
          "parcoords": [
           {
            "line": {
             "colorbar": {
              "outlinewidth": 0,
              "ticks": ""
             }
            },
            "type": "parcoords"
           }
          ],
          "pie": [
           {
            "automargin": true,
            "type": "pie"
           }
          ],
          "scatter": [
           {
            "fillpattern": {
             "fillmode": "overlay",
             "size": 10,
             "solidity": 0.2
            },
            "type": "scatter"
           }
          ],
          "scatter3d": [
           {
            "line": {
             "colorbar": {
              "outlinewidth": 0,
              "ticks": ""
             }
            },
            "marker": {
             "colorbar": {
              "outlinewidth": 0,
              "ticks": ""
             }
            },
            "type": "scatter3d"
           }
          ],
          "scattercarpet": [
           {
            "marker": {
             "colorbar": {
              "outlinewidth": 0,
              "ticks": ""
             }
            },
            "type": "scattercarpet"
           }
          ],
          "scattergeo": [
           {
            "marker": {
             "colorbar": {
              "outlinewidth": 0,
              "ticks": ""
             }
            },
            "type": "scattergeo"
           }
          ],
          "scattergl": [
           {
            "marker": {
             "colorbar": {
              "outlinewidth": 0,
              "ticks": ""
             }
            },
            "type": "scattergl"
           }
          ],
          "scattermapbox": [
           {
            "marker": {
             "colorbar": {
              "outlinewidth": 0,
              "ticks": ""
             }
            },
            "type": "scattermapbox"
           }
          ],
          "scatterpolar": [
           {
            "marker": {
             "colorbar": {
              "outlinewidth": 0,
              "ticks": ""
             }
            },
            "type": "scatterpolar"
           }
          ],
          "scatterpolargl": [
           {
            "marker": {
             "colorbar": {
              "outlinewidth": 0,
              "ticks": ""
             }
            },
            "type": "scatterpolargl"
           }
          ],
          "scatterternary": [
           {
            "marker": {
             "colorbar": {
              "outlinewidth": 0,
              "ticks": ""
             }
            },
            "type": "scatterternary"
           }
          ],
          "surface": [
           {
            "colorbar": {
             "outlinewidth": 0,
             "ticks": ""
            },
            "colorscale": [
             [
              0,
              "#0d0887"
             ],
             [
              0.1111111111111111,
              "#46039f"
             ],
             [
              0.2222222222222222,
              "#7201a8"
             ],
             [
              0.3333333333333333,
              "#9c179e"
             ],
             [
              0.4444444444444444,
              "#bd3786"
             ],
             [
              0.5555555555555556,
              "#d8576b"
             ],
             [
              0.6666666666666666,
              "#ed7953"
             ],
             [
              0.7777777777777778,
              "#fb9f3a"
             ],
             [
              0.8888888888888888,
              "#fdca26"
             ],
             [
              1,
              "#f0f921"
             ]
            ],
            "type": "surface"
           }
          ],
          "table": [
           {
            "cells": {
             "fill": {
              "color": "#EBF0F8"
             },
             "line": {
              "color": "white"
             }
            },
            "header": {
             "fill": {
              "color": "#C8D4E3"
             },
             "line": {
              "color": "white"
             }
            },
            "type": "table"
           }
          ]
         },
         "layout": {
          "annotationdefaults": {
           "arrowcolor": "#2a3f5f",
           "arrowhead": 0,
           "arrowwidth": 1
          },
          "autotypenumbers": "strict",
          "coloraxis": {
           "colorbar": {
            "outlinewidth": 0,
            "ticks": ""
           }
          },
          "colorscale": {
           "diverging": [
            [
             0,
             "#8e0152"
            ],
            [
             0.1,
             "#c51b7d"
            ],
            [
             0.2,
             "#de77ae"
            ],
            [
             0.3,
             "#f1b6da"
            ],
            [
             0.4,
             "#fde0ef"
            ],
            [
             0.5,
             "#f7f7f7"
            ],
            [
             0.6,
             "#e6f5d0"
            ],
            [
             0.7,
             "#b8e186"
            ],
            [
             0.8,
             "#7fbc41"
            ],
            [
             0.9,
             "#4d9221"
            ],
            [
             1,
             "#276419"
            ]
           ],
           "sequential": [
            [
             0,
             "#0d0887"
            ],
            [
             0.1111111111111111,
             "#46039f"
            ],
            [
             0.2222222222222222,
             "#7201a8"
            ],
            [
             0.3333333333333333,
             "#9c179e"
            ],
            [
             0.4444444444444444,
             "#bd3786"
            ],
            [
             0.5555555555555556,
             "#d8576b"
            ],
            [
             0.6666666666666666,
             "#ed7953"
            ],
            [
             0.7777777777777778,
             "#fb9f3a"
            ],
            [
             0.8888888888888888,
             "#fdca26"
            ],
            [
             1,
             "#f0f921"
            ]
           ],
           "sequentialminus": [
            [
             0,
             "#0d0887"
            ],
            [
             0.1111111111111111,
             "#46039f"
            ],
            [
             0.2222222222222222,
             "#7201a8"
            ],
            [
             0.3333333333333333,
             "#9c179e"
            ],
            [
             0.4444444444444444,
             "#bd3786"
            ],
            [
             0.5555555555555556,
             "#d8576b"
            ],
            [
             0.6666666666666666,
             "#ed7953"
            ],
            [
             0.7777777777777778,
             "#fb9f3a"
            ],
            [
             0.8888888888888888,
             "#fdca26"
            ],
            [
             1,
             "#f0f921"
            ]
           ]
          },
          "colorway": [
           "#636efa",
           "#EF553B",
           "#00cc96",
           "#ab63fa",
           "#FFA15A",
           "#19d3f3",
           "#FF6692",
           "#B6E880",
           "#FF97FF",
           "#FECB52"
          ],
          "font": {
           "color": "#2a3f5f"
          },
          "geo": {
           "bgcolor": "white",
           "lakecolor": "white",
           "landcolor": "#E5ECF6",
           "showlakes": true,
           "showland": true,
           "subunitcolor": "white"
          },
          "hoverlabel": {
           "align": "left"
          },
          "hovermode": "closest",
          "mapbox": {
           "style": "light"
          },
          "paper_bgcolor": "white",
          "plot_bgcolor": "#E5ECF6",
          "polar": {
           "angularaxis": {
            "gridcolor": "white",
            "linecolor": "white",
            "ticks": ""
           },
           "bgcolor": "#E5ECF6",
           "radialaxis": {
            "gridcolor": "white",
            "linecolor": "white",
            "ticks": ""
           }
          },
          "scene": {
           "xaxis": {
            "backgroundcolor": "#E5ECF6",
            "gridcolor": "white",
            "gridwidth": 2,
            "linecolor": "white",
            "showbackground": true,
            "ticks": "",
            "zerolinecolor": "white"
           },
           "yaxis": {
            "backgroundcolor": "#E5ECF6",
            "gridcolor": "white",
            "gridwidth": 2,
            "linecolor": "white",
            "showbackground": true,
            "ticks": "",
            "zerolinecolor": "white"
           },
           "zaxis": {
            "backgroundcolor": "#E5ECF6",
            "gridcolor": "white",
            "gridwidth": 2,
            "linecolor": "white",
            "showbackground": true,
            "ticks": "",
            "zerolinecolor": "white"
           }
          },
          "shapedefaults": {
           "line": {
            "color": "#2a3f5f"
           }
          },
          "ternary": {
           "aaxis": {
            "gridcolor": "white",
            "linecolor": "white",
            "ticks": ""
           },
           "baxis": {
            "gridcolor": "white",
            "linecolor": "white",
            "ticks": ""
           },
           "bgcolor": "#E5ECF6",
           "caxis": {
            "gridcolor": "white",
            "linecolor": "white",
            "ticks": ""
           }
          },
          "title": {
           "x": 0.05
          },
          "xaxis": {
           "automargin": true,
           "gridcolor": "white",
           "linecolor": "white",
           "ticks": "",
           "title": {
            "standoff": 15
           },
           "zerolinecolor": "white",
           "zerolinewidth": 2
          },
          "yaxis": {
           "automargin": true,
           "gridcolor": "white",
           "linecolor": "white",
           "ticks": "",
           "title": {
            "standoff": 15
           },
           "zerolinecolor": "white",
           "zerolinewidth": 2
          }
         }
        },
        "title": {
         "text": "Optimization History Plot"
        },
        "xaxis": {
         "title": {
          "text": "Trial"
         }
        },
        "yaxis": {
         "title": {
          "text": "Objective Value"
         }
        }
       }
      }
     },
     "metadata": {},
     "output_type": "display_data"
    }
   ],
   "source": [
    "# # plot\n",
    "optuna.visualization.plot_optimization_history(study)\n",
    "\n",
    "\n",
    "\n"
   ]
  },
  {
   "cell_type": "code",
   "execution_count": 69,
   "metadata": {},
   "outputs": [
    {
     "name": "stdout",
     "output_type": "stream",
     "text": [
      "    number   value               duration     state\n",
      "0        0  0.6711 0 days 00:13:31.327249  COMPLETE\n",
      "1        1  0.6615 0 days 00:12:44.539347  COMPLETE\n",
      "2        2  0.6270 0 days 00:07:14.090987  COMPLETE\n",
      "3        3  0.6346 0 days 00:14:51.955923  COMPLETE\n",
      "4        4  0.6307 0 days 00:06:20.888318  COMPLETE\n",
      "5        5  0.4101 0 days 00:01:20.844113    PRUNED\n",
      "6        6  0.1969 0 days 00:00:37.976085    PRUNED\n",
      "7        7  0.1421 0 days 00:00:39.972217    PRUNED\n",
      "8        8  0.3469 0 days 00:00:40.428792    PRUNED\n",
      "9        9  0.4579 0 days 00:01:20.440230    PRUNED\n",
      "10      10  0.4964 0 days 00:01:56.873563    PRUNED\n",
      "11      11  0.1232 0 days 00:00:37.937776    PRUNED\n",
      "12      12  0.6061 0 days 00:08:10.919902    PRUNED\n",
      "13      13  0.5697 0 days 00:04:17.851790    PRUNED\n",
      "14      14  0.1043 0 days 00:00:42.118091    PRUNED\n",
      "15      15  0.1239 0 days 00:00:47.191065    PRUNED\n",
      "16      16  0.1452 0 days 00:00:39.242506    PRUNED\n",
      "17      17  0.1058 0 days 00:00:39.995487    PRUNED\n",
      "18      18  0.2953 0 days 00:00:41.274188    PRUNED\n",
      "19      19  0.4790 0 days 00:02:10.991674    PRUNED\n",
      "Total duration of model training:  0 days 01:20:06.859303\n"
     ]
    }
   ],
   "source": [
    "#show result of study like duration, value, state\n",
    "df = study.trials_dataframe(attrs=(\"number\", \"value\",   'duration', 'state'))\n",
    "print(df)\n",
    "\n",
    "#total duration of model training\n",
    "print('Total duration of model training: ', df['duration'].sum())\n"
   ]
  },
  {
   "attachments": {},
   "cell_type": "markdown",
   "metadata": {},
   "source": [
    "### Results Random search with Optuna"
   ]
  },
  {
   "cell_type": "code",
   "execution_count": 71,
   "metadata": {},
   "outputs": [
    {
     "name": "stdout",
     "output_type": "stream",
     "text": [
      "Beste trial was:  0\n",
      "Best value is:  0.6711000204086304\n",
      "Time to train the best model:  0 days 00:14:51.955923\n",
      "Total time to train all models:  0 days 01:20:06.859303\n"
     ]
    }
   ],
   "source": [
    "print('Beste trial was: ', study.best_trial.number)\n",
    "\n",
    "# de beste value is\n",
    "print('Best value is: ', df['value'].max())\n",
    "# time to train the best model\n",
    "print('Time to train the best model: ', df['duration'].max())\n",
    "# total time to train all models\n",
    "print('Total time to train all models: ', df['duration'].sum())"
   ]
  },
  {
   "cell_type": "code",
   "execution_count": null,
   "metadata": {},
   "outputs": [],
   "source": [
    "# The random search has done 20 trials and the best model has an accuracy of 67.11%\n",
    "#the total time to train all models is 1.20 hour\n"
   ]
  },
  {
   "attachments": {},
   "cell_type": "markdown",
   "metadata": {},
   "source": [
    "### Manually using Random search\n",
    "\n",
    "We are now going to manually tune the hyperparameters with random search (sklearn).<br>\n",
    "IMPORTANT: the model will be slightly less complex (less nodes) and the search space will be smaller.<br>\n",
    "This is to make the search faster because without Optuna, we are limited in how complex the model is and how big the search space may be, otherwise you will get memory errors and problems!"
   ]
  },
  {
   "cell_type": "code",
   "execution_count": 19,
   "metadata": {},
   "outputs": [],
   "source": [
    "def model_randomsearch_manueel(optimizer='adam',activation = 'relu',dropout_rate = 0.3, kernel_initializer='uniform',neurons = 32):\n",
    "    \n",
    "    model = Sequential()\n",
    "\n",
    "    model.add(Conv2D(32, kernel_size=(3, 3),activation=activation,kernel_initializer=kernel_initializer,input_shape=X_train.shape[1:]))\n",
    "    model.add(Dense(neurons, kernel_initializer=kernel_initializer,activation=\"relu\"))\n",
    "\n",
    "    model.add(Conv2D(32, (3, 3), activation=activation))\n",
    "    model.add(MaxPooling2D(pool_size=(2, 2)))\n",
    "    model.add(Flatten())\n",
    "\n",
    "   \n",
    "    \n",
    "    model.add(Dropout(dropout_rate))\n",
    "    model.add(BatchNormalization())\n",
    "    model.add(Dense(neurons, kernel_initializer=kernel_initializer,activation='relu'))\n",
    "    model.add(Dropout(dropout_rate))\n",
    "    model.add(BatchNormalization())\n",
    "    model.add(Dense(neurons, kernel_initializer=kernel_initializer,activation='relu'))\n",
    "    model.add(Dropout(dropout_rate))\n",
    "    model.add(BatchNormalization())\n",
    "    model.add(Dense(10, activation='softmax'))\n",
    "\n",
    "    model.compile(loss='categorical_crossentropy',optimizer=optimizer,metrics=['accuracy']) \n",
    "\n",
    "\n",
    "\n",
    "    return model"
   ]
  },
  {
   "cell_type": "code",
   "execution_count": 20,
   "metadata": {},
   "outputs": [
    {
     "name": "stderr",
     "output_type": "stream",
     "text": [
      "C:\\Users\\domin\\AppData\\Local\\Temp\\ipykernel_30740\\1696871409.py:6: DeprecationWarning: KerasClassifier is deprecated, use Sci-Keras (https://github.com/adriangb/scikeras) instead. See https://www.adriangb.com/scikeras/stable/migration.html for help migrating.\n",
      "  model = KerasClassifier(build_fn=model_randomsearch_manueel, verbose=0, batch_size=8, epochs=10)\n"
     ]
    },
    {
     "name": "stdout",
     "output_type": "stream",
     "text": [
      "Fitting 5 folds for each of 10 candidates, totalling 50 fits\n",
      "[CV] END batch_size=16, dropout_rate=0.5, epochs=20, neurons=20; total time= 8.7min\n",
      "[CV] END batch_size=16, dropout_rate=0.5, epochs=20, neurons=20; total time= 8.8min\n",
      "[CV] END batch_size=16, dropout_rate=0.5, epochs=20, neurons=20; total time= 8.9min\n",
      "[CV] END batch_size=16, dropout_rate=0.5, epochs=20, neurons=20; total time= 9.7min\n",
      "[CV] END batch_size=16, dropout_rate=0.5, epochs=20, neurons=20; total time= 8.9min\n",
      "[CV] END batch_size=8, dropout_rate=0.1, epochs=20, neurons=5; total time= 7.4min\n",
      "[CV] END batch_size=8, dropout_rate=0.1, epochs=20, neurons=5; total time= 7.2min\n",
      "[CV] END batch_size=8, dropout_rate=0.1, epochs=20, neurons=5; total time= 7.1min\n",
      "[CV] END batch_size=8, dropout_rate=0.1, epochs=20, neurons=5; total time= 7.4min\n",
      "[CV] END batch_size=8, dropout_rate=0.1, epochs=20, neurons=5; total time= 7.0min\n",
      "[CV] END batch_size=16, dropout_rate=0.0, epochs=20, neurons=5; total time= 5.3min\n",
      "[CV] END batch_size=16, dropout_rate=0.0, epochs=20, neurons=5; total time= 5.2min\n",
      "[CV] END batch_size=16, dropout_rate=0.0, epochs=20, neurons=5; total time= 5.1min\n",
      "[CV] END batch_size=16, dropout_rate=0.0, epochs=20, neurons=5; total time= 5.3min\n",
      "[CV] END batch_size=16, dropout_rate=0.0, epochs=20, neurons=5; total time= 5.4min\n",
      "[CV] END batch_size=32, dropout_rate=0.1, epochs=20, neurons=5; total time= 5.0min\n",
      "[CV] END batch_size=32, dropout_rate=0.1, epochs=20, neurons=5; total time= 4.9min\n",
      "[CV] END batch_size=32, dropout_rate=0.1, epochs=20, neurons=5; total time= 4.8min\n",
      "[CV] END batch_size=32, dropout_rate=0.1, epochs=20, neurons=5; total time= 4.9min\n",
      "[CV] END batch_size=32, dropout_rate=0.1, epochs=20, neurons=5; total time= 6.6min\n",
      "[CV] END batch_size=32, dropout_rate=0.1, epochs=20, neurons=30; total time=11.6min\n",
      "[CV] END batch_size=32, dropout_rate=0.1, epochs=20, neurons=30; total time=11.0min\n",
      "[CV] END batch_size=32, dropout_rate=0.1, epochs=20, neurons=30; total time=11.4min\n",
      "[CV] END batch_size=32, dropout_rate=0.1, epochs=20, neurons=30; total time=11.4min\n",
      "[CV] END batch_size=32, dropout_rate=0.1, epochs=20, neurons=30; total time=11.0min\n",
      "[CV] END batch_size=8, dropout_rate=0.5, epochs=20, neurons=5; total time= 8.2min\n",
      "[CV] END batch_size=8, dropout_rate=0.5, epochs=20, neurons=5; total time= 7.7min\n",
      "[CV] END batch_size=8, dropout_rate=0.5, epochs=20, neurons=5; total time= 9.6min\n",
      "[CV] END batch_size=8, dropout_rate=0.5, epochs=20, neurons=5; total time= 8.8min\n",
      "[CV] END batch_size=8, dropout_rate=0.5, epochs=20, neurons=5; total time= 8.5min\n",
      "[CV] END batch_size=16, dropout_rate=0.5, epochs=20, neurons=5; total time= 6.6min\n",
      "[CV] END batch_size=16, dropout_rate=0.5, epochs=20, neurons=5; total time= 5.9min\n",
      "[CV] END batch_size=16, dropout_rate=0.5, epochs=20, neurons=5; total time= 5.9min\n",
      "[CV] END batch_size=16, dropout_rate=0.5, epochs=20, neurons=5; total time= 5.9min\n",
      "[CV] END batch_size=16, dropout_rate=0.5, epochs=20, neurons=5; total time=13.0min\n",
      "[CV] END batch_size=8, dropout_rate=0.1, epochs=20, neurons=20; total time=13.1min\n",
      "[CV] END batch_size=8, dropout_rate=0.1, epochs=20, neurons=20; total time=21.9min\n",
      "[CV] END batch_size=8, dropout_rate=0.1, epochs=20, neurons=20; total time=22.6min\n",
      "[CV] END batch_size=8, dropout_rate=0.1, epochs=20, neurons=20; total time=22.3min\n",
      "[CV] END batch_size=8, dropout_rate=0.1, epochs=20, neurons=20; total time=21.4min\n",
      "[CV] END batch_size=32, dropout_rate=0.0, epochs=20, neurons=10; total time=11.2min\n",
      "[CV] END batch_size=32, dropout_rate=0.0, epochs=20, neurons=10; total time=10.3min\n",
      "[CV] END batch_size=32, dropout_rate=0.0, epochs=20, neurons=10; total time= 9.9min\n",
      "[CV] END batch_size=32, dropout_rate=0.0, epochs=20, neurons=10; total time= 8.8min\n",
      "[CV] END batch_size=32, dropout_rate=0.0, epochs=20, neurons=10; total time= 8.3min\n",
      "[CV] END batch_size=16, dropout_rate=0.5, epochs=20, neurons=10; total time=10.5min\n",
      "[CV] END batch_size=16, dropout_rate=0.5, epochs=20, neurons=10; total time=11.8min\n",
      "[CV] END batch_size=16, dropout_rate=0.5, epochs=20, neurons=10; total time=12.0min\n",
      "[CV] END batch_size=16, dropout_rate=0.5, epochs=20, neurons=10; total time=12.7min\n",
      "[CV] END batch_size=16, dropout_rate=0.5, epochs=20, neurons=10; total time=12.9min\n"
     ]
    },
    {
     "data": {
      "text/html": [
       "<style>#sk-container-id-1 {color: black;background-color: white;}#sk-container-id-1 pre{padding: 0;}#sk-container-id-1 div.sk-toggleable {background-color: white;}#sk-container-id-1 label.sk-toggleable__label {cursor: pointer;display: block;width: 100%;margin-bottom: 0;padding: 0.3em;box-sizing: border-box;text-align: center;}#sk-container-id-1 label.sk-toggleable__label-arrow:before {content: \"▸\";float: left;margin-right: 0.25em;color: #696969;}#sk-container-id-1 label.sk-toggleable__label-arrow:hover:before {color: black;}#sk-container-id-1 div.sk-estimator:hover label.sk-toggleable__label-arrow:before {color: black;}#sk-container-id-1 div.sk-toggleable__content {max-height: 0;max-width: 0;overflow: hidden;text-align: left;background-color: #f0f8ff;}#sk-container-id-1 div.sk-toggleable__content pre {margin: 0.2em;color: black;border-radius: 0.25em;background-color: #f0f8ff;}#sk-container-id-1 input.sk-toggleable__control:checked~div.sk-toggleable__content {max-height: 200px;max-width: 100%;overflow: auto;}#sk-container-id-1 input.sk-toggleable__control:checked~label.sk-toggleable__label-arrow:before {content: \"▾\";}#sk-container-id-1 div.sk-estimator input.sk-toggleable__control:checked~label.sk-toggleable__label {background-color: #d4ebff;}#sk-container-id-1 div.sk-label input.sk-toggleable__control:checked~label.sk-toggleable__label {background-color: #d4ebff;}#sk-container-id-1 input.sk-hidden--visually {border: 0;clip: rect(1px 1px 1px 1px);clip: rect(1px, 1px, 1px, 1px);height: 1px;margin: -1px;overflow: hidden;padding: 0;position: absolute;width: 1px;}#sk-container-id-1 div.sk-estimator {font-family: monospace;background-color: #f0f8ff;border: 1px dotted black;border-radius: 0.25em;box-sizing: border-box;margin-bottom: 0.5em;}#sk-container-id-1 div.sk-estimator:hover {background-color: #d4ebff;}#sk-container-id-1 div.sk-parallel-item::after {content: \"\";width: 100%;border-bottom: 1px solid gray;flex-grow: 1;}#sk-container-id-1 div.sk-label:hover label.sk-toggleable__label {background-color: #d4ebff;}#sk-container-id-1 div.sk-serial::before {content: \"\";position: absolute;border-left: 1px solid gray;box-sizing: border-box;top: 0;bottom: 0;left: 50%;z-index: 0;}#sk-container-id-1 div.sk-serial {display: flex;flex-direction: column;align-items: center;background-color: white;padding-right: 0.2em;padding-left: 0.2em;position: relative;}#sk-container-id-1 div.sk-item {position: relative;z-index: 1;}#sk-container-id-1 div.sk-parallel {display: flex;align-items: stretch;justify-content: center;background-color: white;position: relative;}#sk-container-id-1 div.sk-item::before, #sk-container-id-1 div.sk-parallel-item::before {content: \"\";position: absolute;border-left: 1px solid gray;box-sizing: border-box;top: 0;bottom: 0;left: 50%;z-index: -1;}#sk-container-id-1 div.sk-parallel-item {display: flex;flex-direction: column;z-index: 1;position: relative;background-color: white;}#sk-container-id-1 div.sk-parallel-item:first-child::after {align-self: flex-end;width: 50%;}#sk-container-id-1 div.sk-parallel-item:last-child::after {align-self: flex-start;width: 50%;}#sk-container-id-1 div.sk-parallel-item:only-child::after {width: 0;}#sk-container-id-1 div.sk-dashed-wrapped {border: 1px dashed gray;margin: 0 0.4em 0.5em 0.4em;box-sizing: border-box;padding-bottom: 0.4em;background-color: white;}#sk-container-id-1 div.sk-label label {font-family: monospace;font-weight: bold;display: inline-block;line-height: 1.2em;}#sk-container-id-1 div.sk-label-container {text-align: center;}#sk-container-id-1 div.sk-container {/* jupyter's `normalize.less` sets `[hidden] { display: none; }` but bootstrap.min.css set `[hidden] { display: none !important; }` so we also need the `!important` here to be able to override the default hidden behavior on the sphinx rendered scikit-learn.org. See: https://github.com/scikit-learn/scikit-learn/issues/21755 */display: inline-block !important;position: relative;}#sk-container-id-1 div.sk-text-repr-fallback {display: none;}</style><div id=\"sk-container-id-1\" class=\"sk-top-container\"><div class=\"sk-text-repr-fallback\"><pre>RandomizedSearchCV(estimator=&lt;keras.wrappers.scikit_learn.KerasClassifier object at 0x0000011DF2986BC0&gt;,\n",
       "                   param_distributions={&#x27;batch_size&#x27;: [8, 16, 32],\n",
       "                                        &#x27;dropout_rate&#x27;: [0.0, 0.1, 0.5],\n",
       "                                        &#x27;epochs&#x27;: [20],\n",
       "                                        &#x27;neurons&#x27;: [5, 10, 20, 30]},\n",
       "                   verbose=2)</pre><b>In a Jupyter environment, please rerun this cell to show the HTML representation or trust the notebook. <br />On GitHub, the HTML representation is unable to render, please try loading this page with nbviewer.org.</b></div><div class=\"sk-container\" hidden><div class=\"sk-item sk-dashed-wrapped\"><div class=\"sk-label-container\"><div class=\"sk-label sk-toggleable\"><input class=\"sk-toggleable__control sk-hidden--visually\" id=\"sk-estimator-id-1\" type=\"checkbox\" ><label for=\"sk-estimator-id-1\" class=\"sk-toggleable__label sk-toggleable__label-arrow\">RandomizedSearchCV</label><div class=\"sk-toggleable__content\"><pre>RandomizedSearchCV(estimator=&lt;keras.wrappers.scikit_learn.KerasClassifier object at 0x0000011DF2986BC0&gt;,\n",
       "                   param_distributions={&#x27;batch_size&#x27;: [8, 16, 32],\n",
       "                                        &#x27;dropout_rate&#x27;: [0.0, 0.1, 0.5],\n",
       "                                        &#x27;epochs&#x27;: [20],\n",
       "                                        &#x27;neurons&#x27;: [5, 10, 20, 30]},\n",
       "                   verbose=2)</pre></div></div></div><div class=\"sk-parallel\"><div class=\"sk-parallel-item\"><div class=\"sk-item\"><div class=\"sk-label-container\"><div class=\"sk-label sk-toggleable\"><input class=\"sk-toggleable__control sk-hidden--visually\" id=\"sk-estimator-id-2\" type=\"checkbox\" ><label for=\"sk-estimator-id-2\" class=\"sk-toggleable__label sk-toggleable__label-arrow\">estimator: KerasClassifier</label><div class=\"sk-toggleable__content\"><pre>&lt;keras.wrappers.scikit_learn.KerasClassifier object at 0x0000011DF2986BC0&gt;</pre></div></div></div><div class=\"sk-serial\"><div class=\"sk-item\"><div class=\"sk-estimator sk-toggleable\"><input class=\"sk-toggleable__control sk-hidden--visually\" id=\"sk-estimator-id-3\" type=\"checkbox\" ><label for=\"sk-estimator-id-3\" class=\"sk-toggleable__label sk-toggleable__label-arrow\">KerasClassifier</label><div class=\"sk-toggleable__content\"><pre>&lt;keras.wrappers.scikit_learn.KerasClassifier object at 0x0000011DF2986BC0&gt;</pre></div></div></div></div></div></div></div></div></div></div>"
      ],
      "text/plain": [
       "RandomizedSearchCV(estimator=<keras.wrappers.scikit_learn.KerasClassifier object at 0x0000011DF2986BC0>,\n",
       "                   param_distributions={'batch_size': [8, 16, 32],\n",
       "                                        'dropout_rate': [0.0, 0.1, 0.5],\n",
       "                                        'epochs': [20],\n",
       "                                        'neurons': [5, 10, 20, 30]},\n",
       "                   verbose=2)"
      ]
     },
     "execution_count": 20,
     "metadata": {},
     "output_type": "execute_result"
    }
   ],
   "source": [
    "# Create a based model\n",
    "\n",
    "from keras.wrappers.scikit_learn import KerasClassifier\n",
    "from sklearn.model_selection import RandomizedSearchCV\n",
    "\n",
    "model = KerasClassifier(build_fn=model_randomsearch_manueel, verbose=0, batch_size=8, epochs=10)\n",
    "\n",
    "dropout_rate = [0.0, 0.1, 0.5]\n",
    "#weight_constraint=[1, 2, 3, 4, 5]\n",
    "neurons = [5, 10, 20, 30]\n",
    "\n",
    "epochs = [20 ] \n",
    "batch_size = [8, 16, 32]\n",
    "\n",
    "param_grid = dict(dropout_rate=dropout_rate, neurons=neurons, batch_size=batch_size, epochs=epochs)\n",
    "\n",
    "# Random search of parameters, using 3 fold cross validation,\n",
    "# search across 100 different combinations, and use all available cores\n",
    "random_search = RandomizedSearchCV(estimator=model, param_distributions=param_grid,  verbose=2)\n",
    "random_search.fit(X_train, y_train)\n",
    "\n",
    "\n",
    "\n"
   ]
  },
  {
   "cell_type": "code",
   "execution_count": 21,
   "metadata": {},
   "outputs": [
    {
     "name": "stdout",
     "output_type": "stream",
     "text": [
      "Best: 0.648150 using {'neurons': 30, 'epochs': 20, 'dropout_rate': 0.1, 'batch_size': 32}\n",
      "0.310375 (0.014923) with: {'neurons': 20, 'epochs': 20, 'dropout_rate': 0.5, 'batch_size': 16}\n",
      "0.405275 (0.024839) with: {'neurons': 5, 'epochs': 20, 'dropout_rate': 0.1, 'batch_size': 8}\n",
      "0.421875 (0.127633) with: {'neurons': 5, 'epochs': 20, 'dropout_rate': 0.0, 'batch_size': 16}\n",
      "0.323125 (0.187126) with: {'neurons': 5, 'epochs': 20, 'dropout_rate': 0.1, 'batch_size': 32}\n",
      "0.648150 (0.005338) with: {'neurons': 30, 'epochs': 20, 'dropout_rate': 0.1, 'batch_size': 32}\n",
      "0.128700 (0.035152) with: {'neurons': 5, 'epochs': 20, 'dropout_rate': 0.5, 'batch_size': 8}\n",
      "0.132625 (0.041681) with: {'neurons': 5, 'epochs': 20, 'dropout_rate': 0.5, 'batch_size': 16}\n",
      "0.609200 (0.014129) with: {'neurons': 20, 'epochs': 20, 'dropout_rate': 0.1, 'batch_size': 8}\n",
      "0.586825 (0.015849) with: {'neurons': 10, 'epochs': 20, 'dropout_rate': 0.0, 'batch_size': 32}\n",
      "0.135825 (0.042829) with: {'neurons': 10, 'epochs': 20, 'dropout_rate': 0.5, 'batch_size': 16}\n"
     ]
    }
   ],
   "source": [
    "# summarize results\n",
    "print(\"Best: %f using %s\" % (random_search.best_score_, random_search.best_params_))\n",
    "means = random_search.cv_results_['mean_test_score']\n",
    "stds = random_search.cv_results_['std_test_score']\n",
    "params = random_search.cv_results_['params']\n",
    "for mean, stdev, param in zip(means, stds, params):\n",
    "    print(\"%f (%f) with: %r\" % (mean, stdev, param))\n",
    "    "
   ]
  },
  {
   "attachments": {},
   "cell_type": "markdown",
   "metadata": {},
   "source": [
    "### Results Random search manually\n"
   ]
  },
  {
   "attachments": {},
   "cell_type": "markdown",
   "metadata": {},
   "source": [
    "We achieved 64.81% accuracy with manual random search as the best result<br>\n",
    "This is still with a slightly simple model and search space to limit the time.\n",
    "\n",
    "The time it took to find the best parameters was 540 minutes(!) compared to around 1 hour with random search with Optuna."
   ]
  },
  {
   "cell_type": "markdown",
   "metadata": {},
   "source": []
  }
 ],
 "metadata": {
  "kernelspec": {
   "display_name": "Python 3",
   "language": "python",
   "name": "python3"
  },
  "language_info": {
   "codemirror_mode": {
    "name": "ipython",
    "version": 3
   },
   "file_extension": ".py",
   "mimetype": "text/x-python",
   "name": "python",
   "nbconvert_exporter": "python",
   "pygments_lexer": "ipython3",
   "version": "3.10.4"
  },
  "orig_nbformat": 4,
  "vscode": {
   "interpreter": {
    "hash": "ec8e037e8dc204d3d865c2c299d9f950a845b1569963e458e46239ef266b6b39"
   }
  }
 },
 "nbformat": 4,
 "nbformat_minor": 2
}
